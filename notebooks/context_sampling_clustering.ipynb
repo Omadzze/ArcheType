{
 "cells": [
  {
   "cell_type": "code",
   "execution_count": 1,
   "metadata": {},
   "outputs": [],
   "source": [
    "# !pip install sentence_transformers\n",
    "# !git clone https://github.com/flipz357/S3BERT\n",
    "# !wget https://www.cl.uni-heidelberg.de/~opitz/data/s3bert_all-mpnet-base-v2.tar.gz\n",
    "# !wget https://www.cl.uni-heidelberg.de/~opitz/data/config_s3bert_all-mpnet-base-v2.py\n",
    "# !tar -xzvf s3bert_all-mpnet-base-v2.tar.gz\n",
    "# !mv config_s3bert_all-mpnet-base-v2.py config.py\n",
    "# !pip install --upgrade pip\n",
    "# !pip install --upgrade openai\n",
    "# !pip install --upgrade python-dotenv\n",
    "# !pip install catboost retry llama-index polars"
   ]
  },
  {
   "cell_type": "code",
   "execution_count": 27,
   "metadata": {},
   "outputs": [],
   "source": [
    "import pandas as pd\n",
    "from pathlib import Path\n",
    "from table_understanding.context_sample import *\n",
    "from tqdm.auto import tqdm\n",
    "import json\n",
    "from sklearn.cluster import OPTICS, cluster_optics_dbscan\n",
    "import os\n",
    "import signal\n",
    "from ast import literal_eval\n",
    "#https://scikit-learn.org/stable/auto_examples/cluster/plot_optics.html"
   ]
  },
  {
   "cell_type": "code",
   "execution_count": 3,
   "metadata": {},
   "outputs": [],
   "source": [
    "import ast\n",
    "import numpy as np\n",
    "from sentence_transformers import SentenceTransformer\n",
    "import config\n",
    "import S3BERT.src.prediction_helpers as ph\n",
    "import torch\n",
    "from operator import itemgetter"
   ]
  },
  {
   "cell_type": "code",
   "execution_count": 4,
   "metadata": {},
   "outputs": [
    {
     "name": "stdout",
     "output_type": "stream",
     "text": [
      "cuda\n"
     ]
    }
   ],
   "source": [
    "use_cuda = torch.cuda.is_available()\n",
    "device = torch.device(\"cuda\" if use_cuda else \"cpu\")\n",
    "print(device)\n",
    "# get decomposed model\n",
    "model = SentenceTransformer(\"./\" + config.SBERT_SAVE_PATH + \"/\", device=device)"
   ]
  },
  {
   "cell_type": "code",
   "execution_count": 5,
   "metadata": {},
   "outputs": [],
   "source": [
    "def s3bert_preds(xsent_encoded, ysent_encoded):\n",
    "  # get similarity scores of different features\n",
    "  preds = ph.get_preds(xsent_encoded, ysent_encoded, biases=None, n=config.N, dim=config.FEATURE_DIM)\n",
    "\n",
    "  # print similarity scores of different features\n",
    "  features = [\"global\"] + config.FEATURES[2:] + [\"residual\"]\n",
    "  jl_save = {}\n",
    "  for i, x in enumerate(xsent_encoded):\n",
    "      sims = preds[i]\n",
    "      jl = {k:v for k,v in zip(features, sims)}\n",
    "  return jl\n",
    "\n",
    "def s3bert_encode(xsent):\n",
    "    return model.encode(xsent)"
   ]
  },
  {
   "cell_type": "code",
   "execution_count": 6,
   "metadata": {},
   "outputs": [
    {
     "data": {
      "text/plain": [
       "<Handlers.SIG_DFL: 0>"
      ]
     },
     "execution_count": 6,
     "metadata": {},
     "output_type": "execute_result"
    }
   ],
   "source": [
    "def handler(signum, frame):\n",
    "   raise Exception(\"end of time\")\n",
    "signal.signal(signal.SIGALRM, handler)"
   ]
  },
  {
   "cell_type": "code",
   "execution_count": 7,
   "metadata": {},
   "outputs": [],
   "source": [
    "NYC_PATH = Path(\"/scratch/bf996/datasets/socrata/data/data.cityofnewyork.us\")\n",
    "TARGET_PATH = Path(\"/scratch/bf996/datasets/socrata/nyc_context.csv\")\n",
    "nyc_dfs = list(NYC_PATH.rglob(\"**/*.csv\"))\n",
    "nyc_metadata = list(NYC_PATH.rglob(\"**/*.json\"))"
   ]
  },
  {
   "cell_type": "code",
   "execution_count": 8,
   "metadata": {},
   "outputs": [
    {
     "data": {
      "text/plain": [
       "2789"
      ]
     },
     "execution_count": 8,
     "metadata": {},
     "output_type": "execute_result"
    }
   ],
   "source": [
    "len(nyc_dfs)"
   ]
  },
  {
   "cell_type": "code",
   "execution_count": 11,
   "metadata": {},
   "outputs": [],
   "source": [
    "context_length=10"
   ]
  },
  {
   "attachments": {},
   "cell_type": "markdown",
   "metadata": {},
   "source": [
    "## Main Loop for Generating Context Dataframe"
   ]
  },
  {
   "cell_type": "code",
   "execution_count": 12,
   "metadata": {},
   "outputs": [
    {
     "name": "stderr",
     "output_type": "stream",
     "text": [
      "\r\n",
      "0it [00:00, ?it/s]"
     ]
    },
    {
     "name": "stdout",
     "output_type": "stream",
     "text": [
      "Exception single positional indexer is out-of-bounds for dataframe /scratch/bf996/datasets/socrata/data/data.cityofnewyork.us/data-cityofnewyork-us.kkng-ugna.rows.csv\n"
     ]
    },
    {
     "name": "stderr",
     "output_type": "stream",
     "text": [
      "6it [00:10,  1.10it/s]"
     ]
    },
    {
     "name": "stdout",
     "output_type": "stream",
     "text": [
      "skipping /scratch/bf996/datasets/socrata/data/data.cityofnewyork.us/data-cityofnewyork-us.7ym2-wayt.rows.csv \n",
      "\n",
      "Exception No columns to parse from file for dataframe /scratch/bf996/datasets/socrata/data/data.cityofnewyork.us/data-cityofnewyork-us.rw6k-9v7e.rows.csv\n"
     ]
    },
    {
     "name": "stderr",
     "output_type": "stream",
     "text": [
      "17it [00:30,  1.21it/s]"
     ]
    },
    {
     "name": "stdout",
     "output_type": "stream",
     "text": [
      "Exception single positional indexer is out-of-bounds for dataframe /scratch/bf996/datasets/socrata/data/data.cityofnewyork.us/data-cityofnewyork-us.ebb7-mvp5.rows.csv\n",
      "Exception single positional indexer is out-of-bounds for dataframe /scratch/bf996/datasets/socrata/data/data.cityofnewyork.us/data-cityofnewyork-us.sv6e-j8t9.rows.csv\n"
     ]
    },
    {
     "name": "stderr",
     "output_type": "stream",
     "text": [
      "21it [00:31,  2.59it/s]"
     ]
    },
    {
     "name": "stdout",
     "output_type": "stream",
     "text": [
      "Exception single positional indexer is out-of-bounds for dataframe /scratch/bf996/datasets/socrata/data/data.cityofnewyork.us/data-cityofnewyork-us.f33j-ecpr.rows.csv\n"
     ]
    },
    {
     "name": "stderr",
     "output_type": "stream",
     "text": [
      "26it [01:02,  2.88s/it]"
     ]
    },
    {
     "name": "stdout",
     "output_type": "stream",
     "text": [
      "Exception single positional indexer is out-of-bounds for dataframe /scratch/bf996/datasets/socrata/data/data.cityofnewyork.us/data-cityofnewyork-us.mq6n-s45c.rows.csv\n"
     ]
    },
    {
     "name": "stderr",
     "output_type": "stream",
     "text": [
      "\r\n",
      "28it [01:03,  1.97s/it]"
     ]
    },
    {
     "name": "stdout",
     "output_type": "stream",
     "text": [
      "Exception single positional indexer is out-of-bounds for dataframe /scratch/bf996/datasets/socrata/data/data.cityofnewyork.us/data-cityofnewyork-us.p2d7-vcsb.rows.csv\n"
     ]
    },
    {
     "name": "stderr",
     "output_type": "stream",
     "text": [
      "32it [01:04,  1.13s/it]"
     ]
    },
    {
     "name": "stdout",
     "output_type": "stream",
     "text": [
      "skipping /scratch/bf996/datasets/socrata/data/data.cityofnewyork.us/data-cityofnewyork-us.bm4k-52h4.rows.csv \n",
      "\n",
      "skipping /scratch/bf996/datasets/socrata/data/data.cityofnewyork.us/data-cityofnewyork-us.jz4z-kudi.rows.csv \n",
      "\n"
     ]
    },
    {
     "name": "stderr",
     "output_type": "stream",
     "text": [
      "54it [01:23,  2.82it/s]"
     ]
    },
    {
     "name": "stdout",
     "output_type": "stream",
     "text": [
      "skipping /scratch/bf996/datasets/socrata/data/data.cityofnewyork.us/data-cityofnewyork-us.pbk5-6r7z.rows.csv \n",
      "\n"
     ]
    },
    {
     "name": "stderr",
     "output_type": "stream",
     "text": [
      "\r\n",
      "56it [01:24,  3.13it/s]"
     ]
    },
    {
     "name": "stdout",
     "output_type": "stream",
     "text": [
      "Exception single positional indexer is out-of-bounds for dataframe /scratch/bf996/datasets/socrata/data/data.cityofnewyork.us/data-cityofnewyork-us.uzmq-2khh.rows.csv\n",
      "Exception No columns to parse from file for dataframe /scratch/bf996/datasets/socrata/data/data.cityofnewyork.us/data-cityofnewyork-us.ge56-g6yt.rows.csv\n"
     ]
    },
    {
     "name": "stderr",
     "output_type": "stream",
     "text": [
      "62it [01:25,  4.29it/s]"
     ]
    },
    {
     "name": "stdout",
     "output_type": "stream",
     "text": [
      "skipping /scratch/bf996/datasets/socrata/data/data.cityofnewyork.us/data-cityofnewyork-us.tqtj-sjs8.rows.csv \n",
      "\n"
     ]
    },
    {
     "name": "stderr",
     "output_type": "stream",
     "text": [
      "72it [01:29,  4.00it/s]"
     ]
    },
    {
     "name": "stdout",
     "output_type": "stream",
     "text": [
      "Exception single positional indexer is out-of-bounds for dataframe /scratch/bf996/datasets/socrata/data/data.cityofnewyork.us/data-cityofnewyork-us.hvwa-bi3h.rows.csv\n"
     ]
    },
    {
     "name": "stderr",
     "output_type": "stream",
     "text": [
      "77it [01:30,  4.66it/s]"
     ]
    },
    {
     "name": "stdout",
     "output_type": "stream",
     "text": [
      "Exception single positional indexer is out-of-bounds for dataframe /scratch/bf996/datasets/socrata/data/data.cityofnewyork.us/data-cityofnewyork-us.23z9-6uk9.rows.csv\n"
     ]
    },
    {
     "name": "stderr",
     "output_type": "stream",
     "text": [
      "87it [01:33,  4.69it/s]"
     ]
    },
    {
     "name": "stdout",
     "output_type": "stream",
     "text": [
      "Exception single positional indexer is out-of-bounds for dataframe /scratch/bf996/datasets/socrata/data/data.cityofnewyork.us/data-cityofnewyork-us.8fei-z6rz.rows.csv\n"
     ]
    },
    {
     "name": "stderr",
     "output_type": "stream",
     "text": [
      "91it [01:34,  4.95it/s]/state/partition1/job-31563200/ipykernel_315622/1855039622.py:16: DtypeWarning: Columns (5,27) have mixed types. Specify dtype option on import or set low_memory=False.\n",
      "  df = next(chunks)\n",
      "93it [01:35,  3.48it/s]"
     ]
    },
    {
     "name": "stdout",
     "output_type": "stream",
     "text": [
      "Exception single positional indexer is out-of-bounds for dataframe /scratch/bf996/datasets/socrata/data/data.cityofnewyork.us/data-cityofnewyork-us.e25p-jzfy.rows.csv\n"
     ]
    },
    {
     "name": "stderr",
     "output_type": "stream",
     "text": [
      "97it [01:35,  5.28it/s]"
     ]
    },
    {
     "name": "stdout",
     "output_type": "stream",
     "text": [
      "Exception single positional indexer is out-of-bounds for dataframe /scratch/bf996/datasets/socrata/data/data.cityofnewyork.us/data-cityofnewyork-us.p39r-nm7f.rows.csv\n",
      "skipping /scratch/bf996/datasets/socrata/data/data.cityofnewyork.us/data-cityofnewyork-us.29bw-z7pj.rows.csv \n",
      "\n",
      "Exception single positional indexer is out-of-bounds for dataframe /scratch/bf996/datasets/socrata/data/data.cityofnewyork.us/data-cityofnewyork-us.de8q-estm.rows.csv\n",
      "skipping /scratch/bf996/datasets/socrata/data/data.cityofnewyork.us/data-cityofnewyork-us.bkfu-528j.rows.csv \n",
      "\n"
     ]
    },
    {
     "name": "stderr",
     "output_type": "stream",
     "text": [
      "104it [01:37,  5.28it/s]"
     ]
    },
    {
     "name": "stdout",
     "output_type": "stream",
     "text": [
      "Exception single positional indexer is out-of-bounds for dataframe /scratch/bf996/datasets/socrata/data/data.cityofnewyork.us/data-cityofnewyork-us.8eux-rfe8.rows.csv\n"
     ]
    },
    {
     "name": "stderr",
     "output_type": "stream",
     "text": [
      "108it [01:38,  4.56it/s]"
     ]
    },
    {
     "name": "stdout",
     "output_type": "stream",
     "text": [
      "skipping /scratch/bf996/datasets/socrata/data/data.cityofnewyork.us/data-cityofnewyork-us.wvxf-dwi5.rows.csv \n",
      "\n"
     ]
    },
    {
     "name": "stderr",
     "output_type": "stream",
     "text": [
      "\r\n",
      "109it [01:38,  4.30it/s]"
     ]
    },
    {
     "name": "stdout",
     "output_type": "stream",
     "text": [
      "Exception single positional indexer is out-of-bounds for dataframe /scratch/bf996/datasets/socrata/data/data.cityofnewyork.us/data-cityofnewyork-us.fpv2-r9br.rows.csv\n"
     ]
    },
    {
     "name": "stderr",
     "output_type": "stream",
     "text": [
      "114it [01:40,  2.98it/s]"
     ]
    },
    {
     "name": "stdout",
     "output_type": "stream",
     "text": [
      "Exception single positional indexer is out-of-bounds for dataframe /scratch/bf996/datasets/socrata/data/data.cityofnewyork.us/data-cityofnewyork-us.g4tm-nibn.rows.csv\n"
     ]
    },
    {
     "name": "stderr",
     "output_type": "stream",
     "text": [
      "126it [02:03,  1.11s/it]"
     ]
    },
    {
     "name": "stdout",
     "output_type": "stream",
     "text": [
      "Exception single positional indexer is out-of-bounds for dataframe /scratch/bf996/datasets/socrata/data/data.cityofnewyork.us/data-cityofnewyork-us.i4ni-6qin.rows.csv\n",
      "Exception single positional indexer is out-of-bounds for dataframe /scratch/bf996/datasets/socrata/data/data.cityofnewyork.us/data-cityofnewyork-us.ae5u-upr6.rows.csv\n"
     ]
    },
    {
     "name": "stderr",
     "output_type": "stream",
     "text": [
      "129it [03:17, 14.22s/it]"
     ]
    },
    {
     "name": "stdout",
     "output_type": "stream",
     "text": [
      "Exception end of time for dataframe /scratch/bf996/datasets/socrata/data/data.cityofnewyork.us/data-cityofnewyork-us.ju3b-rwpy.rows.csv\n"
     ]
    },
    {
     "name": "stderr",
     "output_type": "stream",
     "text": [
      "\r\n",
      "130it [03:18, 10.65s/it]"
     ]
    },
    {
     "name": "stdout",
     "output_type": "stream",
     "text": [
      "skipping /scratch/bf996/datasets/socrata/data/data.cityofnewyork.us/data-cityofnewyork-us.6bgk-3dad.rows.csv \n",
      "\n",
      "Exception No columns to parse from file for dataframe /scratch/bf996/datasets/socrata/data/data.cityofnewyork.us/data-cityofnewyork-us.eidg-3v2p.rows.csv\n"
     ]
    },
    {
     "name": "stderr",
     "output_type": "stream",
     "text": [
      "\r\n",
      "134it [03:18,  4.39s/it]"
     ]
    },
    {
     "name": "stdout",
     "output_type": "stream",
     "text": [
      "skipping /scratch/bf996/datasets/socrata/data/data.cityofnewyork.us/data-cityofnewyork-us.aiww-p3af.rows.csv \n",
      "\n"
     ]
    },
    {
     "name": "stderr",
     "output_type": "stream",
     "text": [
      "142it [03:20,  1.17it/s]"
     ]
    },
    {
     "name": "stdout",
     "output_type": "stream",
     "text": [
      "skipping /scratch/bf996/datasets/socrata/data/data.cityofnewyork.us/data-cityofnewyork-us.xmmq-y7za.rows.csv \n",
      "\n"
     ]
    },
    {
     "name": "stderr",
     "output_type": "stream",
     "text": [
      "146it [03:23,  1.55it/s]"
     ]
    },
    {
     "name": "stdout",
     "output_type": "stream",
     "text": [
      "Exception single positional indexer is out-of-bounds for dataframe /scratch/bf996/datasets/socrata/data/data.cityofnewyork.us/data-cityofnewyork-us.sp7n-275u.rows.csv\n"
     ]
    },
    {
     "name": "stderr",
     "output_type": "stream",
     "text": [
      "154it [03:25,  3.23it/s]"
     ]
    },
    {
     "name": "stdout",
     "output_type": "stream",
     "text": [
      "Exception single positional indexer is out-of-bounds for dataframe /scratch/bf996/datasets/socrata/data/data.cityofnewyork.us/data-cityofnewyork-us.vk6p-jwjf.rows.csv\n",
      "Exception single positional indexer is out-of-bounds for dataframe /scratch/bf996/datasets/socrata/data/data.cityofnewyork.us/data-cityofnewyork-us.njjd-3gve.rows.csv\n"
     ]
    },
    {
     "name": "stderr",
     "output_type": "stream",
     "text": [
      "158it [03:26,  3.92it/s]"
     ]
    },
    {
     "name": "stdout",
     "output_type": "stream",
     "text": [
      "Exception single positional indexer is out-of-bounds for dataframe /scratch/bf996/datasets/socrata/data/data.cityofnewyork.us/data-cityofnewyork-us.7479-ugqb.rows.csv\n"
     ]
    },
    {
     "name": "stderr",
     "output_type": "stream",
     "text": [
      "162it [03:28,  2.57it/s]"
     ]
    },
    {
     "name": "stdout",
     "output_type": "stream",
     "text": [
      "Exception single positional indexer is out-of-bounds for dataframe /scratch/bf996/datasets/socrata/data/data.cityofnewyork.us/data-cityofnewyork-us.tnry-kwh5.rows.csv\n"
     ]
    },
    {
     "name": "stderr",
     "output_type": "stream",
     "text": [
      "168it [03:29,  4.90it/s]"
     ]
    },
    {
     "name": "stdout",
     "output_type": "stream",
     "text": [
      "Exception single positional indexer is out-of-bounds for dataframe /scratch/bf996/datasets/socrata/data/data.cityofnewyork.us/data-cityofnewyork-us.qcdj-rwhu.rows.csv\n"
     ]
    },
    {
     "name": "stderr",
     "output_type": "stream",
     "text": [
      "171it [03:30,  4.04it/s]"
     ]
    },
    {
     "name": "stdout",
     "output_type": "stream",
     "text": [
      "Exception single positional indexer is out-of-bounds for dataframe /scratch/bf996/datasets/socrata/data/data.cityofnewyork.us/data-cityofnewyork-us.4tnw-tspg.rows.csv\n"
     ]
    },
    {
     "name": "stderr",
     "output_type": "stream",
     "text": [
      "174it [03:45,  2.31s/it]"
     ]
    },
    {
     "name": "stdout",
     "output_type": "stream",
     "text": [
      "Exception single positional indexer is out-of-bounds for dataframe /scratch/bf996/datasets/socrata/data/data.cityofnewyork.us/data-cityofnewyork-us.fzh2-sxib.rows.csv\n",
      "Exception No columns to parse from file for dataframe /scratch/bf996/datasets/socrata/data/data.cityofnewyork.us/data-cityofnewyork-us.bha8-nbrn.rows.csv\n",
      "Exception single positional indexer is out-of-bounds for dataframe /scratch/bf996/datasets/socrata/data/data.cityofnewyork.us/data-cityofnewyork-us.fxs2-faah.rows.csv\n"
     ]
    },
    {
     "name": "stderr",
     "output_type": "stream",
     "text": [
      "180it [03:45,  1.23it/s]/state/partition1/job-31563200/ipykernel_315622/1855039622.py:16: DtypeWarning: Columns (0) have mixed types. Specify dtype option on import or set low_memory=False.\n",
      "  df = next(chunks)\n",
      "183it [03:52,  1.31s/it]"
     ]
    },
    {
     "name": "stdout",
     "output_type": "stream",
     "text": [
      "skipping /scratch/bf996/datasets/socrata/data/data.cityofnewyork.us/data-cityofnewyork-us.wewp-mm3p.rows.csv \n",
      "\n"
     ]
    },
    {
     "name": "stderr",
     "output_type": "stream",
     "text": [
      "189it [03:53,  1.71it/s]"
     ]
    },
    {
     "name": "stdout",
     "output_type": "stream",
     "text": [
      "skipping /scratch/bf996/datasets/socrata/data/data.cityofnewyork.us/data-cityofnewyork-us.wag2-kf63.rows.csv \n",
      "\n",
      "skipping /scratch/bf996/datasets/socrata/data/data.cityofnewyork.us/data-cityofnewyork-us.74wj-s5ij.rows.csv \n",
      "\n"
     ]
    },
    {
     "name": "stderr",
     "output_type": "stream",
     "text": [
      "192it [03:54,  2.58it/s]"
     ]
    },
    {
     "name": "stdout",
     "output_type": "stream",
     "text": [
      "Exception single positional indexer is out-of-bounds for dataframe /scratch/bf996/datasets/socrata/data/data.cityofnewyork.us/data-cityofnewyork-us.ge8j-uqbf.rows.csv\n"
     ]
    },
    {
     "name": "stderr",
     "output_type": "stream",
     "text": [
      "198it [03:55,  4.00it/s]"
     ]
    },
    {
     "name": "stdout",
     "output_type": "stream",
     "text": [
      "Exception single positional indexer is out-of-bounds for dataframe /scratch/bf996/datasets/socrata/data/data.cityofnewyork.us/data-cityofnewyork-us.4fcz-jias.rows.csv\n"
     ]
    },
    {
     "name": "stderr",
     "output_type": "stream",
     "text": [
      "205it [04:01,  1.12it/s]/state/partition1/job-31563200/ipykernel_315622/1855039622.py:16: DtypeWarning: Columns (11,17) have mixed types. Specify dtype option on import or set low_memory=False.\n",
      "  df = next(chunks)\n",
      "211it [04:45,  3.86s/it]"
     ]
    },
    {
     "name": "stdout",
     "output_type": "stream",
     "text": [
      "Exception single positional indexer is out-of-bounds for dataframe /scratch/bf996/datasets/socrata/data/data.cityofnewyork.us/data-cityofnewyork-us.f3st-eexa.rows.csv\n",
      "Exception single positional indexer is out-of-bounds for dataframe /scratch/bf996/datasets/socrata/data/data.cityofnewyork.us/data-cityofnewyork-us.cwx7-agsh.rows.csv\n"
     ]
    },
    {
     "name": "stderr",
     "output_type": "stream",
     "text": [
      "224it [04:52,  2.36it/s]"
     ]
    },
    {
     "name": "stdout",
     "output_type": "stream",
     "text": [
      "Exception single positional indexer is out-of-bounds for dataframe /scratch/bf996/datasets/socrata/data/data.cityofnewyork.us/data-cityofnewyork-us.922w-z7da.rows.csv\n",
      "Exception No columns to parse from file for dataframe /scratch/bf996/datasets/socrata/data/data.cityofnewyork.us/data-cityofnewyork-us.wugy-h4kt.rows.csv\n"
     ]
    },
    {
     "name": "stderr",
     "output_type": "stream",
     "text": [
      "229it [04:53,  5.02it/s]"
     ]
    },
    {
     "name": "stdout",
     "output_type": "stream",
     "text": [
      "skipping /scratch/bf996/datasets/socrata/data/data.cityofnewyork.us/data-cityofnewyork-us.tap2-dwrw.rows.csv \n",
      "\n",
      "Exception single positional indexer is out-of-bounds for dataframe /scratch/bf996/datasets/socrata/data/data.cityofnewyork.us/data-cityofnewyork-us.rfu7-paqe.rows.csv\n"
     ]
    },
    {
     "name": "stderr",
     "output_type": "stream",
     "text": [
      "232it [05:34,  5.18s/it]"
     ]
    },
    {
     "name": "stdout",
     "output_type": "stream",
     "text": [
      "Exception end of time for dataframe /scratch/bf996/datasets/socrata/data/data.cityofnewyork.us/data-cityofnewyork-us.wz6d-d3jb.rows.csv\n"
     ]
    },
    {
     "name": "stderr",
     "output_type": "stream",
     "text": [
      "\r\n",
      "234it [05:34,  3.51s/it]"
     ]
    },
    {
     "name": "stdout",
     "output_type": "stream",
     "text": [
      "Exception single positional indexer is out-of-bounds for dataframe /scratch/bf996/datasets/socrata/data/data.cityofnewyork.us/data-cityofnewyork-us.9byw-znpj.rows.csv\n"
     ]
    },
    {
     "name": "stderr",
     "output_type": "stream",
     "text": [
      "245it [05:54,  1.17it/s]"
     ]
    },
    {
     "name": "stdout",
     "output_type": "stream",
     "text": [
      "Exception single positional indexer is out-of-bounds for dataframe /scratch/bf996/datasets/socrata/data/data.cityofnewyork.us/data-cityofnewyork-us.ivix-m77e.rows.csv\n"
     ]
    },
    {
     "name": "stderr",
     "output_type": "stream",
     "text": [
      "249it [05:54,  2.61it/s]"
     ]
    },
    {
     "name": "stdout",
     "output_type": "stream",
     "text": [
      "Exception single positional indexer is out-of-bounds for dataframe /scratch/bf996/datasets/socrata/data/data.cityofnewyork.us/data-cityofnewyork-us.mdcw-n682.rows.csv\n",
      "skipping /scratch/bf996/datasets/socrata/data/data.cityofnewyork.us/data-cityofnewyork-us.a9md-ynri.rows.csv \n",
      "\n"
     ]
    },
    {
     "name": "stderr",
     "output_type": "stream",
     "text": [
      "254it [05:56,  2.70it/s]/state/partition1/job-31563200/ipykernel_315622/1855039622.py:16: DtypeWarning: Columns (0) have mixed types. Specify dtype option on import or set low_memory=False.\n",
      "  df = next(chunks)\n",
      "257it [06:03,  1.16s/it]"
     ]
    },
    {
     "name": "stdout",
     "output_type": "stream",
     "text": [
      "Exception single positional indexer is out-of-bounds for dataframe /scratch/bf996/datasets/socrata/data/data.cityofnewyork.us/data-cityofnewyork-us.jtus-srrj.rows.csv\n"
     ]
    },
    {
     "name": "stderr",
     "output_type": "stream",
     "text": [
      "/state/partition1/job-31563200/ipykernel_315622/1855039622.py:16: DtypeWarning: Columns (2,20,41,47) have mixed types. Specify dtype option on import or set low_memory=False.\n",
      "  df = next(chunks)\n",
      "259it [06:05,  1.06it/s]"
     ]
    },
    {
     "name": "stdout",
     "output_type": "stream",
     "text": [
      "Exception single positional indexer is out-of-bounds for dataframe /scratch/bf996/datasets/socrata/data/data.cityofnewyork.us/data-cityofnewyork-us.bbs3-q5us.rows.csv\n"
     ]
    },
    {
     "name": "stderr",
     "output_type": "stream",
     "text": [
      "276it [06:32,  2.79s/it]"
     ]
    },
    {
     "name": "stdout",
     "output_type": "stream",
     "text": [
      "Exception single positional indexer is out-of-bounds for dataframe /scratch/bf996/datasets/socrata/data/data.cityofnewyork.us/data-cityofnewyork-us.ue2f-z6i6.rows.csv\n"
     ]
    },
    {
     "name": "stderr",
     "output_type": "stream",
     "text": [
      "283it [06:34,  1.76it/s]"
     ]
    },
    {
     "name": "stdout",
     "output_type": "stream",
     "text": [
      "Exception No columns to parse from file for dataframe /scratch/bf996/datasets/socrata/data/data.cityofnewyork.us/data-cityofnewyork-us.smkj-7vb5.rows.csv\n"
     ]
    },
    {
     "name": "stderr",
     "output_type": "stream",
     "text": [
      "/state/partition1/job-31563200/ipykernel_315622/1855039622.py:16: DtypeWarning: Columns (0) have mixed types. Specify dtype option on import or set low_memory=False.\n",
      "  df = next(chunks)\n",
      "289it [06:37,  2.47it/s]"
     ]
    },
    {
     "name": "stdout",
     "output_type": "stream",
     "text": [
      "Exception single positional indexer is out-of-bounds for dataframe /scratch/bf996/datasets/socrata/data/data.cityofnewyork.us/data-cityofnewyork-us.8wbx-tsch.rows.csv\n"
     ]
    },
    {
     "name": "stderr",
     "output_type": "stream",
     "text": [
      "291it [06:42,  1.09s/it]"
     ]
    },
    {
     "name": "stdout",
     "output_type": "stream",
     "text": [
      "Exception single positional indexer is out-of-bounds for dataframe /scratch/bf996/datasets/socrata/data/data.cityofnewyork.us/data-cityofnewyork-us.6r4h-c2y6.rows.csv\n"
     ]
    },
    {
     "name": "stderr",
     "output_type": "stream",
     "text": [
      "294it [06:50,  1.87s/it]"
     ]
    },
    {
     "name": "stdout",
     "output_type": "stream",
     "text": [
      "skipping /scratch/bf996/datasets/socrata/data/data.cityofnewyork.us/data-cityofnewyork-us.hn5i-inap.rows.csv \n",
      "\n"
     ]
    },
    {
     "name": "stderr",
     "output_type": "stream",
     "text": [
      "\r\n",
      "296it [06:52,  1.38s/it]"
     ]
    },
    {
     "name": "stdout",
     "output_type": "stream",
     "text": [
      "skipping /scratch/bf996/datasets/socrata/data/data.cityofnewyork.us/data-cityofnewyork-us.ydkf-mpxb.rows.csv \n",
      "\n"
     ]
    },
    {
     "name": "stderr",
     "output_type": "stream",
     "text": [
      "314it [06:59,  3.16it/s]"
     ]
    },
    {
     "name": "stdout",
     "output_type": "stream",
     "text": [
      "Exception single positional indexer is out-of-bounds for dataframe /scratch/bf996/datasets/socrata/data/data.cityofnewyork.us/data-cityofnewyork-us.p6h4-mpyy.rows.csv\n",
      "Exception single positional indexer is out-of-bounds for dataframe /scratch/bf996/datasets/socrata/data/data.cityofnewyork.us/data-cityofnewyork-us.nwjy-fdec.rows.csv\n"
     ]
    },
    {
     "name": "stderr",
     "output_type": "stream",
     "text": [
      "333it [07:15,  4.89it/s]"
     ]
    },
    {
     "name": "stdout",
     "output_type": "stream",
     "text": [
      "Exception single positional indexer is out-of-bounds for dataframe /scratch/bf996/datasets/socrata/data/data.cityofnewyork.us/data-cityofnewyork-us.fbaw-uq4e.rows.csv\n"
     ]
    },
    {
     "name": "stderr",
     "output_type": "stream",
     "text": [
      "337it [07:16,  5.82it/s]"
     ]
    },
    {
     "name": "stdout",
     "output_type": "stream",
     "text": [
      "Exception single positional indexer is out-of-bounds for dataframe /scratch/bf996/datasets/socrata/data/data.cityofnewyork.us/data-cityofnewyork-us.2mvk-c2ha.rows.csv\n"
     ]
    },
    {
     "name": "stderr",
     "output_type": "stream",
     "text": [
      "342it [07:17,  4.79it/s]"
     ]
    },
    {
     "name": "stdout",
     "output_type": "stream",
     "text": [
      "Exception single positional indexer is out-of-bounds for dataframe /scratch/bf996/datasets/socrata/data/data.cityofnewyork.us/data-cityofnewyork-us.abnr-s7g4.rows.csv\n",
      "Exception single positional indexer is out-of-bounds for dataframe /scratch/bf996/datasets/socrata/data/data.cityofnewyork.us/data-cityofnewyork-us.tvfr-dhen.rows.csv\n"
     ]
    },
    {
     "name": "stderr",
     "output_type": "stream",
     "text": [
      "346it [07:18,  5.08it/s]"
     ]
    },
    {
     "name": "stdout",
     "output_type": "stream",
     "text": [
      "Exception No columns to parse from file for dataframe /scratch/bf996/datasets/socrata/data/data.cityofnewyork.us/data-cityofnewyork-us.wryt-jaa6.rows.csv\n"
     ]
    },
    {
     "name": "stderr",
     "output_type": "stream",
     "text": [
      "351it [07:25,  1.70s/it]"
     ]
    },
    {
     "name": "stdout",
     "output_type": "stream",
     "text": [
      "skipping /scratch/bf996/datasets/socrata/data/data.cityofnewyork.us/data-cityofnewyork-us.sv2w-rv3k.rows.csv \n",
      "\n"
     ]
    },
    {
     "name": "stderr",
     "output_type": "stream",
     "text": [
      "368it [08:09,  2.36s/it]"
     ]
    },
    {
     "name": "stdout",
     "output_type": "stream",
     "text": [
      "Exception single positional indexer is out-of-bounds for dataframe /scratch/bf996/datasets/socrata/data/data.cityofnewyork.us/data-cityofnewyork-us.x4sg-2jca.rows.csv\n"
     ]
    },
    {
     "name": "stderr",
     "output_type": "stream",
     "text": [
      "380it [09:11,  1.76s/it]"
     ]
    },
    {
     "name": "stdout",
     "output_type": "stream",
     "text": [
      "Exception single positional indexer is out-of-bounds for dataframe /scratch/bf996/datasets/socrata/data/data.cityofnewyork.us/data-cityofnewyork-us.mvn6-575n.rows.csv\n"
     ]
    },
    {
     "name": "stderr",
     "output_type": "stream",
     "text": [
      "\r\n",
      "383it [09:11,  1.05it/s]"
     ]
    },
    {
     "name": "stdout",
     "output_type": "stream",
     "text": [
      "Exception single positional indexer is out-of-bounds for dataframe /scratch/bf996/datasets/socrata/data/data.cityofnewyork.us/data-cityofnewyork-us.ud2m-5tb4.rows.csv\n"
     ]
    },
    {
     "name": "stderr",
     "output_type": "stream",
     "text": [
      "385it [09:12,  1.45it/s]"
     ]
    },
    {
     "name": "stdout",
     "output_type": "stream",
     "text": [
      "skipping /scratch/bf996/datasets/socrata/data/data.cityofnewyork.us/data-cityofnewyork-us.paab-n3s5.rows.csv \n",
      "\n"
     ]
    },
    {
     "name": "stderr",
     "output_type": "stream",
     "text": [
      "396it [09:14,  6.06it/s]"
     ]
    },
    {
     "name": "stdout",
     "output_type": "stream",
     "text": [
      "Exception single positional indexer is out-of-bounds for dataframe /scratch/bf996/datasets/socrata/data/data.cityofnewyork.us/data-cityofnewyork-us.uetw-jfrg.rows.csv\n"
     ]
    },
    {
     "name": "stderr",
     "output_type": "stream",
     "text": [
      "401it [09:29,  2.72s/it]/state/partition1/job-31563200/ipykernel_315622/1855039622.py:16: DtypeWarning: Columns (20,40,41,42,43,82) have mixed types. Specify dtype option on import or set low_memory=False.\n",
      "  df = next(chunks)\n",
      "402it [09:30,  2.43s/it]"
     ]
    },
    {
     "name": "stdout",
     "output_type": "stream",
     "text": [
      "Exception single positional indexer is out-of-bounds for dataframe /scratch/bf996/datasets/socrata/data/data.cityofnewyork.us/data-cityofnewyork-us.dm9a-ab7w.rows.csv\n"
     ]
    },
    {
     "name": "stderr",
     "output_type": "stream",
     "text": [
      "405it [09:31,  1.26s/it]"
     ]
    },
    {
     "name": "stdout",
     "output_type": "stream",
     "text": [
      "Exception single positional indexer is out-of-bounds for dataframe /scratch/bf996/datasets/socrata/data/data.cityofnewyork.us/data-cityofnewyork-us.xs5m-jrpm.rows.csv\n"
     ]
    },
    {
     "name": "stderr",
     "output_type": "stream",
     "text": [
      "408it [09:32,  1.48it/s]"
     ]
    },
    {
     "name": "stdout",
     "output_type": "stream",
     "text": [
      "Exception single positional indexer is out-of-bounds for dataframe /scratch/bf996/datasets/socrata/data/data.cityofnewyork.us/data-cityofnewyork-us.4nft-bihw.rows.csv\n"
     ]
    },
    {
     "name": "stderr",
     "output_type": "stream",
     "text": [
      "428it [09:39,  3.28it/s]"
     ]
    },
    {
     "name": "stdout",
     "output_type": "stream",
     "text": [
      "Exception single positional indexer is out-of-bounds for dataframe /scratch/bf996/datasets/socrata/data/data.cityofnewyork.us/data-cityofnewyork-us.khci-nhn2.rows.csv\n"
     ]
    },
    {
     "name": "stderr",
     "output_type": "stream",
     "text": [
      "435it [09:57,  3.03s/it]"
     ]
    },
    {
     "name": "stdout",
     "output_type": "stream",
     "text": [
      "Exception single positional indexer is out-of-bounds for dataframe /scratch/bf996/datasets/socrata/data/data.cityofnewyork.us/data-cityofnewyork-us.6je4-4x7e.rows.csv\n"
     ]
    },
    {
     "name": "stderr",
     "output_type": "stream",
     "text": [
      "\r\n",
      "438it [09:58,  1.39s/it]"
     ]
    },
    {
     "name": "stdout",
     "output_type": "stream",
     "text": [
      "skipping /scratch/bf996/datasets/socrata/data/data.cityofnewyork.us/data-cityofnewyork-us.5gj9-2kzx.rows.csv \n",
      "\n"
     ]
    },
    {
     "name": "stderr",
     "output_type": "stream",
     "text": [
      "443it [10:01,  1.06it/s]/state/partition1/job-31563200/ipykernel_315622/1855039622.py:16: DtypeWarning: Columns (5,6,8,9) have mixed types. Specify dtype option on import or set low_memory=False.\n",
      "  df = next(chunks)\n",
      "455it [10:11,  2.80it/s]"
     ]
    },
    {
     "name": "stdout",
     "output_type": "stream",
     "text": [
      "Exception single positional indexer is out-of-bounds for dataframe /scratch/bf996/datasets/socrata/data/data.cityofnewyork.us/data-cityofnewyork-us.8b6c-7uty.rows.csv\n",
      "Exception single positional indexer is out-of-bounds for dataframe /scratch/bf996/datasets/socrata/data/data.cityofnewyork.us/data-cityofnewyork-us.bztk-4g6r.rows.csv\n"
     ]
    },
    {
     "name": "stderr",
     "output_type": "stream",
     "text": [
      "463it [10:13,  4.10it/s]"
     ]
    },
    {
     "name": "stdout",
     "output_type": "stream",
     "text": [
      "Exception single positional indexer is out-of-bounds for dataframe /scratch/bf996/datasets/socrata/data/data.cityofnewyork.us/data-cityofnewyork-us.jxs5-ygaz.rows.csv\n"
     ]
    },
    {
     "name": "stderr",
     "output_type": "stream",
     "text": [
      "470it [10:14,  6.94it/s]"
     ]
    },
    {
     "name": "stdout",
     "output_type": "stream",
     "text": [
      "Exception single positional indexer is out-of-bounds for dataframe /scratch/bf996/datasets/socrata/data/data.cityofnewyork.us/data-cityofnewyork-us.n8q6-i44s.rows.csv\n"
     ]
    },
    {
     "name": "stderr",
     "output_type": "stream",
     "text": [
      "484it [10:17,  3.74it/s]"
     ]
    },
    {
     "name": "stdout",
     "output_type": "stream",
     "text": [
      "Exception single positional indexer is out-of-bounds for dataframe /scratch/bf996/datasets/socrata/data/data.cityofnewyork.us/data-cityofnewyork-us.48pb-zy2g.rows.csv\n"
     ]
    },
    {
     "name": "stderr",
     "output_type": "stream",
     "text": [
      "486it [10:18,  2.14it/s]/state/partition1/job-31563200/ipykernel_315622/1855039622.py:16: DtypeWarning: Columns (11,20) have mixed types. Specify dtype option on import or set low_memory=False.\n",
      "  df = next(chunks)\n",
      "487it [10:20,  1.58it/s]"
     ]
    },
    {
     "name": "stdout",
     "output_type": "stream",
     "text": [
      "Exception single positional indexer is out-of-bounds for dataframe /scratch/bf996/datasets/socrata/data/data.cityofnewyork.us/data-cityofnewyork-us.qu8g-sxqf.rows.csv\n"
     ]
    },
    {
     "name": "stderr",
     "output_type": "stream",
     "text": [
      "500it [10:35,  1.57s/it]/state/partition1/job-31563200/ipykernel_315622/1855039622.py:16: DtypeWarning: Columns (20,24) have mixed types. Specify dtype option on import or set low_memory=False.\n",
      "  df = next(chunks)\n",
      "501it [10:38,  1.78s/it]"
     ]
    },
    {
     "name": "stdout",
     "output_type": "stream",
     "text": [
      "Exception single positional indexer is out-of-bounds for dataframe /scratch/bf996/datasets/socrata/data/data.cityofnewyork.us/data-cityofnewyork-us.ptev-4hud.rows.csv\n"
     ]
    },
    {
     "name": "stderr",
     "output_type": "stream",
     "text": [
      "/state/partition1/job-31563200/ipykernel_315622/1855039622.py:16: DtypeWarning: Columns (7) have mixed types. Specify dtype option on import or set low_memory=False.\n",
      "  df = next(chunks)\n",
      "503it [10:41,  1.67s/it]/state/partition1/job-31563200/ipykernel_315622/1855039622.py:16: DtypeWarning: Columns (14) have mixed types. Specify dtype option on import or set low_memory=False.\n",
      "  df = next(chunks)\n",
      "505it [10:42,  1.11s/it]"
     ]
    },
    {
     "name": "stdout",
     "output_type": "stream",
     "text": [
      "Exception single positional indexer is out-of-bounds for dataframe /scratch/bf996/datasets/socrata/data/data.cityofnewyork.us/data-cityofnewyork-us.r2j4-rc64.rows.csv\n"
     ]
    },
    {
     "name": "stderr",
     "output_type": "stream",
     "text": [
      "\r\n",
      "507it [10:45,  1.07s/it]"
     ]
    },
    {
     "name": "stdout",
     "output_type": "stream",
     "text": [
      "skipping /scratch/bf996/datasets/socrata/data/data.cityofnewyork.us/data-cityofnewyork-us.yini-w76t.rows.csv \n",
      "\n"
     ]
    },
    {
     "name": "stderr",
     "output_type": "stream",
     "text": [
      "510it [10:45,  1.63it/s]/state/partition1/job-31563200/ipykernel_315622/1855039622.py:16: DtypeWarning: Columns (15,16) have mixed types. Specify dtype option on import or set low_memory=False.\n",
      "  df = next(chunks)\n",
      "512it [10:46,  2.14it/s]"
     ]
    },
    {
     "name": "stdout",
     "output_type": "stream",
     "text": [
      "Exception single positional indexer is out-of-bounds for dataframe /scratch/bf996/datasets/socrata/data/data.cityofnewyork.us/data-cityofnewyork-us.4twk-9yq2.rows.csv\n"
     ]
    },
    {
     "name": "stderr",
     "output_type": "stream",
     "text": [
      "518it [10:51,  1.74it/s]"
     ]
    },
    {
     "name": "stdout",
     "output_type": "stream",
     "text": [
      "Exception single positional indexer is out-of-bounds for dataframe /scratch/bf996/datasets/socrata/data/data.cityofnewyork.us/data-cityofnewyork-us.ac4n-c5re.rows.csv\n"
     ]
    },
    {
     "name": "stderr",
     "output_type": "stream",
     "text": [
      "\r\n",
      "519it [10:51,  2.04it/s]"
     ]
    },
    {
     "name": "stdout",
     "output_type": "stream",
     "text": [
      "Exception single positional indexer is out-of-bounds for dataframe /scratch/bf996/datasets/socrata/data/data.cityofnewyork.us/data-cityofnewyork-us.vuae-w6cg.rows.csv\n"
     ]
    },
    {
     "name": "stderr",
     "output_type": "stream",
     "text": [
      "528it [10:53,  4.91it/s]"
     ]
    },
    {
     "name": "stdout",
     "output_type": "stream",
     "text": [
      "Exception single positional indexer is out-of-bounds for dataframe /scratch/bf996/datasets/socrata/data/data.cityofnewyork.us/data-cityofnewyork-us.uq7m-95z8.rows.csv\n",
      "Exception single positional indexer is out-of-bounds for dataframe /scratch/bf996/datasets/socrata/data/data.cityofnewyork.us/data-cityofnewyork-us.y3hw-z6bm.rows.csv\n"
     ]
    },
    {
     "name": "stderr",
     "output_type": "stream",
     "text": [
      "531it [10:54,  3.20it/s]"
     ]
    },
    {
     "name": "stdout",
     "output_type": "stream",
     "text": [
      "Exception single positional indexer is out-of-bounds for dataframe /scratch/bf996/datasets/socrata/data/data.cityofnewyork.us/data-cityofnewyork-us.799n-b76v.rows.csv\n"
     ]
    },
    {
     "name": "stderr",
     "output_type": "stream",
     "text": [
      "/state/partition1/job-31563200/ipykernel_315622/1855039622.py:16: DtypeWarning: Columns (2,7) have mixed types. Specify dtype option on import or set low_memory=False.\n",
      "  df = next(chunks)\n",
      "533it [10:56,  1.84it/s]/state/partition1/job-31563200/ipykernel_315622/1855039622.py:16: DtypeWarning: Columns (8,10) have mixed types. Specify dtype option on import or set low_memory=False.\n",
      "  df = next(chunks)\n",
      "541it [11:26,  3.79s/it]"
     ]
    },
    {
     "name": "stdout",
     "output_type": "stream",
     "text": [
      "Exception single positional indexer is out-of-bounds for dataframe /scratch/bf996/datasets/socrata/data/data.cityofnewyork.us/data-cityofnewyork-us.pbc8-mmb4.rows.csv\n"
     ]
    },
    {
     "name": "stderr",
     "output_type": "stream",
     "text": [
      "545it [11:27,  1.49s/it]"
     ]
    },
    {
     "name": "stdout",
     "output_type": "stream",
     "text": [
      "skipping /scratch/bf996/datasets/socrata/data/data.cityofnewyork.us/data-cityofnewyork-us.5uac-w243.rows.csv \n",
      "\n"
     ]
    },
    {
     "name": "stderr",
     "output_type": "stream",
     "text": [
      "/state/partition1/job-31563200/ipykernel_315622/1855039622.py:16: DtypeWarning: Columns (5,6,7,8,9,10,11) have mixed types. Specify dtype option on import or set low_memory=False.\n",
      "  df = next(chunks)\n",
      "548it [11:29,  1.01s/it]"
     ]
    },
    {
     "name": "stdout",
     "output_type": "stream",
     "text": [
      "Exception single positional indexer is out-of-bounds for dataframe /scratch/bf996/datasets/socrata/data/data.cityofnewyork.us/data-cityofnewyork-us.fdkv-4t4z.rows.csv\n"
     ]
    },
    {
     "name": "stderr",
     "output_type": "stream",
     "text": [
      "562it [11:31,  6.77it/s]"
     ]
    },
    {
     "name": "stdout",
     "output_type": "stream",
     "text": [
      "Exception single positional indexer is out-of-bounds for dataframe /scratch/bf996/datasets/socrata/data/data.cityofnewyork.us/data-cityofnewyork-us.4kpn-sezh.rows.csv\n"
     ]
    },
    {
     "name": "stderr",
     "output_type": "stream",
     "text": [
      "567it [11:34,  2.47it/s]"
     ]
    },
    {
     "name": "stdout",
     "output_type": "stream",
     "text": [
      "Exception single positional indexer is out-of-bounds for dataframe /scratch/bf996/datasets/socrata/data/data.cityofnewyork.us/data-cityofnewyork-us.feu5-w2e2.rows.csv\n"
     ]
    },
    {
     "name": "stderr",
     "output_type": "stream",
     "text": [
      "571it [11:34,  3.72it/s]"
     ]
    },
    {
     "name": "stdout",
     "output_type": "stream",
     "text": [
      "skipping /scratch/bf996/datasets/socrata/data/data.cityofnewyork.us/data-cityofnewyork-us.82zj-84is.rows.csv \n",
      "\n",
      "Exception single positional indexer is out-of-bounds for dataframe /scratch/bf996/datasets/socrata/data/data.cityofnewyork.us/data-cityofnewyork-us.auuc-fqzi.rows.csv\n"
     ]
    },
    {
     "name": "stderr",
     "output_type": "stream",
     "text": [
      "578it [11:35,  6.00it/s]"
     ]
    },
    {
     "name": "stdout",
     "output_type": "stream",
     "text": [
      "skipping /scratch/bf996/datasets/socrata/data/data.cityofnewyork.us/data-cityofnewyork-us.cspg-yi7g.rows.csv \n",
      "\n"
     ]
    },
    {
     "name": "stderr",
     "output_type": "stream",
     "text": [
      "585it [11:36,  6.47it/s]"
     ]
    },
    {
     "name": "stdout",
     "output_type": "stream",
     "text": [
      "Exception single positional indexer is out-of-bounds for dataframe /scratch/bf996/datasets/socrata/data/data.cityofnewyork.us/data-cityofnewyork-us.q7ra-ebu4.rows.csv\n"
     ]
    },
    {
     "name": "stderr",
     "output_type": "stream",
     "text": [
      "588it [11:37,  6.23it/s]"
     ]
    },
    {
     "name": "stdout",
     "output_type": "stream",
     "text": [
      "Exception single positional indexer is out-of-bounds for dataframe /scratch/bf996/datasets/socrata/data/data.cityofnewyork.us/data-cityofnewyork-us.jp5w-5njc.rows.csv\n"
     ]
    },
    {
     "name": "stderr",
     "output_type": "stream",
     "text": [
      "592it [11:47,  1.27s/it]"
     ]
    },
    {
     "name": "stdout",
     "output_type": "stream",
     "text": [
      "skipping /scratch/bf996/datasets/socrata/data/data.cityofnewyork.us/data-cityofnewyork-us.a8wp-rerh.rows.csv \n",
      "\n"
     ]
    },
    {
     "name": "stderr",
     "output_type": "stream",
     "text": [
      "594it [11:48,  1.01s/it]"
     ]
    },
    {
     "name": "stdout",
     "output_type": "stream",
     "text": [
      "Exception single positional indexer is out-of-bounds for dataframe /scratch/bf996/datasets/socrata/data/data.cityofnewyork.us/data-cityofnewyork-us.usep-8jbt.rows.csv\n"
     ]
    },
    {
     "name": "stderr",
     "output_type": "stream",
     "text": [
      "597it [11:51,  1.08it/s]"
     ]
    },
    {
     "name": "stdout",
     "output_type": "stream",
     "text": [
      "Exception single positional indexer is out-of-bounds for dataframe /scratch/bf996/datasets/socrata/data/data.cityofnewyork.us/data-cityofnewyork-us.735p-zed8.rows.csv\n"
     ]
    },
    {
     "name": "stderr",
     "output_type": "stream",
     "text": [
      "608it [12:23,  1.03s/it]"
     ]
    },
    {
     "name": "stdout",
     "output_type": "stream",
     "text": [
      "skipping /scratch/bf996/datasets/socrata/data/data.cityofnewyork.us/data-cityofnewyork-us.rmhc-afj9.rows.csv \n",
      "\n",
      "Exception single positional indexer is out-of-bounds for dataframe /scratch/bf996/datasets/socrata/data/data.cityofnewyork.us/data-cityofnewyork-us.y52e-hp89.rows.csv\n"
     ]
    },
    {
     "name": "stderr",
     "output_type": "stream",
     "text": [
      "622it [12:26,  4.76it/s]"
     ]
    },
    {
     "name": "stdout",
     "output_type": "stream",
     "text": [
      "Exception single positional indexer is out-of-bounds for dataframe /scratch/bf996/datasets/socrata/data/data.cityofnewyork.us/data-cityofnewyork-us.wye7-nyek.rows.csv\n",
      "Exception single positional indexer is out-of-bounds for dataframe /scratch/bf996/datasets/socrata/data/data.cityofnewyork.us/data-cityofnewyork-us.urz7-pzb3.rows.csv\n"
     ]
    },
    {
     "name": "stderr",
     "output_type": "stream",
     "text": [
      "\r\n",
      "624it [12:26,  6.10it/s]"
     ]
    },
    {
     "name": "stdout",
     "output_type": "stream",
     "text": [
      "Exception single positional indexer is out-of-bounds for dataframe /scratch/bf996/datasets/socrata/data/data.cityofnewyork.us/data-cityofnewyork-us.8eq5-dtjb.rows.csv\n"
     ]
    },
    {
     "name": "stderr",
     "output_type": "stream",
     "text": [
      "628it [12:26,  5.87it/s]"
     ]
    },
    {
     "name": "stdout",
     "output_type": "stream",
     "text": [
      "Exception single positional indexer is out-of-bounds for dataframe /scratch/bf996/datasets/socrata/data/data.cityofnewyork.us/data-cityofnewyork-us.8u85-k342.rows.csv\n"
     ]
    },
    {
     "name": "stderr",
     "output_type": "stream",
     "text": [
      "631it [12:31,  1.09it/s]"
     ]
    },
    {
     "name": "stdout",
     "output_type": "stream",
     "text": [
      "skipping /scratch/bf996/datasets/socrata/data/data.cityofnewyork.us/data-cityofnewyork-us.2xab-argn.rows.csv \n",
      "\n"
     ]
    },
    {
     "name": "stderr",
     "output_type": "stream",
     "text": [
      "642it [12:35,  4.06it/s]"
     ]
    },
    {
     "name": "stdout",
     "output_type": "stream",
     "text": [
      "Exception single positional indexer is out-of-bounds for dataframe /scratch/bf996/datasets/socrata/data/data.cityofnewyork.us/data-cityofnewyork-us.7crd-d9xh.rows.csv\n"
     ]
    },
    {
     "name": "stderr",
     "output_type": "stream",
     "text": [
      "\r\n",
      "643it [12:36,  3.92it/s]"
     ]
    },
    {
     "name": "stdout",
     "output_type": "stream",
     "text": [
      "Exception single positional indexer is out-of-bounds for dataframe /scratch/bf996/datasets/socrata/data/data.cityofnewyork.us/data-cityofnewyork-us.mifw-tguq.rows.csv\n",
      "skipping /scratch/bf996/datasets/socrata/data/data.cityofnewyork.us/data-cityofnewyork-us.r4c5-ndkx.rows.csv \n",
      "\n"
     ]
    },
    {
     "name": "stderr",
     "output_type": "stream",
     "text": [
      "648it [12:37,  3.35it/s]"
     ]
    },
    {
     "name": "stdout",
     "output_type": "stream",
     "text": [
      "Exception single positional indexer is out-of-bounds for dataframe /scratch/bf996/datasets/socrata/data/data.cityofnewyork.us/data-cityofnewyork-us.2sps-j9st.rows.csv\n"
     ]
    },
    {
     "name": "stderr",
     "output_type": "stream",
     "text": [
      "\r\n",
      "649it [12:38,  3.14it/s]"
     ]
    },
    {
     "name": "stdout",
     "output_type": "stream",
     "text": [
      "Exception single positional indexer is out-of-bounds for dataframe /scratch/bf996/datasets/socrata/data/data.cityofnewyork.us/data-cityofnewyork-us.yhuu-4pt3.rows.csv\n"
     ]
    },
    {
     "name": "stderr",
     "output_type": "stream",
     "text": [
      "656it [12:39,  6.89it/s]"
     ]
    },
    {
     "name": "stdout",
     "output_type": "stream",
     "text": [
      "Exception single positional indexer is out-of-bounds for dataframe /scratch/bf996/datasets/socrata/data/data.cityofnewyork.us/data-cityofnewyork-us.whux-iuiu.rows.csv\n",
      "skipping /scratch/bf996/datasets/socrata/data/data.cityofnewyork.us/data-cityofnewyork-us.a5nd-6mit.rows.csv \n",
      "\n"
     ]
    },
    {
     "name": "stderr",
     "output_type": "stream",
     "text": [
      "660it [12:39,  7.01it/s]/state/partition1/job-31563200/ipykernel_315622/1855039622.py:16: DtypeWarning: Columns (1,5,6,7,10,11,12,13,20,26,27,33,35,36,37,38,39,40,41,46,48,49,50,51,52,53,54,57,59,60,61,63,64,65,67,68,70,76,77,79,94,95,97) have mixed types. Specify dtype option on import or set low_memory=False.\n",
      "  df = next(chunks)\n",
      "662it [12:40,  3.44it/s]"
     ]
    },
    {
     "name": "stdout",
     "output_type": "stream",
     "text": [
      "Exception single positional indexer is out-of-bounds for dataframe /scratch/bf996/datasets/socrata/data/data.cityofnewyork.us/data-cityofnewyork-us.5uug-f49n.rows.csv\n"
     ]
    },
    {
     "name": "stderr",
     "output_type": "stream",
     "text": [
      "669it [12:43,  3.35it/s]"
     ]
    },
    {
     "name": "stdout",
     "output_type": "stream",
     "text": [
      "Exception single positional indexer is out-of-bounds for dataframe /scratch/bf996/datasets/socrata/data/data.cityofnewyork.us/data-cityofnewyork-us.xy2j-nm7j.rows.csv\n"
     ]
    },
    {
     "name": "stderr",
     "output_type": "stream",
     "text": [
      "677it [13:02,  1.59s/it]"
     ]
    },
    {
     "name": "stdout",
     "output_type": "stream",
     "text": [
      "Exception single positional indexer is out-of-bounds for dataframe /scratch/bf996/datasets/socrata/data/data.cityofnewyork.us/data-cityofnewyork-us.2jg5-6hqv.rows.csv\n"
     ]
    },
    {
     "name": "stderr",
     "output_type": "stream",
     "text": [
      "685it [13:20,  1.30s/it]"
     ]
    },
    {
     "name": "stdout",
     "output_type": "stream",
     "text": [
      "skipping /scratch/bf996/datasets/socrata/data/data.cityofnewyork.us/data-cityofnewyork-us.p7t3-5i9s.rows.csv \n",
      "\n"
     ]
    },
    {
     "name": "stderr",
     "output_type": "stream",
     "text": [
      "694it [13:25,  1.04it/s]"
     ]
    },
    {
     "name": "stdout",
     "output_type": "stream",
     "text": [
      "Exception single positional indexer is out-of-bounds for dataframe /scratch/bf996/datasets/socrata/data/data.cityofnewyork.us/data-cityofnewyork-us.43nn-pn8j.rows.csv\n"
     ]
    },
    {
     "name": "stderr",
     "output_type": "stream",
     "text": [
      "701it [13:26,  3.64it/s]"
     ]
    },
    {
     "name": "stdout",
     "output_type": "stream",
     "text": [
      "Exception single positional indexer is out-of-bounds for dataframe /scratch/bf996/datasets/socrata/data/data.cityofnewyork.us/data-cityofnewyork-us.b84a-xy2t.rows.csv\n",
      "Exception single positional indexer is out-of-bounds for dataframe /scratch/bf996/datasets/socrata/data/data.cityofnewyork.us/data-cityofnewyork-us.tcwb-nry3.rows.csv\n"
     ]
    },
    {
     "name": "stderr",
     "output_type": "stream",
     "text": [
      "707it [13:27,  7.35it/s]"
     ]
    },
    {
     "name": "stdout",
     "output_type": "stream",
     "text": [
      "Exception single positional indexer is out-of-bounds for dataframe /scratch/bf996/datasets/socrata/data/data.cityofnewyork.us/data-cityofnewyork-us.9vaq-mvvx.rows.csv\n"
     ]
    },
    {
     "name": "stderr",
     "output_type": "stream",
     "text": [
      "715it [13:29,  5.79it/s]"
     ]
    },
    {
     "name": "stdout",
     "output_type": "stream",
     "text": [
      "skipping /scratch/bf996/datasets/socrata/data/data.cityofnewyork.us/data-cityofnewyork-us.pjgc-h7uv.rows.csv \n",
      "\n",
      "Exception single positional indexer is out-of-bounds for dataframe /scratch/bf996/datasets/socrata/data/data.cityofnewyork.us/data-cityofnewyork-us.98ef-fxnm.rows.csv\n"
     ]
    },
    {
     "name": "stderr",
     "output_type": "stream",
     "text": [
      "727it [13:41,  1.08it/s]"
     ]
    },
    {
     "name": "stdout",
     "output_type": "stream",
     "text": [
      "Exception single positional indexer is out-of-bounds for dataframe /scratch/bf996/datasets/socrata/data/data.cityofnewyork.us/data-cityofnewyork-us.bheb-sjfi.rows.csv\n"
     ]
    },
    {
     "name": "stderr",
     "output_type": "stream",
     "text": [
      "741it [14:08,  1.12s/it]/state/partition1/job-31563200/ipykernel_315622/1855039622.py:16: DtypeWarning: Columns (245,246,249,250,253,254,288,289,319) have mixed types. Specify dtype option on import or set low_memory=False.\n",
      "  df = next(chunks)\n",
      "742it [14:08,  1.16it/s]"
     ]
    },
    {
     "name": "stdout",
     "output_type": "stream",
     "text": [
      "Exception single positional indexer is out-of-bounds for dataframe /scratch/bf996/datasets/socrata/data/data.cityofnewyork.us/data-cityofnewyork-us.jpcp-ic7c.rows.csv\n"
     ]
    },
    {
     "name": "stderr",
     "output_type": "stream",
     "text": [
      "/state/partition1/job-31563200/ipykernel_315622/1855039622.py:16: DtypeWarning: Columns (7) have mixed types. Specify dtype option on import or set low_memory=False.\n",
      "  df = next(chunks)\n",
      "743it [14:49, 12.57s/it]"
     ]
    },
    {
     "name": "stdout",
     "output_type": "stream",
     "text": [
      "Exception end of time for dataframe /scratch/bf996/datasets/socrata/data/data.cityofnewyork.us/data-cityofnewyork-us.kj4p-ruqc.rows.csv\n"
     ]
    },
    {
     "name": "stderr",
     "output_type": "stream",
     "text": [
      "751it [14:54,  1.60s/it]"
     ]
    },
    {
     "name": "stdout",
     "output_type": "stream",
     "text": [
      "skipping /scratch/bf996/datasets/socrata/data/data.cityofnewyork.us/data-cityofnewyork-us.bme5-7ty4.rows.csv \n",
      "\n"
     ]
    },
    {
     "name": "stderr",
     "output_type": "stream",
     "text": [
      "764it [15:08,  3.05it/s]"
     ]
    },
    {
     "name": "stdout",
     "output_type": "stream",
     "text": [
      "Exception No columns to parse from file for dataframe /scratch/bf996/datasets/socrata/data/data.cityofnewyork.us/data-cityofnewyork-us.rk6w-n3dw.rows.csv\n"
     ]
    },
    {
     "name": "stderr",
     "output_type": "stream",
     "text": [
      "768it [15:27,  1.92s/it]"
     ]
    },
    {
     "name": "stdout",
     "output_type": "stream",
     "text": [
      "Exception single positional indexer is out-of-bounds for dataframe /scratch/bf996/datasets/socrata/data/data.cityofnewyork.us/data-cityofnewyork-us.budf-qanm.rows.csv\n"
     ]
    },
    {
     "name": "stderr",
     "output_type": "stream",
     "text": [
      "783it [15:30,  5.29it/s]"
     ]
    },
    {
     "name": "stdout",
     "output_type": "stream",
     "text": [
      "Exception No columns to parse from file for dataframe /scratch/bf996/datasets/socrata/data/data.cityofnewyork.us/data-cityofnewyork-us.5x7b-baa2.rows.csv\n",
      "Exception single positional indexer is out-of-bounds for dataframe /scratch/bf996/datasets/socrata/data/data.cityofnewyork.us/data-cityofnewyork-us.97nd-ff3i.rows.csv\n"
     ]
    },
    {
     "name": "stderr",
     "output_type": "stream",
     "text": [
      "\r\n",
      "784it [15:31,  4.36it/s]"
     ]
    },
    {
     "name": "stdout",
     "output_type": "stream",
     "text": [
      "Exception single positional indexer is out-of-bounds for dataframe /scratch/bf996/datasets/socrata/data/data.cityofnewyork.us/data-cityofnewyork-us.qj7d-vb9s.rows.csv\n"
     ]
    },
    {
     "name": "stderr",
     "output_type": "stream",
     "text": [
      "792it [15:32,  8.41it/s]"
     ]
    },
    {
     "name": "stdout",
     "output_type": "stream",
     "text": [
      "Exception No columns to parse from file for dataframe /scratch/bf996/datasets/socrata/data/data.cityofnewyork.us/data-cityofnewyork-us.w23u-4th9.rows.csv\n",
      "Exception single positional indexer is out-of-bounds for dataframe /scratch/bf996/datasets/socrata/data/data.cityofnewyork.us/data-cityofnewyork-us.k9g3-nkxz.rows.csv\n"
     ]
    },
    {
     "name": "stderr",
     "output_type": "stream",
     "text": [
      "804it [15:42,  3.05it/s]"
     ]
    },
    {
     "name": "stdout",
     "output_type": "stream",
     "text": [
      "Exception single positional indexer is out-of-bounds for dataframe /scratch/bf996/datasets/socrata/data/data.cityofnewyork.us/data-cityofnewyork-us.9n6h-pt9g.rows.csv\n",
      "skipping /scratch/bf996/datasets/socrata/data/data.cityofnewyork.us/data-cityofnewyork-us.c9sj-fmsg.rows.csv \n",
      "\n"
     ]
    },
    {
     "name": "stderr",
     "output_type": "stream",
     "text": [
      "812it [15:44,  5.18it/s]"
     ]
    },
    {
     "name": "stdout",
     "output_type": "stream",
     "text": [
      "Exception single positional indexer is out-of-bounds for dataframe /scratch/bf996/datasets/socrata/data/data.cityofnewyork.us/data-cityofnewyork-us.7r6i-tdj2.rows.csv\n"
     ]
    },
    {
     "name": "stderr",
     "output_type": "stream",
     "text": [
      "\r\n",
      "814it [15:44,  5.42it/s]"
     ]
    },
    {
     "name": "stdout",
     "output_type": "stream",
     "text": [
      "Exception single positional indexer is out-of-bounds for dataframe /scratch/bf996/datasets/socrata/data/data.cityofnewyork.us/data-cityofnewyork-us.4dx7-axux.rows.csv\n"
     ]
    },
    {
     "name": "stderr",
     "output_type": "stream",
     "text": [
      "\r\n",
      "816it [15:44,  6.26it/s]"
     ]
    },
    {
     "name": "stdout",
     "output_type": "stream",
     "text": [
      "Exception single positional indexer is out-of-bounds for dataframe /scratch/bf996/datasets/socrata/data/data.cityofnewyork.us/data-cityofnewyork-us.n5xc-7jfa.rows.csv\n"
     ]
    },
    {
     "name": "stderr",
     "output_type": "stream",
     "text": [
      "821it [15:45,  7.42it/s]"
     ]
    },
    {
     "name": "stdout",
     "output_type": "stream",
     "text": [
      "skipping /scratch/bf996/datasets/socrata/data/data.cityofnewyork.us/data-cityofnewyork-us.m3yx-mvk4.rows.csv \n",
      "\n"
     ]
    },
    {
     "name": "stderr",
     "output_type": "stream",
     "text": [
      "829it [15:47,  4.52it/s]"
     ]
    },
    {
     "name": "stdout",
     "output_type": "stream",
     "text": [
      "skipping /scratch/bf996/datasets/socrata/data/data.cityofnewyork.us/data-cityofnewyork-us.c4dx-tk4d.rows.csv \n",
      "\n"
     ]
    },
    {
     "name": "stderr",
     "output_type": "stream",
     "text": [
      "\r\n",
      "830it [15:47,  4.84it/s]"
     ]
    },
    {
     "name": "stdout",
     "output_type": "stream",
     "text": [
      "skipping /scratch/bf996/datasets/socrata/data/data.cityofnewyork.us/data-cityofnewyork-us.fmf3-knd8.rows.csv \n",
      "\n"
     ]
    },
    {
     "name": "stderr",
     "output_type": "stream",
     "text": [
      "832it [15:48,  4.39it/s]/state/partition1/job-31563200/ipykernel_315622/1855039622.py:16: DtypeWarning: Columns (17) have mixed types. Specify dtype option on import or set low_memory=False.\n",
      "  df = next(chunks)\n",
      "834it [15:48,  4.03it/s]"
     ]
    },
    {
     "name": "stdout",
     "output_type": "stream",
     "text": [
      "Exception single positional indexer is out-of-bounds for dataframe /scratch/bf996/datasets/socrata/data/data.cityofnewyork.us/data-cityofnewyork-us.sbnd-xujn.rows.csv\n"
     ]
    },
    {
     "name": "stderr",
     "output_type": "stream",
     "text": [
      "837it [15:56,  1.07s/it]"
     ]
    },
    {
     "name": "stdout",
     "output_type": "stream",
     "text": [
      "Exception single positional indexer is out-of-bounds for dataframe /scratch/bf996/datasets/socrata/data/data.cityofnewyork.us/data-cityofnewyork-us.ihfw-zy9j.rows.csv\n"
     ]
    },
    {
     "name": "stderr",
     "output_type": "stream",
     "text": [
      "\r\n",
      "839it [15:56,  1.43it/s]"
     ]
    },
    {
     "name": "stdout",
     "output_type": "stream",
     "text": [
      "Exception No columns to parse from file for dataframe /scratch/bf996/datasets/socrata/data/data.cityofnewyork.us/data-cityofnewyork-us.7w9p-j93r.rows.csv\n"
     ]
    },
    {
     "name": "stderr",
     "output_type": "stream",
     "text": [
      "855it [16:16,  1.36s/it]"
     ]
    },
    {
     "name": "stdout",
     "output_type": "stream",
     "text": [
      "skipping /scratch/bf996/datasets/socrata/data/data.cityofnewyork.us/data-cityofnewyork-us.uwyv-629c.rows.csv \n",
      "\n",
      "skipping /scratch/bf996/datasets/socrata/data/data.cityofnewyork.us/data-cityofnewyork-us.qdq3-9eqn.rows.csv \n",
      "\n"
     ]
    },
    {
     "name": "stderr",
     "output_type": "stream",
     "text": [
      "/state/partition1/job-31563200/ipykernel_315622/1855039622.py:16: DtypeWarning: Columns (3) have mixed types. Specify dtype option on import or set low_memory=False.\n",
      "  df = next(chunks)\n",
      "858it [16:21,  1.61s/it]"
     ]
    },
    {
     "name": "stdout",
     "output_type": "stream",
     "text": [
      "Exception No columns to parse from file for dataframe /scratch/bf996/datasets/socrata/data/data.cityofnewyork.us/data-cityofnewyork-us.rej3-v4c3.rows.csv\n"
     ]
    },
    {
     "name": "stderr",
     "output_type": "stream",
     "text": [
      "861it [16:22,  1.02s/it]"
     ]
    },
    {
     "name": "stdout",
     "output_type": "stream",
     "text": [
      "Exception single positional indexer is out-of-bounds for dataframe /scratch/bf996/datasets/socrata/data/data.cityofnewyork.us/data-cityofnewyork-us.vn4m-mk4t.rows.csv\n"
     ]
    },
    {
     "name": "stderr",
     "output_type": "stream",
     "text": [
      "865it [16:23,  1.77it/s]/state/partition1/job-31563200/ipykernel_315622/1855039622.py:16: DtypeWarning: Columns (17) have mixed types. Specify dtype option on import or set low_memory=False.\n",
      "  df = next(chunks)\n",
      "868it [16:29,  1.16s/it]"
     ]
    },
    {
     "name": "stdout",
     "output_type": "stream",
     "text": [
      "Exception No columns to parse from file for dataframe /scratch/bf996/datasets/socrata/data/data.cityofnewyork.us/data-cityofnewyork-us.hc32-b4uk.rows.csv\n"
     ]
    },
    {
     "name": "stderr",
     "output_type": "stream",
     "text": [
      "874it [16:31,  1.74it/s]"
     ]
    },
    {
     "name": "stdout",
     "output_type": "stream",
     "text": [
      "skipping /scratch/bf996/datasets/socrata/data/data.cityofnewyork.us/data-cityofnewyork-us.p937-wjvj.rows.csv \n",
      "\n",
      "Exception No columns to parse from file for dataframe /scratch/bf996/datasets/socrata/data/data.cityofnewyork.us/data-cityofnewyork-us.3wyv-kxab.rows.csv\n",
      "skipping /scratch/bf996/datasets/socrata/data/data.cityofnewyork.us/data-cityofnewyork-us.qt6m-xctn.rows.csv \n",
      "\n"
     ]
    },
    {
     "name": "stderr",
     "output_type": "stream",
     "text": [
      "879it [16:33,  1.99it/s]"
     ]
    },
    {
     "name": "stdout",
     "output_type": "stream",
     "text": [
      "Exception single positional indexer is out-of-bounds for dataframe /scratch/bf996/datasets/socrata/data/data.cityofnewyork.us/data-cityofnewyork-us.2c9f-2ta9.rows.csv\n"
     ]
    },
    {
     "name": "stderr",
     "output_type": "stream",
     "text": [
      "889it [16:35,  5.58it/s]"
     ]
    },
    {
     "name": "stdout",
     "output_type": "stream",
     "text": [
      "Exception No columns to parse from file for dataframe /scratch/bf996/datasets/socrata/data/data.cityofnewyork.us/data-cityofnewyork-us.ips9-qxk8.rows.csv\n"
     ]
    },
    {
     "name": "stderr",
     "output_type": "stream",
     "text": [
      "895it [16:36,  5.23it/s]"
     ]
    },
    {
     "name": "stdout",
     "output_type": "stream",
     "text": [
      "Exception single positional indexer is out-of-bounds for dataframe /scratch/bf996/datasets/socrata/data/data.cityofnewyork.us/data-cityofnewyork-us.ebkm-iyma.rows.csv\n",
      "skipping /scratch/bf996/datasets/socrata/data/data.cityofnewyork.us/data-cityofnewyork-us.m6nq-qud6.rows.csv \n",
      "\n",
      "skipping /scratch/bf996/datasets/socrata/data/data.cityofnewyork.us/data-cityofnewyork-us.bty7-2jhb.rows.csv \n",
      "\n"
     ]
    },
    {
     "name": "stderr",
     "output_type": "stream",
     "text": [
      "904it [16:38,  4.76it/s]"
     ]
    },
    {
     "name": "stdout",
     "output_type": "stream",
     "text": [
      "Exception single positional indexer is out-of-bounds for dataframe /scratch/bf996/datasets/socrata/data/data.cityofnewyork.us/data-cityofnewyork-us.kswi-37bp.rows.csv\n"
     ]
    },
    {
     "name": "stderr",
     "output_type": "stream",
     "text": [
      "908it [16:39,  4.78it/s]"
     ]
    },
    {
     "name": "stdout",
     "output_type": "stream",
     "text": [
      "Exception No columns to parse from file for dataframe /scratch/bf996/datasets/socrata/data/data.cityofnewyork.us/data-cityofnewyork-us.8fgk-qysk.rows.csv\n",
      "skipping /scratch/bf996/datasets/socrata/data/data.cityofnewyork.us/data-cityofnewyork-us.xjtr-h2x2.rows.csv \n",
      "\n"
     ]
    },
    {
     "name": "stderr",
     "output_type": "stream",
     "text": [
      "912it [16:40,  5.27it/s]"
     ]
    },
    {
     "name": "stdout",
     "output_type": "stream",
     "text": [
      "Exception single positional indexer is out-of-bounds for dataframe /scratch/bf996/datasets/socrata/data/data.cityofnewyork.us/data-cityofnewyork-us.xphq-immx.rows.csv\n",
      "Exception single positional indexer is out-of-bounds for dataframe /scratch/bf996/datasets/socrata/data/data.cityofnewyork.us/data-cityofnewyork-us.fuhs-xmg2.rows.csv\n"
     ]
    },
    {
     "name": "stderr",
     "output_type": "stream",
     "text": [
      "916it [16:40,  5.92it/s]"
     ]
    },
    {
     "name": "stdout",
     "output_type": "stream",
     "text": [
      "Exception single positional indexer is out-of-bounds for dataframe /scratch/bf996/datasets/socrata/data/data.cityofnewyork.us/data-cityofnewyork-us.cwy2-px8b.rows.csv\n"
     ]
    },
    {
     "name": "stderr",
     "output_type": "stream",
     "text": [
      "919it [16:41,  7.25it/s]"
     ]
    },
    {
     "name": "stdout",
     "output_type": "stream",
     "text": [
      "Exception single positional indexer is out-of-bounds for dataframe /scratch/bf996/datasets/socrata/data/data.cityofnewyork.us/data-cityofnewyork-us.h4mf-f24e.rows.csv\n"
     ]
    },
    {
     "name": "stderr",
     "output_type": "stream",
     "text": [
      "922it [16:41,  6.00it/s]"
     ]
    },
    {
     "name": "stdout",
     "output_type": "stream",
     "text": [
      "Exception single positional indexer is out-of-bounds for dataframe /scratch/bf996/datasets/socrata/data/data.cityofnewyork.us/data-cityofnewyork-us.b4dv-8mq4.rows.csv\n"
     ]
    },
    {
     "name": "stderr",
     "output_type": "stream",
     "text": [
      "929it [16:43,  4.40it/s]/state/partition1/job-31563200/ipykernel_315622/1855039622.py:16: DtypeWarning: Columns (7,8,9,10,11,12,13,14,15,16,17) have mixed types. Specify dtype option on import or set low_memory=False.\n",
      "  df = next(chunks)\n",
      "938it [16:47,  2.80it/s]"
     ]
    },
    {
     "name": "stdout",
     "output_type": "stream",
     "text": [
      "Exception No columns to parse from file for dataframe /scratch/bf996/datasets/socrata/data/data.cityofnewyork.us/data-cityofnewyork-us.f4ux-qw5u.rows.csv\n"
     ]
    },
    {
     "name": "stderr",
     "output_type": "stream",
     "text": [
      "954it [16:55,  2.89it/s]"
     ]
    },
    {
     "name": "stdout",
     "output_type": "stream",
     "text": [
      "Exception single positional indexer is out-of-bounds for dataframe /scratch/bf996/datasets/socrata/data/data.cityofnewyork.us/data-cityofnewyork-us.hphp-39kk.rows.csv\n"
     ]
    },
    {
     "name": "stderr",
     "output_type": "stream",
     "text": [
      "958it [16:56,  4.13it/s]"
     ]
    },
    {
     "name": "stdout",
     "output_type": "stream",
     "text": [
      "skipping /scratch/bf996/datasets/socrata/data/data.cityofnewyork.us/data-cityofnewyork-us.biws-g3hs.rows.csv \n",
      "\n"
     ]
    },
    {
     "name": "stderr",
     "output_type": "stream",
     "text": [
      "971it [17:15,  2.40s/it]"
     ]
    },
    {
     "name": "stdout",
     "output_type": "stream",
     "text": [
      "Exception single positional indexer is out-of-bounds for dataframe /scratch/bf996/datasets/socrata/data/data.cityofnewyork.us/data-cityofnewyork-us.6kcb-9g8d.rows.csv\n",
      "Exception single positional indexer is out-of-bounds for dataframe /scratch/bf996/datasets/socrata/data/data.cityofnewyork.us/data-cityofnewyork-us.fiag-ac7u.rows.csv\n"
     ]
    },
    {
     "name": "stderr",
     "output_type": "stream",
     "text": [
      "977it [17:18,  1.08it/s]"
     ]
    },
    {
     "name": "stdout",
     "output_type": "stream",
     "text": [
      "Exception single positional indexer is out-of-bounds for dataframe /scratch/bf996/datasets/socrata/data/data.cityofnewyork.us/data-cityofnewyork-us.dx8z-6nev.rows.csv\n",
      "skipping /scratch/bf996/datasets/socrata/data/data.cityofnewyork.us/data-cityofnewyork-us.xzj8-i3jk.rows.csv \n",
      "\n",
      "Exception No columns to parse from file for dataframe /scratch/bf996/datasets/socrata/data/data.cityofnewyork.us/data-cityofnewyork-us.u8dp-jhsx.rows.csv\n"
     ]
    },
    {
     "name": "stderr",
     "output_type": "stream",
     "text": [
      "\r\n",
      "980it [17:19,  1.56it/s]"
     ]
    },
    {
     "name": "stdout",
     "output_type": "stream",
     "text": [
      "Exception single positional indexer is out-of-bounds for dataframe /scratch/bf996/datasets/socrata/data/data.cityofnewyork.us/data-cityofnewyork-us.9s68-zggy.rows.csv\n",
      "Exception single positional indexer is out-of-bounds for dataframe /scratch/bf996/datasets/socrata/data/data.cityofnewyork.us/data-cityofnewyork-us.wmn9-zjsc.rows.csv\n"
     ]
    },
    {
     "name": "stderr",
     "output_type": "stream",
     "text": [
      "987it [17:20,  3.44it/s]"
     ]
    },
    {
     "name": "stdout",
     "output_type": "stream",
     "text": [
      "skipping /scratch/bf996/datasets/socrata/data/data.cityofnewyork.us/data-cityofnewyork-us.2nwg-uqyg.rows.csv \n",
      "\n"
     ]
    },
    {
     "name": "stderr",
     "output_type": "stream",
     "text": [
      "994it [17:21,  4.46it/s]"
     ]
    },
    {
     "name": "stdout",
     "output_type": "stream",
     "text": [
      "Exception single positional indexer is out-of-bounds for dataframe /scratch/bf996/datasets/socrata/data/data.cityofnewyork.us/data-cityofnewyork-us.as9z-kwsh.rows.csv\n"
     ]
    },
    {
     "name": "stderr",
     "output_type": "stream",
     "text": [
      "1000it [17:22,  7.94it/s]"
     ]
    },
    {
     "name": "stdout",
     "output_type": "stream",
     "text": [
      "skipping /scratch/bf996/datasets/socrata/data/data.cityofnewyork.us/data-cityofnewyork-us.td5q-ry6d.rows.csv \n",
      "\n"
     ]
    },
    {
     "name": "stderr",
     "output_type": "stream",
     "text": [
      "1003it [17:22,  6.24it/s]"
     ]
    },
    {
     "name": "stdout",
     "output_type": "stream",
     "text": [
      "Exception single positional indexer is out-of-bounds for dataframe /scratch/bf996/datasets/socrata/data/data.cityofnewyork.us/data-cityofnewyork-us.8isn-pgv3.rows.csv\n"
     ]
    },
    {
     "name": "stderr",
     "output_type": "stream",
     "text": [
      "1006it [17:23,  6.36it/s]"
     ]
    },
    {
     "name": "stdout",
     "output_type": "stream",
     "text": [
      "Exception single positional indexer is out-of-bounds for dataframe /scratch/bf996/datasets/socrata/data/data.cityofnewyork.us/data-cityofnewyork-us.iyka-7txw.rows.csv\n"
     ]
    },
    {
     "name": "stderr",
     "output_type": "stream",
     "text": [
      "1020it [17:28,  4.02it/s]"
     ]
    },
    {
     "name": "stdout",
     "output_type": "stream",
     "text": [
      "Exception single positional indexer is out-of-bounds for dataframe /scratch/bf996/datasets/socrata/data/data.cityofnewyork.us/data-cityofnewyork-us.wnhn-bgpv.rows.csv\n"
     ]
    },
    {
     "name": "stderr",
     "output_type": "stream",
     "text": [
      "1024it [17:29,  4.79it/s]"
     ]
    },
    {
     "name": "stdout",
     "output_type": "stream",
     "text": [
      "Exception single positional indexer is out-of-bounds for dataframe /scratch/bf996/datasets/socrata/data/data.cityofnewyork.us/data-cityofnewyork-us.u69g-mvrb.rows.csv\n"
     ]
    },
    {
     "name": "stderr",
     "output_type": "stream",
     "text": [
      "/state/partition1/job-31563200/ipykernel_315622/1855039622.py:16: DtypeWarning: Columns (11,12) have mixed types. Specify dtype option on import or set low_memory=False.\n",
      "  df = next(chunks)\n",
      "1030it [17:55,  2.28s/it]"
     ]
    },
    {
     "name": "stdout",
     "output_type": "stream",
     "text": [
      "Exception single positional indexer is out-of-bounds for dataframe /scratch/bf996/datasets/socrata/data/data.cityofnewyork.us/data-cityofnewyork-us.8b9a-pywy.rows.csv\n"
     ]
    },
    {
     "name": "stderr",
     "output_type": "stream",
     "text": [
      "1036it [18:03,  1.60s/it]"
     ]
    },
    {
     "name": "stdout",
     "output_type": "stream",
     "text": [
      "skipping /scratch/bf996/datasets/socrata/data/data.cityofnewyork.us/data-cityofnewyork-us.k7b3-4y4m.rows.csv \n",
      "\n"
     ]
    },
    {
     "name": "stderr",
     "output_type": "stream",
     "text": [
      "1038it [18:04,  1.05s/it]/state/partition1/job-31563200/ipykernel_315622/1855039622.py:16: DtypeWarning: Columns (36,71,127,142,149,166) have mixed types. Specify dtype option on import or set low_memory=False.\n",
      "  df = next(chunks)\n",
      "1039it [18:06,  1.28s/it]"
     ]
    },
    {
     "name": "stdout",
     "output_type": "stream",
     "text": [
      "Exception single positional indexer is out-of-bounds for dataframe /scratch/bf996/datasets/socrata/data/data.cityofnewyork.us/data-cityofnewyork-us.juyv-2jek.rows.csv\n",
      "skipping /scratch/bf996/datasets/socrata/data/data.cityofnewyork.us/data-cityofnewyork-us.vwpc-kje2.rows.csv \n",
      "\n"
     ]
    },
    {
     "name": "stderr",
     "output_type": "stream",
     "text": [
      "\r\n",
      "1041it [18:06,  1.16it/s]"
     ]
    },
    {
     "name": "stdout",
     "output_type": "stream",
     "text": [
      "skipping /scratch/bf996/datasets/socrata/data/data.cityofnewyork.us/data-cityofnewyork-us.shus-qn78.rows.csv \n",
      "\n",
      "skipping /scratch/bf996/datasets/socrata/data/data.cityofnewyork.us/data-cityofnewyork-us.t9iz-i583.rows.csv \n",
      "\n"
     ]
    },
    {
     "name": "stderr",
     "output_type": "stream",
     "text": [
      "1047it [18:09,  1.76it/s]"
     ]
    },
    {
     "name": "stdout",
     "output_type": "stream",
     "text": [
      "skipping /scratch/bf996/datasets/socrata/data/data.cityofnewyork.us/data-cityofnewyork-us.8sdw-8vja.rows.csv \n",
      "\n",
      "Exception No columns to parse from file for dataframe /scratch/bf996/datasets/socrata/data/data.cityofnewyork.us/data-cityofnewyork-us.x2z9-ihqe.rows.csv\n"
     ]
    },
    {
     "name": "stderr",
     "output_type": "stream",
     "text": [
      "1050it [18:11,  1.82it/s]"
     ]
    },
    {
     "name": "stdout",
     "output_type": "stream",
     "text": [
      "skipping /scratch/bf996/datasets/socrata/data/data.cityofnewyork.us/data-cityofnewyork-us.y7az-s7wc.rows.csv \n",
      "\n"
     ]
    },
    {
     "name": "stderr",
     "output_type": "stream",
     "text": [
      "\r\n",
      "1053it [18:11,  2.50it/s]"
     ]
    },
    {
     "name": "stdout",
     "output_type": "stream",
     "text": [
      "skipping /scratch/bf996/datasets/socrata/data/data.cityofnewyork.us/data-cityofnewyork-us.avhb-5jhc.rows.csv \n",
      "\n"
     ]
    },
    {
     "name": "stderr",
     "output_type": "stream",
     "text": [
      "/state/partition1/job-31563200/ipykernel_315622/1855039622.py:16: DtypeWarning: Columns (9,15,218,219) have mixed types. Specify dtype option on import or set low_memory=False.\n",
      "  df = next(chunks)\n",
      "1055it [18:53,  6.15s/it]"
     ]
    },
    {
     "name": "stdout",
     "output_type": "stream",
     "text": [
      "Exception end of time for dataframe /scratch/bf996/datasets/socrata/data/data.cityofnewyork.us/data-cityofnewyork-us.usc3-8zwd.rows.csv\n"
     ]
    },
    {
     "name": "stderr",
     "output_type": "stream",
     "text": [
      "1061it [18:54,  2.26s/it]"
     ]
    },
    {
     "name": "stdout",
     "output_type": "stream",
     "text": [
      "Exception single positional indexer is out-of-bounds for dataframe /scratch/bf996/datasets/socrata/data/data.cityofnewyork.us/data-cityofnewyork-us.s3k6-pzi2.rows.csv\n",
      "Exception single positional indexer is out-of-bounds for dataframe /scratch/bf996/datasets/socrata/data/data.cityofnewyork.us/data-cityofnewyork-us.9h53-fsqa.rows.csv\n",
      "skipping /scratch/bf996/datasets/socrata/data/data.cityofnewyork.us/data-cityofnewyork-us.gi8d-wdg5.rows.csv \n",
      "\n"
     ]
    },
    {
     "name": "stderr",
     "output_type": "stream",
     "text": [
      "1073it [19:21,  1.14s/it]/state/partition1/job-31563200/ipykernel_315622/1855039622.py:16: DtypeWarning: Columns (16) have mixed types. Specify dtype option on import or set low_memory=False.\n",
      "  df = next(chunks)\n",
      "1076it [19:22,  1.39it/s]"
     ]
    },
    {
     "name": "stdout",
     "output_type": "stream",
     "text": [
      "Exception single positional indexer is out-of-bounds for dataframe /scratch/bf996/datasets/socrata/data/data.cityofnewyork.us/data-cityofnewyork-us.ghpb-fpea.rows.csv\n"
     ]
    },
    {
     "name": "stderr",
     "output_type": "stream",
     "text": [
      "1079it [19:28,  1.43s/it]"
     ]
    },
    {
     "name": "stdout",
     "output_type": "stream",
     "text": [
      "Exception No columns to parse from file for dataframe /scratch/bf996/datasets/socrata/data/data.cityofnewyork.us/data-cityofnewyork-us.xi6w-cfy5.rows.csv\n",
      "Exception single positional indexer is out-of-bounds for dataframe /scratch/bf996/datasets/socrata/data/data.cityofnewyork.us/data-cityofnewyork-us.7yay-m4ae.rows.csv\n"
     ]
    },
    {
     "name": "stderr",
     "output_type": "stream",
     "text": [
      "1087it [19:29,  3.16it/s]"
     ]
    },
    {
     "name": "stdout",
     "output_type": "stream",
     "text": [
      "skipping /scratch/bf996/datasets/socrata/data/data.cityofnewyork.us/data-cityofnewyork-us.rgyu-ii48.rows.csv \n",
      "\n"
     ]
    },
    {
     "name": "stderr",
     "output_type": "stream",
     "text": [
      "1094it [19:32,  2.59it/s]"
     ]
    },
    {
     "name": "stdout",
     "output_type": "stream",
     "text": [
      "Exception single positional indexer is out-of-bounds for dataframe /scratch/bf996/datasets/socrata/data/data.cityofnewyork.us/data-cityofnewyork-us.grnn-mvqe.rows.csv\n"
     ]
    },
    {
     "name": "stderr",
     "output_type": "stream",
     "text": [
      "\r\n",
      "1096it [19:32,  3.46it/s]"
     ]
    },
    {
     "name": "stdout",
     "output_type": "stream",
     "text": [
      "Exception single positional indexer is out-of-bounds for dataframe /scratch/bf996/datasets/socrata/data/data.cityofnewyork.us/data-cityofnewyork-us.5kru-rjmf.rows.csv\n"
     ]
    },
    {
     "name": "stderr",
     "output_type": "stream",
     "text": [
      "1111it [19:38,  3.44it/s]"
     ]
    },
    {
     "name": "stdout",
     "output_type": "stream",
     "text": [
      "skipping /scratch/bf996/datasets/socrata/data/data.cityofnewyork.us/data-cityofnewyork-us.h9gi-nx95.rows.csv \n",
      "\n",
      "skipping /scratch/bf996/datasets/socrata/data/data.cityofnewyork.us/data-cityofnewyork-us.2k3g-r445.rows.csv \n",
      "\n"
     ]
    },
    {
     "name": "stderr",
     "output_type": "stream",
     "text": [
      "\r\n",
      "1113it [19:38,  4.69it/s]"
     ]
    },
    {
     "name": "stdout",
     "output_type": "stream",
     "text": [
      "skipping /scratch/bf996/datasets/socrata/data/data.cityofnewyork.us/data-cityofnewyork-us.3rfa-3xsf.rows.csv \n",
      "\n"
     ]
    },
    {
     "name": "stderr",
     "output_type": "stream",
     "text": [
      "/state/partition1/job-31563200/ipykernel_315622/1855039622.py:16: DtypeWarning: Columns (32) have mixed types. Specify dtype option on import or set low_memory=False.\n",
      "  df = next(chunks)\n",
      "\r\n",
      "1116it [19:38,  5.12it/s]"
     ]
    },
    {
     "name": "stdout",
     "output_type": "stream",
     "text": [
      "Exception single positional indexer is out-of-bounds for dataframe /scratch/bf996/datasets/socrata/data/data.cityofnewyork.us/data-cityofnewyork-us.k3cd-yu9d.rows.csv\n"
     ]
    },
    {
     "name": "stderr",
     "output_type": "stream",
     "text": [
      "1129it [19:46,  2.30it/s]"
     ]
    },
    {
     "name": "stdout",
     "output_type": "stream",
     "text": [
      "Exception single positional indexer is out-of-bounds for dataframe /scratch/bf996/datasets/socrata/data/data.cityofnewyork.us/data-cityofnewyork-us.ycrg-ses3.rows.csv\n"
     ]
    },
    {
     "name": "stderr",
     "output_type": "stream",
     "text": [
      "1136it [19:48,  4.54it/s]"
     ]
    },
    {
     "name": "stdout",
     "output_type": "stream",
     "text": [
      "Exception single positional indexer is out-of-bounds for dataframe /scratch/bf996/datasets/socrata/data/data.cityofnewyork.us/data-cityofnewyork-us.5e7x-8jy6.rows.csv\n"
     ]
    },
    {
     "name": "stderr",
     "output_type": "stream",
     "text": [
      "1148it [19:50,  8.68it/s]"
     ]
    },
    {
     "name": "stdout",
     "output_type": "stream",
     "text": [
      "skipping /scratch/bf996/datasets/socrata/data/data.cityofnewyork.us/data-cityofnewyork-us.kyad-zm4j.rows.csv \n",
      "\n",
      "skipping /scratch/bf996/datasets/socrata/data/data.cityofnewyork.us/data-cityofnewyork-us.8m42-w767.rows.csv \n",
      "\n"
     ]
    },
    {
     "name": "stderr",
     "output_type": "stream",
     "text": [
      "1158it [19:52,  5.52it/s]"
     ]
    },
    {
     "name": "stdout",
     "output_type": "stream",
     "text": [
      "Exception single positional indexer is out-of-bounds for dataframe /scratch/bf996/datasets/socrata/data/data.cityofnewyork.us/data-cityofnewyork-us.ci93-uc8s.rows.csv\n",
      "Exception single positional indexer is out-of-bounds for dataframe /scratch/bf996/datasets/socrata/data/data.cityofnewyork.us/data-cityofnewyork-us.e2gu-mjqa.rows.csv\n"
     ]
    },
    {
     "name": "stderr",
     "output_type": "stream",
     "text": [
      "1162it [19:53,  6.76it/s]"
     ]
    },
    {
     "name": "stdout",
     "output_type": "stream",
     "text": [
      "Exception single positional indexer is out-of-bounds for dataframe /scratch/bf996/datasets/socrata/data/data.cityofnewyork.us/data-cityofnewyork-us.q5u8-89nv.rows.csv\n"
     ]
    },
    {
     "name": "stderr",
     "output_type": "stream",
     "text": [
      "1165it [19:53,  6.43it/s]"
     ]
    },
    {
     "name": "stdout",
     "output_type": "stream",
     "text": [
      "skipping /scratch/bf996/datasets/socrata/data/data.cityofnewyork.us/data-cityofnewyork-us.2upf-qytp.rows.csv \n",
      "\n"
     ]
    },
    {
     "name": "stderr",
     "output_type": "stream",
     "text": [
      "1175it [20:13,  2.18it/s]"
     ]
    },
    {
     "name": "stdout",
     "output_type": "stream",
     "text": [
      "Exception single positional indexer is out-of-bounds for dataframe /scratch/bf996/datasets/socrata/data/data.cityofnewyork.us/data-cityofnewyork-us.xatq-cxeq.rows.csv\n"
     ]
    },
    {
     "name": "stderr",
     "output_type": "stream",
     "text": [
      "1187it [20:16,  6.58it/s]"
     ]
    },
    {
     "name": "stdout",
     "output_type": "stream",
     "text": [
      "skipping /scratch/bf996/datasets/socrata/data/data.cityofnewyork.us/data-cityofnewyork-us.uvpi-gqnh.rows.csv \n",
      "\n",
      "skipping /scratch/bf996/datasets/socrata/data/data.cityofnewyork.us/data-cityofnewyork-us.c284-tqph.rows.csv \n",
      "\n",
      "Exception No columns to parse from file for dataframe /scratch/bf996/datasets/socrata/data/data.cityofnewyork.us/data-cityofnewyork-us.3ftn-akuh.rows.csv\n"
     ]
    },
    {
     "name": "stderr",
     "output_type": "stream",
     "text": [
      "1192it [20:17,  6.20it/s]"
     ]
    },
    {
     "name": "stdout",
     "output_type": "stream",
     "text": [
      "Exception No columns to parse from file for dataframe /scratch/bf996/datasets/socrata/data/data.cityofnewyork.us/data-cityofnewyork-us.9q3s-ajq8.rows.csv\n",
      "skipping /scratch/bf996/datasets/socrata/data/data.cityofnewyork.us/data-cityofnewyork-us.hvrh-b6nb.rows.csv \n",
      "\n"
     ]
    },
    {
     "name": "stderr",
     "output_type": "stream",
     "text": [
      "1201it [20:20,  3.13it/s]"
     ]
    },
    {
     "name": "stdout",
     "output_type": "stream",
     "text": [
      "skipping /scratch/bf996/datasets/socrata/data/data.cityofnewyork.us/data-cityofnewyork-us.tm6d-hbzd.rows.csv \n",
      "\n"
     ]
    },
    {
     "name": "stderr",
     "output_type": "stream",
     "text": [
      "1207it [20:24,  2.26it/s]"
     ]
    },
    {
     "name": "stdout",
     "output_type": "stream",
     "text": [
      "Exception single positional indexer is out-of-bounds for dataframe /scratch/bf996/datasets/socrata/data/data.cityofnewyork.us/data-cityofnewyork-us.uxsz-6j5j.rows.csv\n",
      "Exception single positional indexer is out-of-bounds for dataframe /scratch/bf996/datasets/socrata/data/data.cityofnewyork.us/data-cityofnewyork-us.m6ad-jy3s.rows.csv\n"
     ]
    },
    {
     "name": "stderr",
     "output_type": "stream",
     "text": [
      "/state/partition1/job-31563200/ipykernel_315622/1855039622.py:16: DtypeWarning: Columns (9) have mixed types. Specify dtype option on import or set low_memory=False.\n",
      "  df = next(chunks)\n",
      "1210it [20:37,  2.09s/it]"
     ]
    },
    {
     "name": "stdout",
     "output_type": "stream",
     "text": [
      "Exception No columns to parse from file for dataframe /scratch/bf996/datasets/socrata/data/data.cityofnewyork.us/data-cityofnewyork-us.vm3f-2n7x.rows.csv\n"
     ]
    },
    {
     "name": "stderr",
     "output_type": "stream",
     "text": [
      "1213it [20:37,  1.27s/it]"
     ]
    },
    {
     "name": "stdout",
     "output_type": "stream",
     "text": [
      "skipping /scratch/bf996/datasets/socrata/data/data.cityofnewyork.us/data-cityofnewyork-us.kpv8-upnp.rows.csv \n",
      "\n"
     ]
    },
    {
     "name": "stderr",
     "output_type": "stream",
     "text": [
      "/state/partition1/job-31563200/ipykernel_315622/1855039622.py:16: DtypeWarning: Columns (11,17,23,80,234,235,236) have mixed types. Specify dtype option on import or set low_memory=False.\n",
      "  df = next(chunks)\n",
      "1223it [21:38,  2.11s/it]"
     ]
    },
    {
     "name": "stdout",
     "output_type": "stream",
     "text": [
      "skipping /scratch/bf996/datasets/socrata/data/data.cityofnewyork.us/data-cityofnewyork-us.pvkv-25ck.rows.csv \n",
      "\n"
     ]
    },
    {
     "name": "stderr",
     "output_type": "stream",
     "text": [
      "/state/partition1/job-31563200/ipykernel_315622/1855039622.py:16: DtypeWarning: Columns (12,18,72,81,229,230) have mixed types. Specify dtype option on import or set low_memory=False.\n",
      "  df = next(chunks)\n",
      "1229it [21:42,  1.09s/it]"
     ]
    },
    {
     "name": "stdout",
     "output_type": "stream",
     "text": [
      "skipping /scratch/bf996/datasets/socrata/data/data.cityofnewyork.us/data-cityofnewyork-us.sqcr-6mww.rows.csv \n",
      "\n",
      "Exception single positional indexer is out-of-bounds for dataframe /scratch/bf996/datasets/socrata/data/data.cityofnewyork.us/data-cityofnewyork-us.yjpx-srhp.rows.csv\n"
     ]
    },
    {
     "name": "stderr",
     "output_type": "stream",
     "text": [
      "1236it [21:44,  1.92it/s]"
     ]
    },
    {
     "name": "stdout",
     "output_type": "stream",
     "text": [
      "skipping /scratch/bf996/datasets/socrata/data/data.cityofnewyork.us/data-cityofnewyork-us.w7fs-fd9i.rows.csv \n",
      "\n"
     ]
    },
    {
     "name": "stderr",
     "output_type": "stream",
     "text": [
      "1245it [21:52,  2.25it/s]"
     ]
    },
    {
     "name": "stdout",
     "output_type": "stream",
     "text": [
      "skipping /scratch/bf996/datasets/socrata/data/data.cityofnewyork.us/data-cityofnewyork-us.t29m-gskq.rows.csv \n",
      "\n"
     ]
    },
    {
     "name": "stderr",
     "output_type": "stream",
     "text": [
      "1250it [21:56,  1.23it/s]"
     ]
    },
    {
     "name": "stdout",
     "output_type": "stream",
     "text": [
      "skipping /scratch/bf996/datasets/socrata/data/data.cityofnewyork.us/data-cityofnewyork-us.pkmi-4kfn.rows.csv \n",
      "\n"
     ]
    },
    {
     "name": "stderr",
     "output_type": "stream",
     "text": [
      "\r\n",
      "1252it [21:56,  1.86it/s]"
     ]
    },
    {
     "name": "stdout",
     "output_type": "stream",
     "text": [
      "Exception single positional indexer is out-of-bounds for dataframe /scratch/bf996/datasets/socrata/data/data.cityofnewyork.us/data-cityofnewyork-us.wssh-seqa.rows.csv\n"
     ]
    },
    {
     "name": "stderr",
     "output_type": "stream",
     "text": [
      "1263it [22:08,  1.63it/s]"
     ]
    },
    {
     "name": "stdout",
     "output_type": "stream",
     "text": [
      "Exception No columns to parse from file for dataframe /scratch/bf996/datasets/socrata/data/data.cityofnewyork.us/data-cityofnewyork-us.rcdb-6tdq.rows.csv\n"
     ]
    },
    {
     "name": "stderr",
     "output_type": "stream",
     "text": [
      "1266it [22:09,  2.54it/s]"
     ]
    },
    {
     "name": "stdout",
     "output_type": "stream",
     "text": [
      "Exception single positional indexer is out-of-bounds for dataframe /scratch/bf996/datasets/socrata/data/data.cityofnewyork.us/data-cityofnewyork-us.iz2q-9x8d.rows.csv\n"
     ]
    },
    {
     "name": "stderr",
     "output_type": "stream",
     "text": [
      "1270it [22:10,  3.09it/s]/state/partition1/job-31563200/ipykernel_315622/1855039622.py:16: DtypeWarning: Columns (12,17,18,19) have mixed types. Specify dtype option on import or set low_memory=False.\n",
      "  df = next(chunks)\n",
      "1271it [22:12,  1.51it/s]"
     ]
    },
    {
     "name": "stdout",
     "output_type": "stream",
     "text": [
      "Exception single positional indexer is out-of-bounds for dataframe /scratch/bf996/datasets/socrata/data/data.cityofnewyork.us/data-cityofnewyork-us.vx8i-nprf.rows.csv\n"
     ]
    },
    {
     "name": "stderr",
     "output_type": "stream",
     "text": [
      "1274it [22:16,  1.13s/it]"
     ]
    },
    {
     "name": "stdout",
     "output_type": "stream",
     "text": [
      "Exception single positional indexer is out-of-bounds for dataframe /scratch/bf996/datasets/socrata/data/data.cityofnewyork.us/data-cityofnewyork-us.tqsy-2s6w.rows.csv\n",
      "skipping /scratch/bf996/datasets/socrata/data/data.cityofnewyork.us/data-cityofnewyork-us.jt7v-77mi.rows.csv \n",
      "\n"
     ]
    },
    {
     "name": "stderr",
     "output_type": "stream",
     "text": [
      "1283it [22:18,  4.75it/s]"
     ]
    },
    {
     "name": "stdout",
     "output_type": "stream",
     "text": [
      "Exception single positional indexer is out-of-bounds for dataframe /scratch/bf996/datasets/socrata/data/data.cityofnewyork.us/data-cityofnewyork-us.nenq-ccpd.rows.csv\n"
     ]
    },
    {
     "name": "stderr",
     "output_type": "stream",
     "text": [
      "1287it [22:19,  4.19it/s]"
     ]
    },
    {
     "name": "stdout",
     "output_type": "stream",
     "text": [
      "Exception single positional indexer is out-of-bounds for dataframe /scratch/bf996/datasets/socrata/data/data.cityofnewyork.us/data-cityofnewyork-us.q2ni-ztsb.rows.csv\n"
     ]
    },
    {
     "name": "stderr",
     "output_type": "stream",
     "text": [
      "1289it [22:19,  4.64it/s]"
     ]
    },
    {
     "name": "stdout",
     "output_type": "stream",
     "text": [
      "Exception single positional indexer is out-of-bounds for dataframe /scratch/bf996/datasets/socrata/data/data.cityofnewyork.us/data-cityofnewyork-us.r465-fr2q.rows.csv\n"
     ]
    },
    {
     "name": "stderr",
     "output_type": "stream",
     "text": [
      "1293it [22:21,  2.96it/s]/state/partition1/job-31563200/ipykernel_315622/1855039622.py:16: DtypeWarning: Columns (4) have mixed types. Specify dtype option on import or set low_memory=False.\n",
      "  df = next(chunks)\n",
      "1303it [22:30,  2.46it/s]"
     ]
    },
    {
     "name": "stdout",
     "output_type": "stream",
     "text": [
      "Exception single positional indexer is out-of-bounds for dataframe /scratch/bf996/datasets/socrata/data/data.cityofnewyork.us/data-cityofnewyork-us.rbx6-tga4.rows.csv\n",
      "skipping /scratch/bf996/datasets/socrata/data/data.cityofnewyork.us/data-cityofnewyork-us.m8p6-tp4b.rows.csv \n",
      "\n",
      "Exception No columns to parse from file for dataframe /scratch/bf996/datasets/socrata/data/data.cityofnewyork.us/data-cityofnewyork-us.fnf8-c7wx.rows.csv\n"
     ]
    },
    {
     "name": "stderr",
     "output_type": "stream",
     "text": [
      "1306it [22:37,  1.56s/it]/state/partition1/job-31563200/ipykernel_315622/1855039622.py:16: DtypeWarning: Columns (10,16,82,225,226) have mixed types. Specify dtype option on import or set low_memory=False.\n",
      "  df = next(chunks)\n",
      "1308it [23:19,  8.82s/it]"
     ]
    },
    {
     "name": "stdout",
     "output_type": "stream",
     "text": [
      "Exception end of time for dataframe /scratch/bf996/datasets/socrata/data/data.cityofnewyork.us/data-cityofnewyork-us.wcm8-aq5w.rows.csv\n",
      "Exception single positional indexer is out-of-bounds for dataframe /scratch/bf996/datasets/socrata/data/data.cityofnewyork.us/data-cityofnewyork-us.cgcg-w2ys.rows.csv\n",
      "Exception single positional indexer is out-of-bounds for dataframe /scratch/bf996/datasets/socrata/data/data.cityofnewyork.us/data-cityofnewyork-us.2n4x-d97d.rows.csv\n",
      "skipping /scratch/bf996/datasets/socrata/data/data.cityofnewyork.us/data-cityofnewyork-us.quxm-hmyr.rows.csv \n",
      "\n"
     ]
    },
    {
     "name": "stderr",
     "output_type": "stream",
     "text": [
      "1312it [23:19,  3.32s/it]"
     ]
    },
    {
     "name": "stdout",
     "output_type": "stream",
     "text": [
      "Exception single positional indexer is out-of-bounds for dataframe /scratch/bf996/datasets/socrata/data/data.cityofnewyork.us/data-cityofnewyork-us.8h5p-ccrz.rows.csv\n"
     ]
    },
    {
     "name": "stderr",
     "output_type": "stream",
     "text": [
      "1327it [23:24,  2.73it/s]"
     ]
    },
    {
     "name": "stdout",
     "output_type": "stream",
     "text": [
      "Exception single positional indexer is out-of-bounds for dataframe /scratch/bf996/datasets/socrata/data/data.cityofnewyork.us/data-cityofnewyork-us.e9xc-u3ds.rows.csv\n"
     ]
    },
    {
     "name": "stderr",
     "output_type": "stream",
     "text": [
      "1340it [23:29,  3.50it/s]"
     ]
    },
    {
     "name": "stdout",
     "output_type": "stream",
     "text": [
      "Exception No columns to parse from file for dataframe /scratch/bf996/datasets/socrata/data/data.cityofnewyork.us/data-cityofnewyork-us.dhsk-pig8.rows.csv\n",
      "Exception single positional indexer is out-of-bounds for dataframe /scratch/bf996/datasets/socrata/data/data.cityofnewyork.us/data-cityofnewyork-us.4j29-i5ry.rows.csv\n"
     ]
    },
    {
     "name": "stderr",
     "output_type": "stream",
     "text": [
      "1347it [23:47,  1.08it/s]"
     ]
    },
    {
     "name": "stdout",
     "output_type": "stream",
     "text": [
      "Exception single positional indexer is out-of-bounds for dataframe /scratch/bf996/datasets/socrata/data/data.cityofnewyork.us/data-cityofnewyork-us.6bqn-qdwq.rows.csv\n"
     ]
    },
    {
     "name": "stderr",
     "output_type": "stream",
     "text": [
      "1348it [23:47,  1.31it/s]/state/partition1/job-31563200/ipykernel_315622/1855039622.py:16: DtypeWarning: Columns (10,19,20) have mixed types. Specify dtype option on import or set low_memory=False.\n",
      "  df = next(chunks)\n",
      "1349it [23:48,  1.47it/s]"
     ]
    },
    {
     "name": "stdout",
     "output_type": "stream",
     "text": [
      "Exception single positional indexer is out-of-bounds for dataframe /scratch/bf996/datasets/socrata/data/data.cityofnewyork.us/data-cityofnewyork-us.xubg-57si.rows.csv\n"
     ]
    },
    {
     "name": "stderr",
     "output_type": "stream",
     "text": [
      "1350it [23:49,  1.39it/s]/state/partition1/job-31563200/ipykernel_315622/1855039622.py:16: DtypeWarning: Columns (14,31,32,111,113,127,206,236,237,238) have mixed types. Specify dtype option on import or set low_memory=False.\n",
      "  df = next(chunks)\n",
      "1351it [23:49,  1.38it/s]"
     ]
    },
    {
     "name": "stdout",
     "output_type": "stream",
     "text": [
      "Exception single positional indexer is out-of-bounds for dataframe /scratch/bf996/datasets/socrata/data/data.cityofnewyork.us/data-cityofnewyork-us.4t62-jm4m.rows.csv\n"
     ]
    },
    {
     "name": "stderr",
     "output_type": "stream",
     "text": [
      "1354it [23:50,  2.80it/s]"
     ]
    },
    {
     "name": "stdout",
     "output_type": "stream",
     "text": [
      "Exception No columns to parse from file for dataframe /scratch/bf996/datasets/socrata/data/data.cityofnewyork.us/data-cityofnewyork-us.w297-q7jn.rows.csv\n"
     ]
    },
    {
     "name": "stderr",
     "output_type": "stream",
     "text": [
      "1368it [23:55,  3.75it/s]"
     ]
    },
    {
     "name": "stdout",
     "output_type": "stream",
     "text": [
      "skipping /scratch/bf996/datasets/socrata/data/data.cityofnewyork.us/data-cityofnewyork-us.ez4e-fazm.rows.csv \n",
      "\n",
      "Exception single positional indexer is out-of-bounds for dataframe /scratch/bf996/datasets/socrata/data/data.cityofnewyork.us/data-cityofnewyork-us.3miu-myq2.rows.csv\n"
     ]
    },
    {
     "name": "stderr",
     "output_type": "stream",
     "text": [
      "1375it [23:56,  7.04it/s]"
     ]
    },
    {
     "name": "stdout",
     "output_type": "stream",
     "text": [
      "skipping /scratch/bf996/datasets/socrata/data/data.cityofnewyork.us/data-cityofnewyork-us.ub9z-gccp.rows.csv \n",
      "\n"
     ]
    },
    {
     "name": "stderr",
     "output_type": "stream",
     "text": [
      "1378it [23:57,  2.83it/s]"
     ]
    },
    {
     "name": "stdout",
     "output_type": "stream",
     "text": [
      "Exception No columns to parse from file for dataframe /scratch/bf996/datasets/socrata/data/data.cityofnewyork.us/data-cityofnewyork-us.igad-psu6.rows.csv\n"
     ]
    },
    {
     "name": "stderr",
     "output_type": "stream",
     "text": [
      "1389it [24:00,  6.47it/s]"
     ]
    },
    {
     "name": "stdout",
     "output_type": "stream",
     "text": [
      "Exception No columns to parse from file for dataframe /scratch/bf996/datasets/socrata/data/data.cityofnewyork.us/data-cityofnewyork-us.hnb3-32fi.rows.csv\n",
      "Exception single positional indexer is out-of-bounds for dataframe /scratch/bf996/datasets/socrata/data/data.cityofnewyork.us/data-cityofnewyork-us.fgq8-am2v.rows.csv\n"
     ]
    },
    {
     "name": "stderr",
     "output_type": "stream",
     "text": [
      "\r\n",
      "1391it [24:01,  6.40it/s]"
     ]
    },
    {
     "name": "stdout",
     "output_type": "stream",
     "text": [
      "Exception No columns to parse from file for dataframe /scratch/bf996/datasets/socrata/data/data.cityofnewyork.us/data-cityofnewyork-us.b8z5-673p.rows.csv\n",
      "skipping /scratch/bf996/datasets/socrata/data/data.cityofnewyork.us/data-cityofnewyork-us.am94-epxh.rows.csv \n",
      "\n"
     ]
    },
    {
     "name": "stderr",
     "output_type": "stream",
     "text": [
      "1400it [24:06,  1.82it/s]/state/partition1/job-31563200/ipykernel_315622/1855039622.py:16: DtypeWarning: Columns (0,18,19,56,59,65) have mixed types. Specify dtype option on import or set low_memory=False.\n",
      "  df = next(chunks)\n",
      "1402it [24:07,  2.47it/s]"
     ]
    },
    {
     "name": "stdout",
     "output_type": "stream",
     "text": [
      "Exception single positional indexer is out-of-bounds for dataframe /scratch/bf996/datasets/socrata/data/data.cityofnewyork.us/data-cityofnewyork-us.k7nh-aufb.rows.csv\n"
     ]
    },
    {
     "name": "stderr",
     "output_type": "stream",
     "text": [
      "1404it [24:07,  2.73it/s]"
     ]
    },
    {
     "name": "stdout",
     "output_type": "stream",
     "text": [
      "Exception single positional indexer is out-of-bounds for dataframe /scratch/bf996/datasets/socrata/data/data.cityofnewyork.us/data-cityofnewyork-us.72ss-25qh.rows.csv\n"
     ]
    },
    {
     "name": "stderr",
     "output_type": "stream",
     "text": [
      "1421it [24:12,  4.04it/s]"
     ]
    },
    {
     "name": "stdout",
     "output_type": "stream",
     "text": [
      "skipping /scratch/bf996/datasets/socrata/data/data.cityofnewyork.us/data-cityofnewyork-us.mu46-p9is.rows.csv \n",
      "\n"
     ]
    },
    {
     "name": "stderr",
     "output_type": "stream",
     "text": [
      "\r\n",
      "1424it [24:14,  2.15it/s]"
     ]
    },
    {
     "name": "stdout",
     "output_type": "stream",
     "text": [
      "Exception single positional indexer is out-of-bounds for dataframe /scratch/bf996/datasets/socrata/data/data.cityofnewyork.us/data-cityofnewyork-us.nfid-uabd.rows.csv\n"
     ]
    },
    {
     "name": "stderr",
     "output_type": "stream",
     "text": [
      "1431it [24:18,  3.10it/s]"
     ]
    },
    {
     "name": "stdout",
     "output_type": "stream",
     "text": [
      "Exception single positional indexer is out-of-bounds for dataframe /scratch/bf996/datasets/socrata/data/data.cityofnewyork.us/data-cityofnewyork-us.ruce-cnp6.rows.csv\n",
      "skipping /scratch/bf996/datasets/socrata/data/data.cityofnewyork.us/data-cityofnewyork-us.jgtb-hmpg.rows.csv \n",
      "\n"
     ]
    },
    {
     "name": "stderr",
     "output_type": "stream",
     "text": [
      "1433it [24:18,  4.34it/s]/state/partition1/job-31563200/ipykernel_315622/1855039622.py:16: DtypeWarning: Columns (9,40) have mixed types. Specify dtype option on import or set low_memory=False.\n",
      "  df = next(chunks)\n",
      "1434it [24:19,  3.45it/s]"
     ]
    },
    {
     "name": "stdout",
     "output_type": "stream",
     "text": [
      "Exception single positional indexer is out-of-bounds for dataframe /scratch/bf996/datasets/socrata/data/data.cityofnewyork.us/data-cityofnewyork-us.qgc5-ecnb.rows.csv\n"
     ]
    },
    {
     "name": "stderr",
     "output_type": "stream",
     "text": [
      "1441it [24:24,  1.06it/s]"
     ]
    },
    {
     "name": "stdout",
     "output_type": "stream",
     "text": [
      "Exception No columns to parse from file for dataframe /scratch/bf996/datasets/socrata/data/data.cityofnewyork.us/data-cityofnewyork-us.ipf4-pzub.rows.csv\n",
      "Exception single positional indexer is out-of-bounds for dataframe /scratch/bf996/datasets/socrata/data/data.cityofnewyork.us/data-cityofnewyork-us.bquu-z2ht.rows.csv\n",
      "skipping /scratch/bf996/datasets/socrata/data/data.cityofnewyork.us/data-cityofnewyork-us.w9ak-ipjd.rows.csv \n",
      "\n"
     ]
    },
    {
     "name": "stderr",
     "output_type": "stream",
     "text": [
      "1447it [24:24,  2.93it/s]"
     ]
    },
    {
     "name": "stdout",
     "output_type": "stream",
     "text": [
      "Exception single positional indexer is out-of-bounds for dataframe /scratch/bf996/datasets/socrata/data/data.cityofnewyork.us/data-cityofnewyork-us.sybh-s59s.rows.csv\n"
     ]
    },
    {
     "name": "stderr",
     "output_type": "stream",
     "text": [
      "1450it [24:25,  3.05it/s]"
     ]
    },
    {
     "name": "stdout",
     "output_type": "stream",
     "text": [
      "skipping /scratch/bf996/datasets/socrata/data/data.cityofnewyork.us/data-cityofnewyork-us.e3xf-jwmj.rows.csv \n",
      "\n",
      "Exception single positional indexer is out-of-bounds for dataframe /scratch/bf996/datasets/socrata/data/data.cityofnewyork.us/data-cityofnewyork-us.t7p9-n9dy.rows.csv\n"
     ]
    },
    {
     "name": "stderr",
     "output_type": "stream",
     "text": [
      "1455it [24:27,  3.17it/s]"
     ]
    },
    {
     "name": "stdout",
     "output_type": "stream",
     "text": [
      "skipping /scratch/bf996/datasets/socrata/data/data.cityofnewyork.us/data-cityofnewyork-us.psx2-aqx3.rows.csv \n",
      "\n"
     ]
    },
    {
     "name": "stderr",
     "output_type": "stream",
     "text": [
      "\r\n",
      "1458it [24:28,  3.29it/s]"
     ]
    },
    {
     "name": "stdout",
     "output_type": "stream",
     "text": [
      "skipping /scratch/bf996/datasets/socrata/data/data.cityofnewyork.us/data-cityofnewyork-us.djnb-wcxt.rows.csv \n",
      "\n"
     ]
    },
    {
     "name": "stderr",
     "output_type": "stream",
     "text": [
      "/state/partition1/job-31563200/ipykernel_315622/1855039622.py:16: DtypeWarning: Columns (47) have mixed types. Specify dtype option on import or set low_memory=False.\n",
      "  df = next(chunks)\n",
      "1461it [24:29,  3.27it/s]"
     ]
    },
    {
     "name": "stdout",
     "output_type": "stream",
     "text": [
      "Exception single positional indexer is out-of-bounds for dataframe /scratch/bf996/datasets/socrata/data/data.cityofnewyork.us/data-cityofnewyork-us.s9d3-x4fz.rows.csv\n"
     ]
    },
    {
     "name": "stderr",
     "output_type": "stream",
     "text": [
      "1465it [24:29,  4.85it/s]"
     ]
    },
    {
     "name": "stdout",
     "output_type": "stream",
     "text": [
      "Exception single positional indexer is out-of-bounds for dataframe /scratch/bf996/datasets/socrata/data/data.cityofnewyork.us/data-cityofnewyork-us.a4qt-mpr5.rows.csv\n"
     ]
    },
    {
     "name": "stderr",
     "output_type": "stream",
     "text": [
      "1486it [25:01,  1.87s/it]"
     ]
    },
    {
     "name": "stdout",
     "output_type": "stream",
     "text": [
      "Exception single positional indexer is out-of-bounds for dataframe /scratch/bf996/datasets/socrata/data/data.cityofnewyork.us/data-cityofnewyork-us.y9si-s7ab.rows.csv\n",
      "skipping /scratch/bf996/datasets/socrata/data/data.cityofnewyork.us/data-cityofnewyork-us.xdc2-zgy3.rows.csv \n",
      "\n"
     ]
    },
    {
     "name": "stderr",
     "output_type": "stream",
     "text": [
      "1489it [25:01,  1.02it/s]"
     ]
    },
    {
     "name": "stdout",
     "output_type": "stream",
     "text": [
      "Exception single positional indexer is out-of-bounds for dataframe /scratch/bf996/datasets/socrata/data/data.cityofnewyork.us/data-cityofnewyork-us.xck4-5xd5.rows.csv\n"
     ]
    },
    {
     "name": "stderr",
     "output_type": "stream",
     "text": [
      "1493it [25:04,  1.30it/s]"
     ]
    },
    {
     "name": "stdout",
     "output_type": "stream",
     "text": [
      "Exception single positional indexer is out-of-bounds for dataframe /scratch/bf996/datasets/socrata/data/data.cityofnewyork.us/data-cityofnewyork-us.4y9q-t4wb.rows.csv\n"
     ]
    },
    {
     "name": "stderr",
     "output_type": "stream",
     "text": [
      "1498it [25:08,  1.53it/s]"
     ]
    },
    {
     "name": "stdout",
     "output_type": "stream",
     "text": [
      "Exception single positional indexer is out-of-bounds for dataframe /scratch/bf996/datasets/socrata/data/data.cityofnewyork.us/data-cityofnewyork-us.kpav-sd4t.rows.csv\n"
     ]
    },
    {
     "name": "stderr",
     "output_type": "stream",
     "text": [
      "/state/partition1/job-31563200/ipykernel_315622/1855039622.py:16: DtypeWarning: Columns (10) have mixed types. Specify dtype option on import or set low_memory=False.\n",
      "  df = next(chunks)\n",
      "1499it [25:09,  1.62it/s]"
     ]
    },
    {
     "name": "stdout",
     "output_type": "stream",
     "text": [
      "Exception single positional indexer is out-of-bounds for dataframe /scratch/bf996/datasets/socrata/data/data.cityofnewyork.us/data-cityofnewyork-us.bk7g-bhsz.rows.csv\n"
     ]
    },
    {
     "name": "stderr",
     "output_type": "stream",
     "text": [
      "/state/partition1/job-31563200/ipykernel_315622/1855039622.py:16: DtypeWarning: Columns (0,29,30) have mixed types. Specify dtype option on import or set low_memory=False.\n",
      "  df = next(chunks)\n",
      "1500it [25:11,  1.02it/s]"
     ]
    },
    {
     "name": "stdout",
     "output_type": "stream",
     "text": [
      "Exception single positional indexer is out-of-bounds for dataframe /scratch/bf996/datasets/socrata/data/data.cityofnewyork.us/data-cityofnewyork-us.bdjm-n7q4.rows.csv\n"
     ]
    },
    {
     "name": "stderr",
     "output_type": "stream",
     "text": [
      "1507it [25:17,  1.28s/it]/state/partition1/job-31563200/ipykernel_315622/1855039622.py:16: DtypeWarning: Columns (0,11) have mixed types. Specify dtype option on import or set low_memory=False.\n",
      "  df = next(chunks)\n",
      "1508it [25:20,  1.69s/it]"
     ]
    },
    {
     "name": "stdout",
     "output_type": "stream",
     "text": [
      "Exception single positional indexer is out-of-bounds for dataframe /scratch/bf996/datasets/socrata/data/data.cityofnewyork.us/data-cityofnewyork-us.2bnn-yakx.rows.csv\n"
     ]
    },
    {
     "name": "stderr",
     "output_type": "stream",
     "text": [
      "1514it [25:24,  1.03s/it]"
     ]
    },
    {
     "name": "stdout",
     "output_type": "stream",
     "text": [
      "Exception No columns to parse from file for dataframe /scratch/bf996/datasets/socrata/data/data.cityofnewyork.us/data-cityofnewyork-us.fb4j-itwb.rows.csv\n",
      "skipping /scratch/bf996/datasets/socrata/data/data.cityofnewyork.us/data-cityofnewyork-us.k397-673e.rows.csv \n",
      "\n"
     ]
    },
    {
     "name": "stderr",
     "output_type": "stream",
     "text": [
      "1531it [25:27,  7.89it/s]/state/partition1/job-31563200/ipykernel_315622/1855039622.py:16: DtypeWarning: Columns (6,14,15,16) have mixed types. Specify dtype option on import or set low_memory=False.\n",
      "  df = next(chunks)\n",
      "1534it [25:27,  9.48it/s]"
     ]
    },
    {
     "name": "stdout",
     "output_type": "stream",
     "text": [
      "Exception single positional indexer is out-of-bounds for dataframe /scratch/bf996/datasets/socrata/data/data.cityofnewyork.us/data-cityofnewyork-us.ddpx-u5dz.rows.csv\n",
      "Exception single positional indexer is out-of-bounds for dataframe /scratch/bf996/datasets/socrata/data/data.cityofnewyork.us/data-cityofnewyork-us.jjja-shxy.rows.csv\n"
     ]
    },
    {
     "name": "stderr",
     "output_type": "stream",
     "text": [
      "1538it [25:28,  9.92it/s]"
     ]
    },
    {
     "name": "stdout",
     "output_type": "stream",
     "text": [
      "skipping /scratch/bf996/datasets/socrata/data/data.cityofnewyork.us/data-cityofnewyork-us.muvi-b6kx.rows.csv \n",
      "\n"
     ]
    },
    {
     "name": "stderr",
     "output_type": "stream",
     "text": [
      "/state/partition1/job-31563200/ipykernel_315622/1855039622.py:16: DtypeWarning: Columns (4,7) have mixed types. Specify dtype option on import or set low_memory=False.\n",
      "  df = next(chunks)\n",
      "1542it [25:29,  4.12it/s]"
     ]
    },
    {
     "name": "stdout",
     "output_type": "stream",
     "text": [
      "skipping /scratch/bf996/datasets/socrata/data/data.cityofnewyork.us/data-cityofnewyork-us.76xm-jjuj.rows.csv \n",
      "\n",
      "Exception single positional indexer is out-of-bounds for dataframe /scratch/bf996/datasets/socrata/data/data.cityofnewyork.us/data-cityofnewyork-us.53m8-jdtg.rows.csv\n"
     ]
    },
    {
     "name": "stderr",
     "output_type": "stream",
     "text": [
      "1551it [25:37,  1.06it/s]"
     ]
    },
    {
     "name": "stdout",
     "output_type": "stream",
     "text": [
      "skipping /scratch/bf996/datasets/socrata/data/data.cityofnewyork.us/data-cityofnewyork-us.8h9b-rp9u.rows.csv \n",
      "\n",
      "Exception single positional indexer is out-of-bounds for dataframe /scratch/bf996/datasets/socrata/data/data.cityofnewyork.us/data-cityofnewyork-us.4fnu-iufz.rows.csv\n"
     ]
    },
    {
     "name": "stderr",
     "output_type": "stream",
     "text": [
      "1559it [25:58,  4.17s/it]"
     ]
    },
    {
     "name": "stdout",
     "output_type": "stream",
     "text": [
      "Exception single positional indexer is out-of-bounds for dataframe /scratch/bf996/datasets/socrata/data/data.cityofnewyork.us/data-cityofnewyork-us.y6ds-67d5.rows.csv\n"
     ]
    },
    {
     "name": "stderr",
     "output_type": "stream",
     "text": [
      "1564it [25:58,  1.52s/it]"
     ]
    },
    {
     "name": "stdout",
     "output_type": "stream",
     "text": [
      "Exception single positional indexer is out-of-bounds for dataframe /scratch/bf996/datasets/socrata/data/data.cityofnewyork.us/data-cityofnewyork-us.8dhd-zvi6.rows.csv\n"
     ]
    },
    {
     "name": "stderr",
     "output_type": "stream",
     "text": [
      "1570it [26:18,  2.75s/it]"
     ]
    },
    {
     "name": "stdout",
     "output_type": "stream",
     "text": [
      "Exception single positional indexer is out-of-bounds for dataframe /scratch/bf996/datasets/socrata/data/data.cityofnewyork.us/data-cityofnewyork-us.r8mb-budb.rows.csv\n",
      "Exception single positional indexer is out-of-bounds for dataframe /scratch/bf996/datasets/socrata/data/data.cityofnewyork.us/data-cityofnewyork-us.nsk4-4pvs.rows.csv\n",
      "Exception No columns to parse from file for dataframe /scratch/bf996/datasets/socrata/data/data.cityofnewyork.us/data-cityofnewyork-us.f5y3-uf2u.rows.csv\n"
     ]
    },
    {
     "name": "stderr",
     "output_type": "stream",
     "text": [
      "1604it [26:52,  2.00s/it]"
     ]
    },
    {
     "name": "stdout",
     "output_type": "stream",
     "text": [
      "Exception single positional indexer is out-of-bounds for dataframe /scratch/bf996/datasets/socrata/data/data.cityofnewyork.us/data-cityofnewyork-us.pdpg-nn8i.rows.csv\n",
      "skipping /scratch/bf996/datasets/socrata/data/data.cityofnewyork.us/data-cityofnewyork-us.ye3c-m4ga.rows.csv \n",
      "\n"
     ]
    },
    {
     "name": "stderr",
     "output_type": "stream",
     "text": [
      "1614it [26:59,  1.42it/s]"
     ]
    },
    {
     "name": "stdout",
     "output_type": "stream",
     "text": [
      "Exception single positional indexer is out-of-bounds for dataframe /scratch/bf996/datasets/socrata/data/data.cityofnewyork.us/data-cityofnewyork-us.2j8u-wtju.rows.csv\n"
     ]
    },
    {
     "name": "stderr",
     "output_type": "stream",
     "text": [
      "1625it [27:14,  2.42it/s]"
     ]
    },
    {
     "name": "stdout",
     "output_type": "stream",
     "text": [
      "Exception single positional indexer is out-of-bounds for dataframe /scratch/bf996/datasets/socrata/data/data.cityofnewyork.us/data-cityofnewyork-us.d54t-ywim.rows.csv\n"
     ]
    },
    {
     "name": "stderr",
     "output_type": "stream",
     "text": [
      "1627it [27:15,  2.09it/s]/state/partition1/job-31563200/ipykernel_315622/1855039622.py:16: DtypeWarning: Columns (3,4,7,9,10,11,12,16) have mixed types. Specify dtype option on import or set low_memory=False.\n",
      "  df = next(chunks)\n",
      "1628it [27:15,  2.17it/s]"
     ]
    },
    {
     "name": "stdout",
     "output_type": "stream",
     "text": [
      "Exception single positional indexer is out-of-bounds for dataframe /scratch/bf996/datasets/socrata/data/data.cityofnewyork.us/data-cityofnewyork-us.yv25-wqf9.rows.csv\n"
     ]
    },
    {
     "name": "stderr",
     "output_type": "stream",
     "text": [
      "1634it [27:18,  2.55it/s]"
     ]
    },
    {
     "name": "stdout",
     "output_type": "stream",
     "text": [
      "Exception single positional indexer is out-of-bounds for dataframe /scratch/bf996/datasets/socrata/data/data.cityofnewyork.us/data-cityofnewyork-us.98b7-th5j.rows.csv\n"
     ]
    },
    {
     "name": "stderr",
     "output_type": "stream",
     "text": [
      "/state/partition1/job-31563200/ipykernel_315622/1855039622.py:16: DtypeWarning: Columns (0) have mixed types. Specify dtype option on import or set low_memory=False.\n",
      "  df = next(chunks)\n",
      "1636it [27:20,  1.45it/s]"
     ]
    },
    {
     "name": "stdout",
     "output_type": "stream",
     "text": [
      "Exception single positional indexer is out-of-bounds for dataframe /scratch/bf996/datasets/socrata/data/data.cityofnewyork.us/data-cityofnewyork-us.kyvb-rbwd.rows.csv\n"
     ]
    },
    {
     "name": "stderr",
     "output_type": "stream",
     "text": [
      "1643it [27:21,  4.08it/s]"
     ]
    },
    {
     "name": "stdout",
     "output_type": "stream",
     "text": [
      "Exception single positional indexer is out-of-bounds for dataframe /scratch/bf996/datasets/socrata/data/data.cityofnewyork.us/data-cityofnewyork-us.6rrm-vxj9.rows.csv\n",
      "Exception single positional indexer is out-of-bounds for dataframe /scratch/bf996/datasets/socrata/data/data.cityofnewyork.us/data-cityofnewyork-us.u553-m549.rows.csv\n"
     ]
    },
    {
     "name": "stderr",
     "output_type": "stream",
     "text": [
      "1647it [27:26,  1.14it/s]/state/partition1/job-31563200/ipykernel_315622/1855039622.py:16: DtypeWarning: Columns (1,30) have mixed types. Specify dtype option on import or set low_memory=False.\n",
      "  df = next(chunks)\n",
      "1650it [27:27,  1.92it/s]"
     ]
    },
    {
     "name": "stdout",
     "output_type": "stream",
     "text": [
      "Exception single positional indexer is out-of-bounds for dataframe /scratch/bf996/datasets/socrata/data/data.cityofnewyork.us/data-cityofnewyork-us.uxt4-ugwr.rows.csv\n",
      "Exception single positional indexer is out-of-bounds for dataframe /scratch/bf996/datasets/socrata/data/data.cityofnewyork.us/data-cityofnewyork-us.u4hi-kt3x.rows.csv\n"
     ]
    },
    {
     "name": "stderr",
     "output_type": "stream",
     "text": [
      "1654it [27:28,  3.69it/s]"
     ]
    },
    {
     "name": "stdout",
     "output_type": "stream",
     "text": [
      "Exception single positional indexer is out-of-bounds for dataframe /scratch/bf996/datasets/socrata/data/data.cityofnewyork.us/data-cityofnewyork-us.8zyi-kxay.rows.csv\n"
     ]
    },
    {
     "name": "stderr",
     "output_type": "stream",
     "text": [
      "\r\n",
      "1656it [27:28,  4.57it/s]"
     ]
    },
    {
     "name": "stdout",
     "output_type": "stream",
     "text": [
      "Exception single positional indexer is out-of-bounds for dataframe /scratch/bf996/datasets/socrata/data/data.cityofnewyork.us/data-cityofnewyork-us.f6s7-vytj.rows.csv\n"
     ]
    },
    {
     "name": "stderr",
     "output_type": "stream",
     "text": [
      "1678it [27:37,  5.57it/s]"
     ]
    },
    {
     "name": "stdout",
     "output_type": "stream",
     "text": [
      "Exception single positional indexer is out-of-bounds for dataframe /scratch/bf996/datasets/socrata/data/data.cityofnewyork.us/data-cityofnewyork-us.3qem-6v3v.rows.csv\n"
     ]
    },
    {
     "name": "stderr",
     "output_type": "stream",
     "text": [
      "1680it [27:38,  4.44it/s]"
     ]
    },
    {
     "name": "stdout",
     "output_type": "stream",
     "text": [
      "Exception No columns to parse from file for dataframe /scratch/bf996/datasets/socrata/data/data.cityofnewyork.us/data-cityofnewyork-us.gne4-pga9.rows.csv\n"
     ]
    },
    {
     "name": "stderr",
     "output_type": "stream",
     "text": [
      "1688it [27:43,  2.19it/s]"
     ]
    },
    {
     "name": "stdout",
     "output_type": "stream",
     "text": [
      "Exception single positional indexer is out-of-bounds for dataframe /scratch/bf996/datasets/socrata/data/data.cityofnewyork.us/data-cityofnewyork-us.w5ew-m3sm.rows.csv\n"
     ]
    },
    {
     "name": "stderr",
     "output_type": "stream",
     "text": [
      "1698it [27:50,  2.19it/s]"
     ]
    },
    {
     "name": "stdout",
     "output_type": "stream",
     "text": [
      "Exception single positional indexer is out-of-bounds for dataframe /scratch/bf996/datasets/socrata/data/data.cityofnewyork.us/data-cityofnewyork-us.d83i-6us7.rows.csv\n"
     ]
    },
    {
     "name": "stderr",
     "output_type": "stream",
     "text": [
      "1703it [27:53,  1.95it/s]"
     ]
    },
    {
     "name": "stdout",
     "output_type": "stream",
     "text": [
      "Exception single positional indexer is out-of-bounds for dataframe /scratch/bf996/datasets/socrata/data/data.cityofnewyork.us/data-cityofnewyork-us.rhe8-mgbb.rows.csv\n"
     ]
    },
    {
     "name": "stderr",
     "output_type": "stream",
     "text": [
      "1710it [27:55,  4.55it/s]"
     ]
    },
    {
     "name": "stdout",
     "output_type": "stream",
     "text": [
      "Exception single positional indexer is out-of-bounds for dataframe /scratch/bf996/datasets/socrata/data/data.cityofnewyork.us/data-cityofnewyork-us.weh8-3ujf.rows.csv\n",
      "skipping /scratch/bf996/datasets/socrata/data/data.cityofnewyork.us/data-cityofnewyork-us.7dfh-3irt.rows.csv \n",
      "\n"
     ]
    },
    {
     "name": "stderr",
     "output_type": "stream",
     "text": [
      "1714it [27:55,  7.15it/s]"
     ]
    },
    {
     "name": "stdout",
     "output_type": "stream",
     "text": [
      "skipping /scratch/bf996/datasets/socrata/data/data.cityofnewyork.us/data-cityofnewyork-us.a444-au9b.rows.csv \n",
      "\n"
     ]
    },
    {
     "name": "stderr",
     "output_type": "stream",
     "text": [
      "1723it [27:57,  6.64it/s]"
     ]
    },
    {
     "name": "stdout",
     "output_type": "stream",
     "text": [
      "Exception No columns to parse from file for dataframe /scratch/bf996/datasets/socrata/data/data.cityofnewyork.us/data-cityofnewyork-us.9txq-dagp.rows.csv\n",
      "Exception single positional indexer is out-of-bounds for dataframe /scratch/bf996/datasets/socrata/data/data.cityofnewyork.us/data-cityofnewyork-us.evjd-dqpz.rows.csv\n"
     ]
    },
    {
     "name": "stderr",
     "output_type": "stream",
     "text": [
      "1732it [28:21,  1.11s/it]"
     ]
    },
    {
     "name": "stdout",
     "output_type": "stream",
     "text": [
      "Exception single positional indexer is out-of-bounds for dataframe /scratch/bf996/datasets/socrata/data/data.cityofnewyork.us/data-cityofnewyork-us.uqxv-h2se.rows.csv\n"
     ]
    },
    {
     "name": "stderr",
     "output_type": "stream",
     "text": [
      "1745it [28:25,  2.83it/s]"
     ]
    },
    {
     "name": "stdout",
     "output_type": "stream",
     "text": [
      "skipping /scratch/bf996/datasets/socrata/data/data.cityofnewyork.us/data-cityofnewyork-us.d6zx-ckhd.rows.csv \n",
      "\n"
     ]
    },
    {
     "name": "stderr",
     "output_type": "stream",
     "text": [
      "1765it [28:36,  2.08it/s]/state/partition1/job-31563200/ipykernel_315622/1855039622.py:16: DtypeWarning: Columns (34) have mixed types. Specify dtype option on import or set low_memory=False.\n",
      "  df = next(chunks)\n"
     ]
    },
    {
     "name": "stdout",
     "output_type": "stream",
     "text": [
      "skipping /scratch/bf996/datasets/socrata/data/data.cityofnewyork.us/data-cityofnewyork-us.hy4q-igkk.rows.csv \n",
      "\n"
     ]
    },
    {
     "name": "stderr",
     "output_type": "stream",
     "text": [
      "\r\n",
      "1767it [28:37,  3.10it/s]"
     ]
    },
    {
     "name": "stdout",
     "output_type": "stream",
     "text": [
      "Exception single positional indexer is out-of-bounds for dataframe /scratch/bf996/datasets/socrata/data/data.cityofnewyork.us/data-cityofnewyork-us.s79c-jgrm.rows.csv\n",
      "Exception single positional indexer is out-of-bounds for dataframe /scratch/bf996/datasets/socrata/data/data.cityofnewyork.us/data-cityofnewyork-us.ks4m-pn8b.rows.csv\n"
     ]
    },
    {
     "name": "stderr",
     "output_type": "stream",
     "text": [
      "1774it [28:39,  3.32it/s]/state/partition1/job-31563200/ipykernel_315622/1855039622.py:16: DtypeWarning: Columns (7) have mixed types. Specify dtype option on import or set low_memory=False.\n",
      "  df = next(chunks)\n"
     ]
    },
    {
     "name": "stdout",
     "output_type": "stream",
     "text": [
      "Exception single positional indexer is out-of-bounds for dataframe /scratch/bf996/datasets/socrata/data/data.cityofnewyork.us/data-cityofnewyork-us.9cz6-8qpz.rows.csv\n"
     ]
    },
    {
     "name": "stderr",
     "output_type": "stream",
     "text": [
      "1806it [28:56,  2.69it/s]"
     ]
    },
    {
     "name": "stdout",
     "output_type": "stream",
     "text": [
      "Exception single positional indexer is out-of-bounds for dataframe /scratch/bf996/datasets/socrata/data/data.cityofnewyork.us/data-cityofnewyork-us.yg3y-7juh.rows.csv\n",
      "Exception single positional indexer is out-of-bounds for dataframe /scratch/bf996/datasets/socrata/data/data.cityofnewyork.us/data-cityofnewyork-us.9mjx-v8ip.rows.csv\n"
     ]
    },
    {
     "name": "stderr",
     "output_type": "stream",
     "text": [
      "1816it [29:03,  1.54it/s]"
     ]
    },
    {
     "name": "stdout",
     "output_type": "stream",
     "text": [
      "Exception single positional indexer is out-of-bounds for dataframe /scratch/bf996/datasets/socrata/data/data.cityofnewyork.us/data-cityofnewyork-us.wg9x-4ke6.rows.csv\n"
     ]
    },
    {
     "name": "stderr",
     "output_type": "stream",
     "text": [
      "1821it [29:13,  1.18s/it]"
     ]
    },
    {
     "name": "stdout",
     "output_type": "stream",
     "text": [
      "skipping /scratch/bf996/datasets/socrata/data/data.cityofnewyork.us/data-cityofnewyork-us.2yzn-sicd.rows.csv \n",
      "\n"
     ]
    },
    {
     "name": "stderr",
     "output_type": "stream",
     "text": [
      "1831it [29:21,  1.86it/s]"
     ]
    },
    {
     "name": "stdout",
     "output_type": "stream",
     "text": [
      "Exception single positional indexer is out-of-bounds for dataframe /scratch/bf996/datasets/socrata/data/data.cityofnewyork.us/data-cityofnewyork-us.xzy8-qqgf.rows.csv\n"
     ]
    },
    {
     "name": "stderr",
     "output_type": "stream",
     "text": [
      "1834it [29:22,  3.11it/s]"
     ]
    },
    {
     "name": "stdout",
     "output_type": "stream",
     "text": [
      "Exception single positional indexer is out-of-bounds for dataframe /scratch/bf996/datasets/socrata/data/data.cityofnewyork.us/data-cityofnewyork-us.n3p6-zve2.rows.csv\n"
     ]
    },
    {
     "name": "stderr",
     "output_type": "stream",
     "text": [
      "1837it [29:22,  4.16it/s]"
     ]
    },
    {
     "name": "stdout",
     "output_type": "stream",
     "text": [
      "skipping /scratch/bf996/datasets/socrata/data/data.cityofnewyork.us/data-cityofnewyork-us.6uh5-5j7x.rows.csv \n",
      "\n"
     ]
    },
    {
     "name": "stderr",
     "output_type": "stream",
     "text": [
      "1843it [29:24,  5.48it/s]"
     ]
    },
    {
     "name": "stdout",
     "output_type": "stream",
     "text": [
      "Exception single positional indexer is out-of-bounds for dataframe /scratch/bf996/datasets/socrata/data/data.cityofnewyork.us/data-cityofnewyork-us.hu6m-9cfi.rows.csv\n",
      "Exception single positional indexer is out-of-bounds for dataframe /scratch/bf996/datasets/socrata/data/data.cityofnewyork.us/data-cityofnewyork-us.qbvv-9nzz.rows.csv\n",
      "Exception No columns to parse from file for dataframe /scratch/bf996/datasets/socrata/data/data.cityofnewyork.us/data-cityofnewyork-us.myhg-kfw9.rows.csv\n"
     ]
    },
    {
     "name": "stderr",
     "output_type": "stream",
     "text": [
      "1849it [29:24,  8.70it/s]"
     ]
    },
    {
     "name": "stdout",
     "output_type": "stream",
     "text": [
      "Exception single positional indexer is out-of-bounds for dataframe /scratch/bf996/datasets/socrata/data/data.cityofnewyork.us/data-cityofnewyork-us.3qty-g4aq.rows.csv\n"
     ]
    },
    {
     "name": "stderr",
     "output_type": "stream",
     "text": [
      "\r\n",
      "1851it [29:29,  1.20it/s]"
     ]
    },
    {
     "name": "stdout",
     "output_type": "stream",
     "text": [
      "skipping /scratch/bf996/datasets/socrata/data/data.cityofnewyork.us/data-cityofnewyork-us.faiq-9dfq.rows.csv \n",
      "\n"
     ]
    },
    {
     "name": "stderr",
     "output_type": "stream",
     "text": [
      "1860it [29:30,  4.37it/s]"
     ]
    },
    {
     "name": "stdout",
     "output_type": "stream",
     "text": [
      "skipping /scratch/bf996/datasets/socrata/data/data.cityofnewyork.us/data-cityofnewyork-us.rbed-zzin.rows.csv \n",
      "\n"
     ]
    },
    {
     "name": "stderr",
     "output_type": "stream",
     "text": [
      "1869it [30:03,  4.56s/it]"
     ]
    },
    {
     "name": "stdout",
     "output_type": "stream",
     "text": [
      "Exception single positional indexer is out-of-bounds for dataframe /scratch/bf996/datasets/socrata/data/data.cityofnewyork.us/data-cityofnewyork-us.veqt-eu3t.rows.csv\n",
      "Exception single positional indexer is out-of-bounds for dataframe /scratch/bf996/datasets/socrata/data/data.cityofnewyork.us/data-cityofnewyork-us.fn4k-qyk2.rows.csv\n"
     ]
    },
    {
     "name": "stderr",
     "output_type": "stream",
     "text": [
      "\r\n",
      "1871it [30:03,  2.87s/it]"
     ]
    },
    {
     "name": "stdout",
     "output_type": "stream",
     "text": [
      "Exception single positional indexer is out-of-bounds for dataframe /scratch/bf996/datasets/socrata/data/data.cityofnewyork.us/data-cityofnewyork-us.ys48-9d3c.rows.csv\n"
     ]
    },
    {
     "name": "stderr",
     "output_type": "stream",
     "text": [
      "/state/partition1/job-31563200/ipykernel_315622/1855039622.py:16: DtypeWarning: Columns (1,6) have mixed types. Specify dtype option on import or set low_memory=False.\n",
      "  df = next(chunks)\n",
      "\r\n",
      "1872it [30:04,  2.35s/it]"
     ]
    },
    {
     "name": "stdout",
     "output_type": "stream",
     "text": [
      "Exception single positional indexer is out-of-bounds for dataframe /scratch/bf996/datasets/socrata/data/data.cityofnewyork.us/data-cityofnewyork-us.kgzj-pjna.rows.csv\n"
     ]
    },
    {
     "name": "stderr",
     "output_type": "stream",
     "text": [
      "1875it [30:04,  1.14s/it]/state/partition1/job-31563200/ipykernel_315622/1855039622.py:16: DtypeWarning: Columns (20) have mixed types. Specify dtype option on import or set low_memory=False.\n",
      "  df = next(chunks)\n",
      "1876it [30:05,  1.13s/it]"
     ]
    },
    {
     "name": "stdout",
     "output_type": "stream",
     "text": [
      "Exception single positional indexer is out-of-bounds for dataframe /scratch/bf996/datasets/socrata/data/data.cityofnewyork.us/data-cityofnewyork-us.5fn4-dr26.rows.csv\n"
     ]
    },
    {
     "name": "stderr",
     "output_type": "stream",
     "text": [
      "\r\n",
      "1877it [30:06,  1.00it/s]"
     ]
    },
    {
     "name": "stdout",
     "output_type": "stream",
     "text": [
      "Exception No columns to parse from file for dataframe /scratch/bf996/datasets/socrata/data/data.cityofnewyork.us/data-cityofnewyork-us.ppub-hbwx.rows.csv\n"
     ]
    },
    {
     "name": "stderr",
     "output_type": "stream",
     "text": [
      "1881it [30:09,  1.48it/s]"
     ]
    },
    {
     "name": "stdout",
     "output_type": "stream",
     "text": [
      "Exception single positional indexer is out-of-bounds for dataframe /scratch/bf996/datasets/socrata/data/data.cityofnewyork.us/data-cityofnewyork-us.ftyx-fhnc.rows.csv\n"
     ]
    },
    {
     "name": "stderr",
     "output_type": "stream",
     "text": [
      "1886it [30:11,  1.82it/s]"
     ]
    },
    {
     "name": "stdout",
     "output_type": "stream",
     "text": [
      "skipping /scratch/bf996/datasets/socrata/data/data.cityofnewyork.us/data-cityofnewyork-us.wcg2-rbkn.rows.csv \n",
      "\n"
     ]
    },
    {
     "name": "stderr",
     "output_type": "stream",
     "text": [
      "1894it [30:12,  6.50it/s]"
     ]
    },
    {
     "name": "stdout",
     "output_type": "stream",
     "text": [
      "Exception single positional indexer is out-of-bounds for dataframe /scratch/bf996/datasets/socrata/data/data.cityofnewyork.us/data-cityofnewyork-us.8vgb-zm6e.rows.csv\n"
     ]
    },
    {
     "name": "stderr",
     "output_type": "stream",
     "text": [
      "1897it [30:14,  3.00it/s]"
     ]
    },
    {
     "name": "stdout",
     "output_type": "stream",
     "text": [
      "skipping /scratch/bf996/datasets/socrata/data/data.cityofnewyork.us/data-cityofnewyork-us.a5td-mswe.rows.csv \n",
      "\n"
     ]
    },
    {
     "name": "stderr",
     "output_type": "stream",
     "text": [
      "1905it [30:14,  5.94it/s]/state/partition1/job-31563200/ipykernel_315622/1855039622.py:16: DtypeWarning: Columns (9,15,216,217) have mixed types. Specify dtype option on import or set low_memory=False.\n",
      "  df = next(chunks)\n",
      "1907it [30:56,  7.46s/it]"
     ]
    },
    {
     "name": "stdout",
     "output_type": "stream",
     "text": [
      "Exception end of time for dataframe /scratch/bf996/datasets/socrata/data/data.cityofnewyork.us/data-cityofnewyork-us.7x5e-2fxh.rows.csv\n"
     ]
    },
    {
     "name": "stderr",
     "output_type": "stream",
     "text": [
      "1911it [30:57,  2.76s/it]"
     ]
    },
    {
     "name": "stdout",
     "output_type": "stream",
     "text": [
      "skipping /scratch/bf996/datasets/socrata/data/data.cityofnewyork.us/data-cityofnewyork-us.mdbu-nrqn.rows.csv \n",
      "\n"
     ]
    },
    {
     "name": "stderr",
     "output_type": "stream",
     "text": [
      "1921it [31:31,  4.68s/it]"
     ]
    },
    {
     "name": "stdout",
     "output_type": "stream",
     "text": [
      "Exception single positional indexer is out-of-bounds for dataframe /scratch/bf996/datasets/socrata/data/data.cityofnewyork.us/data-cityofnewyork-us.as69-ew8f.rows.csv\n"
     ]
    },
    {
     "name": "stderr",
     "output_type": "stream",
     "text": [
      "1929it [31:49,  1.31s/it]"
     ]
    },
    {
     "name": "stdout",
     "output_type": "stream",
     "text": [
      "Exception single positional indexer is out-of-bounds for dataframe /scratch/bf996/datasets/socrata/data/data.cityofnewyork.us/data-cityofnewyork-us.5x8i-3c5b.rows.csv\n"
     ]
    },
    {
     "name": "stderr",
     "output_type": "stream",
     "text": [
      "\r\n",
      "1932it [32:06,  3.46s/it]"
     ]
    },
    {
     "name": "stdout",
     "output_type": "stream",
     "text": [
      "Exception single positional indexer is out-of-bounds for dataframe /scratch/bf996/datasets/socrata/data/data.cityofnewyork.us/data-cityofnewyork-us.d4mz-3bq9.rows.csv\n",
      "skipping /scratch/bf996/datasets/socrata/data/data.cityofnewyork.us/data-cityofnewyork-us.gsgx-6efw.rows.csv \n",
      "\n"
     ]
    },
    {
     "name": "stderr",
     "output_type": "stream",
     "text": [
      "1938it [32:08,  1.51s/it]"
     ]
    },
    {
     "name": "stdout",
     "output_type": "stream",
     "text": [
      "Exception No columns to parse from file for dataframe /scratch/bf996/datasets/socrata/data/data.cityofnewyork.us/data-cityofnewyork-us.jht3-w4hh.rows.csv\n",
      "Exception single positional indexer is out-of-bounds for dataframe /scratch/bf996/datasets/socrata/data/data.cityofnewyork.us/data-cityofnewyork-us.5ziv-wcy4.rows.csv\n"
     ]
    },
    {
     "name": "stderr",
     "output_type": "stream",
     "text": [
      "1943it [32:09,  1.32it/s]"
     ]
    },
    {
     "name": "stdout",
     "output_type": "stream",
     "text": [
      "Exception single positional indexer is out-of-bounds for dataframe /scratch/bf996/datasets/socrata/data/data.cityofnewyork.us/data-cityofnewyork-us.pgtq-ht5f.rows.csv\n"
     ]
    },
    {
     "name": "stderr",
     "output_type": "stream",
     "text": [
      "1952it [32:14,  1.98it/s]"
     ]
    },
    {
     "name": "stdout",
     "output_type": "stream",
     "text": [
      "Exception single positional indexer is out-of-bounds for dataframe /scratch/bf996/datasets/socrata/data/data.cityofnewyork.us/data-cityofnewyork-us.ujsc-un6m.rows.csv\n"
     ]
    },
    {
     "name": "stderr",
     "output_type": "stream",
     "text": [
      "1956it [32:17,  1.18it/s]"
     ]
    },
    {
     "name": "stdout",
     "output_type": "stream",
     "text": [
      "skipping /scratch/bf996/datasets/socrata/data/data.cityofnewyork.us/data-cityofnewyork-us.i296-73x5.rows.csv \n",
      "\n"
     ]
    },
    {
     "name": "stderr",
     "output_type": "stream",
     "text": [
      "1968it [32:28,  1.75it/s]"
     ]
    },
    {
     "name": "stdout",
     "output_type": "stream",
     "text": [
      "Exception single positional indexer is out-of-bounds for dataframe /scratch/bf996/datasets/socrata/data/data.cityofnewyork.us/data-cityofnewyork-us.kwmq-dbub.rows.csv\n"
     ]
    },
    {
     "name": "stderr",
     "output_type": "stream",
     "text": [
      "1969it [32:30,  1.13it/s]/state/partition1/job-31563200/ipykernel_315622/1855039622.py:16: DtypeWarning: Columns (9,31,33,36,47,48,49,50,52,58) have mixed types. Specify dtype option on import or set low_memory=False.\n",
      "  df = next(chunks)\n",
      "1970it [32:32,  1.24s/it]"
     ]
    },
    {
     "name": "stdout",
     "output_type": "stream",
     "text": [
      "Exception single positional indexer is out-of-bounds for dataframe /scratch/bf996/datasets/socrata/data/data.cityofnewyork.us/data-cityofnewyork-us.ipu4-2q9a.rows.csv\n"
     ]
    },
    {
     "name": "stderr",
     "output_type": "stream",
     "text": [
      "1976it [32:33,  2.57it/s]/state/partition1/job-31563200/ipykernel_315622/1855039622.py:16: DtypeWarning: Columns (23,24) have mixed types. Specify dtype option on import or set low_memory=False.\n",
      "  df = next(chunks)\n",
      "1977it [32:34,  1.95it/s]"
     ]
    },
    {
     "name": "stdout",
     "output_type": "stream",
     "text": [
      "Exception single positional indexer is out-of-bounds for dataframe /scratch/bf996/datasets/socrata/data/data.cityofnewyork.us/data-cityofnewyork-us.kfp4-dz4h.rows.csv\n"
     ]
    },
    {
     "name": "stderr",
     "output_type": "stream",
     "text": [
      "1988it [32:49,  2.52it/s]"
     ]
    },
    {
     "name": "stdout",
     "output_type": "stream",
     "text": [
      "skipping /scratch/bf996/datasets/socrata/data/data.cityofnewyork.us/data-cityofnewyork-us.mwzb-yiwb.rows.csv \n",
      "\n",
      "Exception single positional indexer is out-of-bounds for dataframe /scratch/bf996/datasets/socrata/data/data.cityofnewyork.us/data-cityofnewyork-us.c3uy-2p5r.rows.csv\n"
     ]
    },
    {
     "name": "stderr",
     "output_type": "stream",
     "text": [
      "\r\n",
      "1990it [32:51,  1.71it/s]"
     ]
    },
    {
     "name": "stdout",
     "output_type": "stream",
     "text": [
      "Exception No columns to parse from file for dataframe /scratch/bf996/datasets/socrata/data/data.cityofnewyork.us/data-cityofnewyork-us.x79z-q7y2.rows.csv\n"
     ]
    },
    {
     "name": "stderr",
     "output_type": "stream",
     "text": [
      "1995it [32:51,  3.20it/s]"
     ]
    },
    {
     "name": "stdout",
     "output_type": "stream",
     "text": [
      "skipping /scratch/bf996/datasets/socrata/data/data.cityofnewyork.us/data-cityofnewyork-us.w2pb-icbu.rows.csv \n",
      "\n",
      "Exception single positional indexer is out-of-bounds for dataframe /scratch/bf996/datasets/socrata/data/data.cityofnewyork.us/data-cityofnewyork-us.imfq-nf3j.rows.csv\n",
      "Exception single positional indexer is out-of-bounds for dataframe /scratch/bf996/datasets/socrata/data/data.cityofnewyork.us/data-cityofnewyork-us.4kkh-qhtc.rows.csv\n"
     ]
    },
    {
     "name": "stderr",
     "output_type": "stream",
     "text": [
      "2001it [32:52,  6.28it/s]"
     ]
    },
    {
     "name": "stdout",
     "output_type": "stream",
     "text": [
      "Exception No columns to parse from file for dataframe /scratch/bf996/datasets/socrata/data/data.cityofnewyork.us/data-cityofnewyork-us.bvd8-5483.rows.csv\n",
      "Exception single positional indexer is out-of-bounds for dataframe /scratch/bf996/datasets/socrata/data/data.cityofnewyork.us/data-cityofnewyork-us.5vu2-shu8.rows.csv\n"
     ]
    },
    {
     "name": "stderr",
     "output_type": "stream",
     "text": [
      "2009it [32:53,  6.72it/s]"
     ]
    },
    {
     "name": "stdout",
     "output_type": "stream",
     "text": [
      "Exception single positional indexer is out-of-bounds for dataframe /scratch/bf996/datasets/socrata/data/data.cityofnewyork.us/data-cityofnewyork-us.6anw-twe4.rows.csv\n"
     ]
    },
    {
     "name": "stderr",
     "output_type": "stream",
     "text": [
      "/state/partition1/job-31563200/ipykernel_315622/1855039622.py:16: DtypeWarning: Columns (0,19,20,36) have mixed types. Specify dtype option on import or set low_memory=False.\n",
      "  df = next(chunks)\n",
      "2011it [32:55,  2.71it/s]"
     ]
    },
    {
     "name": "stdout",
     "output_type": "stream",
     "text": [
      "Exception single positional indexer is out-of-bounds for dataframe /scratch/bf996/datasets/socrata/data/data.cityofnewyork.us/data-cityofnewyork-us.dg92-zbpx.rows.csv\n"
     ]
    },
    {
     "name": "stderr",
     "output_type": "stream",
     "text": [
      "2016it [33:07,  1.37s/it]"
     ]
    },
    {
     "name": "stdout",
     "output_type": "stream",
     "text": [
      "skipping /scratch/bf996/datasets/socrata/data/data.cityofnewyork.us/data-cityofnewyork-us.b4mf-rg6h.rows.csv \n",
      "\n",
      "Exception single positional indexer is out-of-bounds for dataframe /scratch/bf996/datasets/socrata/data/data.cityofnewyork.us/data-cityofnewyork-us.wswf-9pts.rows.csv\n",
      "skipping /scratch/bf996/datasets/socrata/data/data.cityofnewyork.us/data-cityofnewyork-us.2np7-5jsg.rows.csv \n",
      "\n"
     ]
    },
    {
     "name": "stderr",
     "output_type": "stream",
     "text": [
      "2021it [33:07,  1.47it/s]/state/partition1/job-31563200/ipykernel_315622/1855039622.py:16: DtypeWarning: Columns (22,43,53) have mixed types. Specify dtype option on import or set low_memory=False.\n",
      "  df = next(chunks)\n",
      "2023it [33:09,  1.46it/s]"
     ]
    },
    {
     "name": "stdout",
     "output_type": "stream",
     "text": [
      "Exception single positional indexer is out-of-bounds for dataframe /scratch/bf996/datasets/socrata/data/data.cityofnewyork.us/data-cityofnewyork-us.64gx-bycn.rows.csv\n"
     ]
    },
    {
     "name": "stderr",
     "output_type": "stream",
     "text": [
      "2025it [33:10,  1.40it/s]"
     ]
    },
    {
     "name": "stdout",
     "output_type": "stream",
     "text": [
      "Exception single positional indexer is out-of-bounds for dataframe /scratch/bf996/datasets/socrata/data/data.cityofnewyork.us/data-cityofnewyork-us.vq35-j9qm.rows.csv\n"
     ]
    },
    {
     "name": "stderr",
     "output_type": "stream",
     "text": [
      "2030it [33:19,  1.20s/it]"
     ]
    },
    {
     "name": "stdout",
     "output_type": "stream",
     "text": [
      "Exception single positional indexer is out-of-bounds for dataframe /scratch/bf996/datasets/socrata/data/data.cityofnewyork.us/data-cityofnewyork-us.y4fw-iqfr.rows.csv\n"
     ]
    },
    {
     "name": "stderr",
     "output_type": "stream",
     "text": [
      "2032it [33:20,  1.09it/s]/state/partition1/job-31563200/ipykernel_315622/1855039622.py:16: DtypeWarning: Columns (6,13,56,57,60,61,65,67,68,71) have mixed types. Specify dtype option on import or set low_memory=False.\n",
      "  df = next(chunks)\n",
      "2033it [33:20,  1.17it/s]"
     ]
    },
    {
     "name": "stdout",
     "output_type": "stream",
     "text": [
      "Exception single positional indexer is out-of-bounds for dataframe /scratch/bf996/datasets/socrata/data/data.cityofnewyork.us/data-cityofnewyork-us.4e2n-s75z.rows.csv\n"
     ]
    },
    {
     "name": "stderr",
     "output_type": "stream",
     "text": [
      "\r\n",
      "2034it [33:25,  1.87s/it]"
     ]
    },
    {
     "name": "stdout",
     "output_type": "stream",
     "text": [
      "Exception single positional indexer is out-of-bounds for dataframe /scratch/bf996/datasets/socrata/data/data.cityofnewyork.us/data-cityofnewyork-us.keep-pkmh.rows.csv\n"
     ]
    },
    {
     "name": "stderr",
     "output_type": "stream",
     "text": [
      "\r\n",
      "2036it [33:26,  1.20s/it]"
     ]
    },
    {
     "name": "stdout",
     "output_type": "stream",
     "text": [
      "skipping /scratch/bf996/datasets/socrata/data/data.cityofnewyork.us/data-cityofnewyork-us.uczf-rk3c.rows.csv \n",
      "\n"
     ]
    },
    {
     "name": "stderr",
     "output_type": "stream",
     "text": [
      "2039it [33:27,  1.30it/s]"
     ]
    },
    {
     "name": "stdout",
     "output_type": "stream",
     "text": [
      "Exception single positional indexer is out-of-bounds for dataframe /scratch/bf996/datasets/socrata/data/data.cityofnewyork.us/data-cityofnewyork-us.scjj-6yaf.rows.csv\n"
     ]
    },
    {
     "name": "stderr",
     "output_type": "stream",
     "text": [
      "2045it [33:29,  2.39it/s]"
     ]
    },
    {
     "name": "stdout",
     "output_type": "stream",
     "text": [
      "Exception No columns to parse from file for dataframe /scratch/bf996/datasets/socrata/data/data.cityofnewyork.us/data-cityofnewyork-us.tuie-py5h.rows.csv\n"
     ]
    },
    {
     "name": "stderr",
     "output_type": "stream",
     "text": [
      "2051it [33:31,  2.33it/s]"
     ]
    },
    {
     "name": "stdout",
     "output_type": "stream",
     "text": [
      "Exception single positional indexer is out-of-bounds for dataframe /scratch/bf996/datasets/socrata/data/data.cityofnewyork.us/data-cityofnewyork-us.m3tj-a2pb.rows.csv\n"
     ]
    },
    {
     "name": "stderr",
     "output_type": "stream",
     "text": [
      "2056it [33:32,  4.36it/s]"
     ]
    },
    {
     "name": "stdout",
     "output_type": "stream",
     "text": [
      "Exception single positional indexer is out-of-bounds for dataframe /scratch/bf996/datasets/socrata/data/data.cityofnewyork.us/data-cityofnewyork-us.g62n-cz6a.rows.csv\n"
     ]
    },
    {
     "name": "stderr",
     "output_type": "stream",
     "text": [
      "2063it [33:34,  4.76it/s]/state/partition1/job-31563200/ipykernel_315622/1855039622.py:16: DtypeWarning: Columns (11,17) have mixed types. Specify dtype option on import or set low_memory=False.\n",
      "  df = next(chunks)\n",
      "2064it [33:35,  1.91it/s]"
     ]
    },
    {
     "name": "stdout",
     "output_type": "stream",
     "text": [
      "Exception single positional indexer is out-of-bounds for dataframe /scratch/bf996/datasets/socrata/data/data.cityofnewyork.us/data-cityofnewyork-us.dpm2-m9mq.rows.csv\n"
     ]
    },
    {
     "name": "stderr",
     "output_type": "stream",
     "text": [
      "2068it [33:37,  1.74it/s]"
     ]
    },
    {
     "name": "stdout",
     "output_type": "stream",
     "text": [
      "Exception single positional indexer is out-of-bounds for dataframe /scratch/bf996/datasets/socrata/data/data.cityofnewyork.us/data-cityofnewyork-us.gc8d-bnmn.rows.csv\n"
     ]
    },
    {
     "name": "stderr",
     "output_type": "stream",
     "text": [
      "2073it [33:38,  3.17it/s]"
     ]
    },
    {
     "name": "stdout",
     "output_type": "stream",
     "text": [
      "Exception single positional indexer is out-of-bounds for dataframe /scratch/bf996/datasets/socrata/data/data.cityofnewyork.us/data-cityofnewyork-us.5ize-y7yh.rows.csv\n",
      "Exception single positional indexer is out-of-bounds for dataframe /scratch/bf996/datasets/socrata/data/data.cityofnewyork.us/data-cityofnewyork-us.bf74-7bnx.rows.csv\n"
     ]
    },
    {
     "name": "stderr",
     "output_type": "stream",
     "text": [
      "/state/partition1/job-31563200/ipykernel_315622/1855039622.py:16: DtypeWarning: Columns (4,14,19) have mixed types. Specify dtype option on import or set low_memory=False.\n",
      "  df = next(chunks)\n",
      "2075it [33:39,  2.89it/s]"
     ]
    },
    {
     "name": "stdout",
     "output_type": "stream",
     "text": [
      "Exception single positional indexer is out-of-bounds for dataframe /scratch/bf996/datasets/socrata/data/data.cityofnewyork.us/data-cityofnewyork-us.92iy-9c3n.rows.csv\n",
      "Exception single positional indexer is out-of-bounds for dataframe /scratch/bf996/datasets/socrata/data/data.cityofnewyork.us/data-cityofnewyork-us.x2sd-f2zp.rows.csv\n"
     ]
    },
    {
     "name": "stderr",
     "output_type": "stream",
     "text": [
      "2078it [33:41,  2.37it/s]"
     ]
    },
    {
     "name": "stdout",
     "output_type": "stream",
     "text": [
      "Exception single positional indexer is out-of-bounds for dataframe /scratch/bf996/datasets/socrata/data/data.cityofnewyork.us/data-cityofnewyork-us.w9dc-u4ik.rows.csv\n"
     ]
    },
    {
     "name": "stderr",
     "output_type": "stream",
     "text": [
      "2084it [33:43,  3.70it/s]"
     ]
    },
    {
     "name": "stdout",
     "output_type": "stream",
     "text": [
      "Exception single positional indexer is out-of-bounds for dataframe /scratch/bf996/datasets/socrata/data/data.cityofnewyork.us/data-cityofnewyork-us.5kqf-fg3n.rows.csv\n"
     ]
    },
    {
     "name": "stderr",
     "output_type": "stream",
     "text": [
      "2101it [34:24,  1.19s/it]"
     ]
    },
    {
     "name": "stdout",
     "output_type": "stream",
     "text": [
      "skipping /scratch/bf996/datasets/socrata/data/data.cityofnewyork.us/data-cityofnewyork-us.4p5c-cbgn.rows.csv \n",
      "\n",
      "Exception single positional indexer is out-of-bounds for dataframe /scratch/bf996/datasets/socrata/data/data.cityofnewyork.us/data-cityofnewyork-us.9jf7-zn7b.rows.csv\n"
     ]
    },
    {
     "name": "stderr",
     "output_type": "stream",
     "text": [
      "\r\n",
      "2102it [34:28,  1.60s/it]"
     ]
    },
    {
     "name": "stdout",
     "output_type": "stream",
     "text": [
      "Exception single positional indexer is out-of-bounds for dataframe /scratch/bf996/datasets/socrata/data/data.cityofnewyork.us/data-cityofnewyork-us.hxm3-23vy.rows.csv\n"
     ]
    },
    {
     "name": "stderr",
     "output_type": "stream",
     "text": [
      "2108it [34:29,  1.69it/s]"
     ]
    },
    {
     "name": "stdout",
     "output_type": "stream",
     "text": [
      "Exception single positional indexer is out-of-bounds for dataframe /scratch/bf996/datasets/socrata/data/data.cityofnewyork.us/data-cityofnewyork-us.k2zg-756q.rows.csv\n"
     ]
    },
    {
     "name": "stderr",
     "output_type": "stream",
     "text": [
      "2113it [34:30,  3.04it/s]"
     ]
    },
    {
     "name": "stdout",
     "output_type": "stream",
     "text": [
      "Exception single positional indexer is out-of-bounds for dataframe /scratch/bf996/datasets/socrata/data/data.cityofnewyork.us/data-cityofnewyork-us.8kuj-2n3u.rows.csv\n"
     ]
    },
    {
     "name": "stderr",
     "output_type": "stream",
     "text": [
      "2118it [34:33,  1.76it/s]"
     ]
    },
    {
     "name": "stdout",
     "output_type": "stream",
     "text": [
      "skipping /scratch/bf996/datasets/socrata/data/data.cityofnewyork.us/data-cityofnewyork-us.u6nh-b56h.rows.csv \n",
      "\n"
     ]
    },
    {
     "name": "stderr",
     "output_type": "stream",
     "text": [
      "2133it [34:41,  1.88it/s]"
     ]
    },
    {
     "name": "stdout",
     "output_type": "stream",
     "text": [
      "Exception single positional indexer is out-of-bounds for dataframe /scratch/bf996/datasets/socrata/data/data.cityofnewyork.us/data-cityofnewyork-us.kfrx-hgf8.rows.csv\n"
     ]
    },
    {
     "name": "stderr",
     "output_type": "stream",
     "text": [
      "2138it [34:41,  4.47it/s]"
     ]
    },
    {
     "name": "stdout",
     "output_type": "stream",
     "text": [
      "Exception single positional indexer is out-of-bounds for dataframe /scratch/bf996/datasets/socrata/data/data.cityofnewyork.us/data-cityofnewyork-us.7t9i-jsfp.rows.csv\n",
      "skipping /scratch/bf996/datasets/socrata/data/data.cityofnewyork.us/data-cityofnewyork-us.erm2-nwe9.rows.csv \n",
      "\n"
     ]
    },
    {
     "name": "stderr",
     "output_type": "stream",
     "text": [
      "2142it [34:43,  2.30it/s]"
     ]
    },
    {
     "name": "stdout",
     "output_type": "stream",
     "text": [
      "skipping /scratch/bf996/datasets/socrata/data/data.cityofnewyork.us/data-cityofnewyork-us.kvfd-bves.rows.csv \n",
      "\n"
     ]
    },
    {
     "name": "stderr",
     "output_type": "stream",
     "text": [
      "2146it [34:48,  1.25it/s]"
     ]
    },
    {
     "name": "stdout",
     "output_type": "stream",
     "text": [
      "Exception single positional indexer is out-of-bounds for dataframe /scratch/bf996/datasets/socrata/data/data.cityofnewyork.us/data-cityofnewyork-us.emuv-tx7t.rows.csv\n",
      "Exception single positional indexer is out-of-bounds for dataframe /scratch/bf996/datasets/socrata/data/data.cityofnewyork.us/data-cityofnewyork-us.ms66-xjfq.rows.csv\n",
      "Exception No columns to parse from file for dataframe /scratch/bf996/datasets/socrata/data/data.cityofnewyork.us/data-cityofnewyork-us.hntz-vujg.rows.csv\n"
     ]
    },
    {
     "name": "stderr",
     "output_type": "stream",
     "text": [
      "2154it [35:09,  1.39s/it]"
     ]
    },
    {
     "name": "stdout",
     "output_type": "stream",
     "text": [
      "Exception single positional indexer is out-of-bounds for dataframe /scratch/bf996/datasets/socrata/data/data.cityofnewyork.us/data-cityofnewyork-us.6pwv-zmgh.rows.csv\n"
     ]
    },
    {
     "name": "stderr",
     "output_type": "stream",
     "text": [
      "2162it [35:13,  1.81it/s]"
     ]
    },
    {
     "name": "stdout",
     "output_type": "stream",
     "text": [
      "Exception single positional indexer is out-of-bounds for dataframe /scratch/bf996/datasets/socrata/data/data.cityofnewyork.us/data-cityofnewyork-us.s67q-ee5u.rows.csv\n"
     ]
    },
    {
     "name": "stderr",
     "output_type": "stream",
     "text": [
      "2165it [35:15,  1.85it/s]"
     ]
    },
    {
     "name": "stdout",
     "output_type": "stream",
     "text": [
      "Exception single positional indexer is out-of-bounds for dataframe /scratch/bf996/datasets/socrata/data/data.cityofnewyork.us/data-cityofnewyork-us.fp78-wt5b.rows.csv\n",
      "Exception single positional indexer is out-of-bounds for dataframe /scratch/bf996/datasets/socrata/data/data.cityofnewyork.us/data-cityofnewyork-us.qpm9-j523.rows.csv\n"
     ]
    },
    {
     "name": "stderr",
     "output_type": "stream",
     "text": [
      "2168it [35:15,  3.11it/s]/state/partition1/job-31563200/ipykernel_315622/1855039622.py:16: DtypeWarning: Columns (1,2,6,21,33,37,38,40,41,42,43,44,45,47,51) have mixed types. Specify dtype option on import or set low_memory=False.\n",
      "  df = next(chunks)\n",
      "2171it [35:17,  2.62it/s]"
     ]
    },
    {
     "name": "stdout",
     "output_type": "stream",
     "text": [
      "Exception single positional indexer is out-of-bounds for dataframe /scratch/bf996/datasets/socrata/data/data.cityofnewyork.us/data-cityofnewyork-us.n8p9-7jxp.rows.csv\n",
      "Exception single positional indexer is out-of-bounds for dataframe /scratch/bf996/datasets/socrata/data/data.cityofnewyork.us/data-cityofnewyork-us.7pi4-r8u2.rows.csv\n"
     ]
    },
    {
     "name": "stderr",
     "output_type": "stream",
     "text": [
      "2176it [35:34,  1.57s/it]"
     ]
    },
    {
     "name": "stdout",
     "output_type": "stream",
     "text": [
      "skipping /scratch/bf996/datasets/socrata/data/data.cityofnewyork.us/data-cityofnewyork-us.irs3-wn2g.rows.csv \n",
      "\n"
     ]
    },
    {
     "name": "stderr",
     "output_type": "stream",
     "text": [
      "2181it [35:37,  1.44it/s]"
     ]
    },
    {
     "name": "stdout",
     "output_type": "stream",
     "text": [
      "skipping /scratch/bf996/datasets/socrata/data/data.cityofnewyork.us/data-cityofnewyork-us.kiv2-tbus.rows.csv \n",
      "\n",
      "Exception single positional indexer is out-of-bounds for dataframe /scratch/bf996/datasets/socrata/data/data.cityofnewyork.us/data-cityofnewyork-us.kvhd-5fmu.rows.csv\n"
     ]
    },
    {
     "name": "stderr",
     "output_type": "stream",
     "text": [
      "2185it [35:40,  1.57it/s]/state/partition1/job-31563200/ipykernel_315622/1855039622.py:16: DtypeWarning: Columns (2,47) have mixed types. Specify dtype option on import or set low_memory=False.\n",
      "  df = next(chunks)\n",
      "2186it [35:40,  1.56it/s]"
     ]
    },
    {
     "name": "stdout",
     "output_type": "stream",
     "text": [
      "Exception single positional indexer is out-of-bounds for dataframe /scratch/bf996/datasets/socrata/data/data.cityofnewyork.us/data-cityofnewyork-us.rjkp-yttg.rows.csv\n"
     ]
    },
    {
     "name": "stderr",
     "output_type": "stream",
     "text": [
      "2197it [35:49,  2.50it/s]"
     ]
    },
    {
     "name": "stdout",
     "output_type": "stream",
     "text": [
      "Exception No columns to parse from file for dataframe /scratch/bf996/datasets/socrata/data/data.cityofnewyork.us/data-cityofnewyork-us.pmj5-4bsh.rows.csv\n"
     ]
    },
    {
     "name": "stderr",
     "output_type": "stream",
     "text": [
      "\r\n",
      "2199it [35:49,  3.61it/s]"
     ]
    },
    {
     "name": "stdout",
     "output_type": "stream",
     "text": [
      "skipping /scratch/bf996/datasets/socrata/data/data.cityofnewyork.us/data-cityofnewyork-us.eabe-havv.rows.csv \n",
      "\n"
     ]
    },
    {
     "name": "stderr",
     "output_type": "stream",
     "text": [
      "/state/partition1/job-31563200/ipykernel_315622/1855039622.py:16: DtypeWarning: Columns (15,16,18,19,20,21,22,23) have mixed types. Specify dtype option on import or set low_memory=False.\n",
      "  df = next(chunks)\n",
      "2202it [35:50,  4.03it/s]"
     ]
    },
    {
     "name": "stdout",
     "output_type": "stream",
     "text": [
      "Exception single positional indexer is out-of-bounds for dataframe /scratch/bf996/datasets/socrata/data/data.cityofnewyork.us/data-cityofnewyork-us.2bsr-c6qq.rows.csv\n"
     ]
    },
    {
     "name": "stderr",
     "output_type": "stream",
     "text": [
      "2206it [36:29,  9.47s/it]"
     ]
    },
    {
     "name": "stdout",
     "output_type": "stream",
     "text": [
      "Exception No columns to parse from file for dataframe /scratch/bf996/datasets/socrata/data/data.cityofnewyork.us/data-cityofnewyork-us.g3s7-2g3d.rows.csv\n"
     ]
    },
    {
     "name": "stderr",
     "output_type": "stream",
     "text": [
      "2208it [36:29,  5.61s/it]/state/partition1/job-31563200/ipykernel_315622/1855039622.py:16: DtypeWarning: Columns (10,31,32,35,36) have mixed types. Specify dtype option on import or set low_memory=False.\n",
      "  df = next(chunks)\n",
      "2209it [36:29,  4.40s/it]"
     ]
    },
    {
     "name": "stdout",
     "output_type": "stream",
     "text": [
      "Exception single positional indexer is out-of-bounds for dataframe /scratch/bf996/datasets/socrata/data/data.cityofnewyork.us/data-cityofnewyork-us.tg3t-nh4h.rows.csv\n"
     ]
    },
    {
     "name": "stderr",
     "output_type": "stream",
     "text": [
      "2212it [36:30,  2.14s/it]"
     ]
    },
    {
     "name": "stdout",
     "output_type": "stream",
     "text": [
      "Exception single positional indexer is out-of-bounds for dataframe /scratch/bf996/datasets/socrata/data/data.cityofnewyork.us/data-cityofnewyork-us.ay6v-3gm3.rows.csv\n"
     ]
    },
    {
     "name": "stderr",
     "output_type": "stream",
     "text": [
      "2218it [36:30,  1.45it/s]"
     ]
    },
    {
     "name": "stdout",
     "output_type": "stream",
     "text": [
      "Exception No columns to parse from file for dataframe /scratch/bf996/datasets/socrata/data/data.cityofnewyork.us/data-cityofnewyork-us.j2dd-88mm.rows.csv\n"
     ]
    },
    {
     "name": "stderr",
     "output_type": "stream",
     "text": [
      "2222it [36:40,  2.46s/it]/state/partition1/job-31563200/ipykernel_315622/1855039622.py:16: DtypeWarning: Columns (5) have mixed types. Specify dtype option on import or set low_memory=False.\n",
      "  df = next(chunks)\n",
      "2224it [36:43,  1.90s/it]"
     ]
    },
    {
     "name": "stdout",
     "output_type": "stream",
     "text": [
      "Exception single positional indexer is out-of-bounds for dataframe /scratch/bf996/datasets/socrata/data/data.cityofnewyork.us/data-cityofnewyork-us.yrnt-txti.rows.csv\n"
     ]
    },
    {
     "name": "stderr",
     "output_type": "stream",
     "text": [
      "2227it [36:44,  1.08s/it]"
     ]
    },
    {
     "name": "stdout",
     "output_type": "stream",
     "text": [
      "Exception single positional indexer is out-of-bounds for dataframe /scratch/bf996/datasets/socrata/data/data.cityofnewyork.us/data-cityofnewyork-us.4yue-vjfc.rows.csv\n"
     ]
    },
    {
     "name": "stderr",
     "output_type": "stream",
     "text": [
      "2230it [36:45,  1.53it/s]"
     ]
    },
    {
     "name": "stdout",
     "output_type": "stream",
     "text": [
      "Exception single positional indexer is out-of-bounds for dataframe /scratch/bf996/datasets/socrata/data/data.cityofnewyork.us/data-cityofnewyork-us.utrx-wxe8.rows.csv\n",
      "Exception single positional indexer is out-of-bounds for dataframe /scratch/bf996/datasets/socrata/data/data.cityofnewyork.us/data-cityofnewyork-us.kh3d-xhq7.rows.csv\n",
      "skipping /scratch/bf996/datasets/socrata/data/data.cityofnewyork.us/data-cityofnewyork-us.rebk-rr49.rows.csv \n",
      "\n"
     ]
    },
    {
     "name": "stderr",
     "output_type": "stream",
     "text": [
      "2240it [36:50,  2.87it/s]"
     ]
    },
    {
     "name": "stdout",
     "output_type": "stream",
     "text": [
      "Exception single positional indexer is out-of-bounds for dataframe /scratch/bf996/datasets/socrata/data/data.cityofnewyork.us/data-cityofnewyork-us.i9pf-sj7c.rows.csv\n",
      "Exception single positional indexer is out-of-bounds for dataframe /scratch/bf996/datasets/socrata/data/data.cityofnewyork.us/data-cityofnewyork-us.2pmj-y4p4.rows.csv\n"
     ]
    },
    {
     "name": "stderr",
     "output_type": "stream",
     "text": [
      "/state/partition1/job-31563200/ipykernel_315622/1855039622.py:16: DtypeWarning: Columns (6) have mixed types. Specify dtype option on import or set low_memory=False.\n",
      "  df = next(chunks)\n",
      "2243it [36:53,  1.21it/s]/state/partition1/job-31563200/ipykernel_315622/1855039622.py:16: DtypeWarning: Columns (7,11) have mixed types. Specify dtype option on import or set low_memory=False.\n",
      "  df = next(chunks)\n",
      "2251it [36:56,  3.04it/s]"
     ]
    },
    {
     "name": "stdout",
     "output_type": "stream",
     "text": [
      "skipping /scratch/bf996/datasets/socrata/data/data.cityofnewyork.us/data-cityofnewyork-us.pxzj-y6s8.rows.csv \n",
      "\n"
     ]
    },
    {
     "name": "stderr",
     "output_type": "stream",
     "text": [
      "2254it [36:59,  1.82it/s]/state/partition1/job-31563200/ipykernel_315622/1855039622.py:16: DtypeWarning: Columns (10) have mixed types. Specify dtype option on import or set low_memory=False.\n",
      "  df = next(chunks)\n",
      "2255it [37:00,  1.60it/s]"
     ]
    },
    {
     "name": "stdout",
     "output_type": "stream",
     "text": [
      "Exception single positional indexer is out-of-bounds for dataframe /scratch/bf996/datasets/socrata/data/data.cityofnewyork.us/data-cityofnewyork-us.a8cg-cxa6.rows.csv\n"
     ]
    },
    {
     "name": "stderr",
     "output_type": "stream",
     "text": [
      "/state/partition1/job-31563200/ipykernel_315622/1855039622.py:16: DtypeWarning: Columns (9,11,12,13,14,15,16,23,26) have mixed types. Specify dtype option on import or set low_memory=False.\n",
      "  df = next(chunks)\n",
      "2262it [37:04,  2.33it/s]"
     ]
    },
    {
     "name": "stdout",
     "output_type": "stream",
     "text": [
      "Exception single positional indexer is out-of-bounds for dataframe /scratch/bf996/datasets/socrata/data/data.cityofnewyork.us/data-cityofnewyork-us.8gr8-ngjc.rows.csv\n",
      "Exception single positional indexer is out-of-bounds for dataframe /scratch/bf996/datasets/socrata/data/data.cityofnewyork.us/data-cityofnewyork-us.dh83-nwj8.rows.csv\n"
     ]
    },
    {
     "name": "stderr",
     "output_type": "stream",
     "text": [
      "2266it [37:05,  4.32it/s]"
     ]
    },
    {
     "name": "stdout",
     "output_type": "stream",
     "text": [
      "Exception single positional indexer is out-of-bounds for dataframe /scratch/bf996/datasets/socrata/data/data.cityofnewyork.us/data-cityofnewyork-us.c4vk-jvzy.rows.csv\n",
      "Exception single positional indexer is out-of-bounds for dataframe /scratch/bf996/datasets/socrata/data/data.cityofnewyork.us/data-cityofnewyork-us.qxzj-vkn2.rows.csv\n"
     ]
    },
    {
     "name": "stderr",
     "output_type": "stream",
     "text": [
      "2271it [37:07,  2.34it/s]/state/partition1/job-31563200/ipykernel_315622/1855039622.py:16: DtypeWarning: Columns (4,10,11) have mixed types. Specify dtype option on import or set low_memory=False.\n",
      "  df = next(chunks)\n",
      "2272it [37:07,  2.63it/s]"
     ]
    },
    {
     "name": "stdout",
     "output_type": "stream",
     "text": [
      "Exception single positional indexer is out-of-bounds for dataframe /scratch/bf996/datasets/socrata/data/data.cityofnewyork.us/data-cityofnewyork-us.wa6b-r9jh.rows.csv\n"
     ]
    },
    {
     "name": "stderr",
     "output_type": "stream",
     "text": [
      "2279it [37:09,  5.84it/s]"
     ]
    },
    {
     "name": "stdout",
     "output_type": "stream",
     "text": [
      "Exception single positional indexer is out-of-bounds for dataframe /scratch/bf996/datasets/socrata/data/data.cityofnewyork.us/data-cityofnewyork-us.qfk7-6ens.rows.csv\n",
      "Exception single positional indexer is out-of-bounds for dataframe /scratch/bf996/datasets/socrata/data/data.cityofnewyork.us/data-cityofnewyork-us.veav-vj3r.rows.csv\n"
     ]
    },
    {
     "name": "stderr",
     "output_type": "stream",
     "text": [
      "2281it [37:09,  4.80it/s]"
     ]
    },
    {
     "name": "stdout",
     "output_type": "stream",
     "text": [
      "Exception single positional indexer is out-of-bounds for dataframe /scratch/bf996/datasets/socrata/data/data.cityofnewyork.us/data-cityofnewyork-us.nyis-y4yr.rows.csv\n"
     ]
    },
    {
     "name": "stderr",
     "output_type": "stream",
     "text": [
      "2291it [37:12,  2.16it/s]"
     ]
    },
    {
     "name": "stdout",
     "output_type": "stream",
     "text": [
      "Exception single positional indexer is out-of-bounds for dataframe /scratch/bf996/datasets/socrata/data/data.cityofnewyork.us/data-cityofnewyork-us.nbgq-j9jt.rows.csv\n"
     ]
    },
    {
     "name": "stderr",
     "output_type": "stream",
     "text": [
      "2297it [37:14,  4.35it/s]"
     ]
    },
    {
     "name": "stdout",
     "output_type": "stream",
     "text": [
      "skipping /scratch/bf996/datasets/socrata/data/data.cityofnewyork.us/data-cityofnewyork-us.avz8-mqzz.rows.csv \n",
      "\n"
     ]
    },
    {
     "name": "stderr",
     "output_type": "stream",
     "text": [
      "2300it [37:14,  5.41it/s]"
     ]
    },
    {
     "name": "stdout",
     "output_type": "stream",
     "text": [
      "skipping /scratch/bf996/datasets/socrata/data/data.cityofnewyork.us/data-cityofnewyork-us.fpxc-zjtm.rows.csv \n",
      "\n",
      "Exception No columns to parse from file for dataframe /scratch/bf996/datasets/socrata/data/data.cityofnewyork.us/data-cityofnewyork-us.mmdw-rxy8.rows.csv\n",
      "skipping /scratch/bf996/datasets/socrata/data/data.cityofnewyork.us/data-cityofnewyork-us.sxmw-f24h.rows.csv \n",
      "\n"
     ]
    },
    {
     "name": "stderr",
     "output_type": "stream",
     "text": [
      "2311it [37:15,  8.37it/s]"
     ]
    },
    {
     "name": "stdout",
     "output_type": "stream",
     "text": [
      "Exception single positional indexer is out-of-bounds for dataframe /scratch/bf996/datasets/socrata/data/data.cityofnewyork.us/data-cityofnewyork-us.t8xi-d5wb.rows.csv\n",
      "Exception single positional indexer is out-of-bounds for dataframe /scratch/bf996/datasets/socrata/data/data.cityofnewyork.us/data-cityofnewyork-us.nk7g-qeep.rows.csv\n",
      "Exception single positional indexer is out-of-bounds for dataframe /scratch/bf996/datasets/socrata/data/data.cityofnewyork.us/data-cityofnewyork-us.7jzh-b7rq.rows.csv\n"
     ]
    },
    {
     "name": "stderr",
     "output_type": "stream",
     "text": [
      "2313it [37:16,  7.65it/s]/state/partition1/job-31563200/ipykernel_315622/1855039622.py:16: DtypeWarning: Columns (0,1) have mixed types. Specify dtype option on import or set low_memory=False.\n",
      "  df = next(chunks)\n",
      "2315it [37:17,  2.69it/s]"
     ]
    },
    {
     "name": "stdout",
     "output_type": "stream",
     "text": [
      "Exception single positional indexer is out-of-bounds for dataframe /scratch/bf996/datasets/socrata/data/data.cityofnewyork.us/data-cityofnewyork-us.3h2n-5cm9.rows.csv\n",
      "Exception No columns to parse from file for dataframe /scratch/bf996/datasets/socrata/data/data.cityofnewyork.us/data-cityofnewyork-us.adqm-qibj.rows.csv\n"
     ]
    },
    {
     "name": "stderr",
     "output_type": "stream",
     "text": [
      "2320it [37:19,  2.91it/s]/state/partition1/job-31563200/ipykernel_315622/1855039622.py:16: DtypeWarning: Columns (15) have mixed types. Specify dtype option on import or set low_memory=False.\n",
      "  df = next(chunks)\n",
      "2321it [37:59,  8.68s/it]"
     ]
    },
    {
     "name": "stdout",
     "output_type": "stream",
     "text": [
      "Exception end of time for dataframe /scratch/bf996/datasets/socrata/data/data.cityofnewyork.us/data-cityofnewyork-us.dd6w-hnq9.rows.csv\n",
      "skipping /scratch/bf996/datasets/socrata/data/data.cityofnewyork.us/data-cityofnewyork-us.i4gi-tjb9.rows.csv \n",
      "\n"
     ]
    },
    {
     "name": "stderr",
     "output_type": "stream",
     "text": [
      "2326it [38:00,  2.80s/it]"
     ]
    },
    {
     "name": "stdout",
     "output_type": "stream",
     "text": [
      "Exception single positional indexer is out-of-bounds for dataframe /scratch/bf996/datasets/socrata/data/data.cityofnewyork.us/data-cityofnewyork-us.8k4x-9mp5.rows.csv\n",
      "Exception single positional indexer is out-of-bounds for dataframe /scratch/bf996/datasets/socrata/data/data.cityofnewyork.us/data-cityofnewyork-us.f4yq-wry5.rows.csv\n",
      "skipping /scratch/bf996/datasets/socrata/data/data.cityofnewyork.us/data-cityofnewyork-us.7mxj-7a6y.rows.csv \n",
      "\n"
     ]
    },
    {
     "name": "stderr",
     "output_type": "stream",
     "text": [
      "\r\n",
      "2329it [38:03,  2.05s/it]"
     ]
    },
    {
     "name": "stdout",
     "output_type": "stream",
     "text": [
      "skipping /scratch/bf996/datasets/socrata/data/data.cityofnewyork.us/data-cityofnewyork-us.yjxr-fw8i.rows.csv \n",
      "\n"
     ]
    },
    {
     "name": "stderr",
     "output_type": "stream",
     "text": [
      "2338it [38:07,  1.39it/s]"
     ]
    },
    {
     "name": "stdout",
     "output_type": "stream",
     "text": [
      "Exception single positional indexer is out-of-bounds for dataframe /scratch/bf996/datasets/socrata/data/data.cityofnewyork.us/data-cityofnewyork-us.w76s-c5u4.rows.csv\n"
     ]
    },
    {
     "name": "stderr",
     "output_type": "stream",
     "text": [
      "\r\n",
      "2339it [38:07,  1.58it/s]"
     ]
    },
    {
     "name": "stdout",
     "output_type": "stream",
     "text": [
      "Exception single positional indexer is out-of-bounds for dataframe /scratch/bf996/datasets/socrata/data/data.cityofnewyork.us/data-cityofnewyork-us.kcey-vehy.rows.csv\n"
     ]
    },
    {
     "name": "stderr",
     "output_type": "stream",
     "text": [
      "\r\n",
      "2340it [38:08,  1.80it/s]"
     ]
    },
    {
     "name": "stdout",
     "output_type": "stream",
     "text": [
      "Exception No columns to parse from file for dataframe /scratch/bf996/datasets/socrata/data/data.cityofnewyork.us/data-cityofnewyork-us.ph9e-sw9u.rows.csv\n"
     ]
    },
    {
     "name": "stderr",
     "output_type": "stream",
     "text": [
      "2343it [38:08,  2.94it/s]"
     ]
    },
    {
     "name": "stdout",
     "output_type": "stream",
     "text": [
      "Exception No columns to parse from file for dataframe /scratch/bf996/datasets/socrata/data/data.cityofnewyork.us/data-cityofnewyork-us.k8in-e8bh.rows.csv\n"
     ]
    },
    {
     "name": "stderr",
     "output_type": "stream",
     "text": [
      "2348it [38:50,  8.08s/it]"
     ]
    },
    {
     "name": "stdout",
     "output_type": "stream",
     "text": [
      "Exception end of time for dataframe /scratch/bf996/datasets/socrata/data/data.cityofnewyork.us/data-cityofnewyork-us.ufzp-rrqu.rows.csv\n"
     ]
    },
    {
     "name": "stderr",
     "output_type": "stream",
     "text": [
      "2352it [38:52,  3.09s/it]"
     ]
    },
    {
     "name": "stdout",
     "output_type": "stream",
     "text": [
      "Exception single positional indexer is out-of-bounds for dataframe /scratch/bf996/datasets/socrata/data/data.cityofnewyork.us/data-cityofnewyork-us.ahjc-fdu3.rows.csv\n"
     ]
    },
    {
     "name": "stderr",
     "output_type": "stream",
     "text": [
      "2365it [38:55,  2.33it/s]"
     ]
    },
    {
     "name": "stdout",
     "output_type": "stream",
     "text": [
      "Exception No columns to parse from file for dataframe /scratch/bf996/datasets/socrata/data/data.cityofnewyork.us/data-cityofnewyork-us.aqy4-qgvz.rows.csv\n"
     ]
    },
    {
     "name": "stderr",
     "output_type": "stream",
     "text": [
      "2374it [39:00,  2.45it/s]"
     ]
    },
    {
     "name": "stdout",
     "output_type": "stream",
     "text": [
      "Exception single positional indexer is out-of-bounds for dataframe /scratch/bf996/datasets/socrata/data/data.cityofnewyork.us/data-cityofnewyork-us.d3ge-anaz.rows.csv\n"
     ]
    },
    {
     "name": "stderr",
     "output_type": "stream",
     "text": [
      "/state/partition1/job-31563200/ipykernel_315622/1855039622.py:16: DtypeWarning: Columns (23) have mixed types. Specify dtype option on import or set low_memory=False.\n",
      "  df = next(chunks)\n",
      "\r\n",
      "2375it [39:01,  2.49it/s]"
     ]
    },
    {
     "name": "stdout",
     "output_type": "stream",
     "text": [
      "Exception single positional indexer is out-of-bounds for dataframe /scratch/bf996/datasets/socrata/data/data.cityofnewyork.us/data-cityofnewyork-us.easq-ubfe.rows.csv\n"
     ]
    },
    {
     "name": "stderr",
     "output_type": "stream",
     "text": [
      "2384it [39:07,  2.68it/s]"
     ]
    },
    {
     "name": "stdout",
     "output_type": "stream",
     "text": [
      "Exception single positional indexer is out-of-bounds for dataframe /scratch/bf996/datasets/socrata/data/data.cityofnewyork.us/data-cityofnewyork-us.8kic-uvpz.rows.csv\n"
     ]
    },
    {
     "name": "stderr",
     "output_type": "stream",
     "text": [
      "2393it [39:10,  2.52it/s]"
     ]
    },
    {
     "name": "stdout",
     "output_type": "stream",
     "text": [
      "Exception single positional indexer is out-of-bounds for dataframe /scratch/bf996/datasets/socrata/data/data.cityofnewyork.us/data-cityofnewyork-us.9ck8-hj3u.rows.csv\n",
      "skipping /scratch/bf996/datasets/socrata/data/data.cityofnewyork.us/data-cityofnewyork-us.3y4p-uusw.rows.csv \n",
      "\n"
     ]
    },
    {
     "name": "stderr",
     "output_type": "stream",
     "text": [
      "2402it [39:13,  2.74it/s]/state/partition1/job-31563200/ipykernel_315622/1855039622.py:16: DtypeWarning: Columns (13,19) have mixed types. Specify dtype option on import or set low_memory=False.\n",
      "  df = next(chunks)\n",
      "2412it [39:27,  2.46it/s]"
     ]
    },
    {
     "name": "stdout",
     "output_type": "stream",
     "text": [
      "Exception single positional indexer is out-of-bounds for dataframe /scratch/bf996/datasets/socrata/data/data.cityofnewyork.us/data-cityofnewyork-us.qbce-2kcu.rows.csv\n"
     ]
    },
    {
     "name": "stderr",
     "output_type": "stream",
     "text": [
      "2415it [39:27,  4.08it/s]"
     ]
    },
    {
     "name": "stdout",
     "output_type": "stream",
     "text": [
      "Exception single positional indexer is out-of-bounds for dataframe /scratch/bf996/datasets/socrata/data/data.cityofnewyork.us/data-cityofnewyork-us.vw9i-7mzq.rows.csv\n"
     ]
    },
    {
     "name": "stderr",
     "output_type": "stream",
     "text": [
      "2428it [39:49,  1.24it/s]"
     ]
    },
    {
     "name": "stdout",
     "output_type": "stream",
     "text": [
      "Exception single positional indexer is out-of-bounds for dataframe /scratch/bf996/datasets/socrata/data/data.cityofnewyork.us/data-cityofnewyork-us.6m3u-8rbh.rows.csv\n"
     ]
    },
    {
     "name": "stderr",
     "output_type": "stream",
     "text": [
      "2434it [39:49,  3.45it/s]"
     ]
    },
    {
     "name": "stdout",
     "output_type": "stream",
     "text": [
      "Exception No columns to parse from file for dataframe /scratch/bf996/datasets/socrata/data/data.cityofnewyork.us/data-cityofnewyork-us.ifnn-4w9d.rows.csv\n",
      "Exception single positional indexer is out-of-bounds for dataframe /scratch/bf996/datasets/socrata/data/data.cityofnewyork.us/data-cityofnewyork-us.akzx-fghb.rows.csv\n"
     ]
    },
    {
     "name": "stderr",
     "output_type": "stream",
     "text": [
      "2438it [39:50,  5.15it/s]"
     ]
    },
    {
     "name": "stdout",
     "output_type": "stream",
     "text": [
      "skipping /scratch/bf996/datasets/socrata/data/data.cityofnewyork.us/data-cityofnewyork-us.q5mz-t52e.rows.csv \n",
      "\n"
     ]
    },
    {
     "name": "stderr",
     "output_type": "stream",
     "text": [
      "\r\n",
      "2440it [39:50,  6.45it/s]"
     ]
    },
    {
     "name": "stdout",
     "output_type": "stream",
     "text": [
      "Exception No columns to parse from file for dataframe /scratch/bf996/datasets/socrata/data/data.cityofnewyork.us/data-cityofnewyork-us.g54d-49wm.rows.csv\n"
     ]
    },
    {
     "name": "stderr",
     "output_type": "stream",
     "text": [
      "2442it [39:51,  4.82it/s]/state/partition1/job-31563200/ipykernel_315622/1855039622.py:16: DtypeWarning: Columns (0,28) have mixed types. Specify dtype option on import or set low_memory=False.\n",
      "  df = next(chunks)\n",
      "2444it [40:33,  5.96s/it]"
     ]
    },
    {
     "name": "stdout",
     "output_type": "stream",
     "text": [
      "Exception end of time for dataframe /scratch/bf996/datasets/socrata/data/data.cityofnewyork.us/data-cityofnewyork-us.kwte-dppd.rows.csv\n"
     ]
    },
    {
     "name": "stderr",
     "output_type": "stream",
     "text": [
      "2447it [40:33,  2.90s/it]"
     ]
    },
    {
     "name": "stdout",
     "output_type": "stream",
     "text": [
      "Exception single positional indexer is out-of-bounds for dataframe /scratch/bf996/datasets/socrata/data/data.cityofnewyork.us/data-cityofnewyork-us.gms8-qcv5.rows.csv\n",
      "skipping /scratch/bf996/datasets/socrata/data/data.cityofnewyork.us/data-cityofnewyork-us.erdf-2akx.rows.csv \n",
      "\n"
     ]
    },
    {
     "name": "stderr",
     "output_type": "stream",
     "text": [
      "2451it [40:34,  1.34s/it]"
     ]
    },
    {
     "name": "stdout",
     "output_type": "stream",
     "text": [
      "Exception single positional indexer is out-of-bounds for dataframe /scratch/bf996/datasets/socrata/data/data.cityofnewyork.us/data-cityofnewyork-us.63ge-mke6.rows.csv\n"
     ]
    },
    {
     "name": "stderr",
     "output_type": "stream",
     "text": [
      "2455it [40:34,  1.42it/s]"
     ]
    },
    {
     "name": "stdout",
     "output_type": "stream",
     "text": [
      "skipping /scratch/bf996/datasets/socrata/data/data.cityofnewyork.us/data-cityofnewyork-us.cj3v-xdpd.rows.csv \n",
      "\n",
      "Exception No columns to parse from file for dataframe /scratch/bf996/datasets/socrata/data/data.cityofnewyork.us/data-cityofnewyork-us.dji6-v57p.rows.csv\n"
     ]
    },
    {
     "name": "stderr",
     "output_type": "stream",
     "text": [
      "2464it [40:37,  2.99it/s]"
     ]
    },
    {
     "name": "stdout",
     "output_type": "stream",
     "text": [
      "Exception single positional indexer is out-of-bounds for dataframe /scratch/bf996/datasets/socrata/data/data.cityofnewyork.us/data-cityofnewyork-us.vyxt-abab.rows.csv\n"
     ]
    },
    {
     "name": "stderr",
     "output_type": "stream",
     "text": [
      "2469it [40:38,  3.87it/s]"
     ]
    },
    {
     "name": "stdout",
     "output_type": "stream",
     "text": [
      "Exception single positional indexer is out-of-bounds for dataframe /scratch/bf996/datasets/socrata/data/data.cityofnewyork.us/data-cityofnewyork-us.fbkk-n4e3.rows.csv\n",
      "Exception single positional indexer is out-of-bounds for dataframe /scratch/bf996/datasets/socrata/data/data.cityofnewyork.us/data-cityofnewyork-us.rghe-gkg2.rows.csv\n",
      "Exception single positional indexer is out-of-bounds for dataframe /scratch/bf996/datasets/socrata/data/data.cityofnewyork.us/data-cityofnewyork-us.7xq6-k6zy.rows.csv\n"
     ]
    },
    {
     "name": "stderr",
     "output_type": "stream",
     "text": [
      "2477it [40:46,  1.36it/s]"
     ]
    },
    {
     "name": "stdout",
     "output_type": "stream",
     "text": [
      "skipping /scratch/bf996/datasets/socrata/data/data.cityofnewyork.us/data-cityofnewyork-us.pvqr-7yc4.rows.csv \n",
      "\n"
     ]
    },
    {
     "name": "stderr",
     "output_type": "stream",
     "text": [
      "2488it [40:49,  4.71it/s]"
     ]
    },
    {
     "name": "stdout",
     "output_type": "stream",
     "text": [
      "Exception single positional indexer is out-of-bounds for dataframe /scratch/bf996/datasets/socrata/data/data.cityofnewyork.us/data-cityofnewyork-us.36hn-wea6.rows.csv\n",
      "skipping /scratch/bf996/datasets/socrata/data/data.cityofnewyork.us/data-cityofnewyork-us.qgea-i56i.rows.csv \n",
      "\n"
     ]
    },
    {
     "name": "stderr",
     "output_type": "stream",
     "text": [
      "2493it [40:50,  3.96it/s]"
     ]
    },
    {
     "name": "stdout",
     "output_type": "stream",
     "text": [
      "skipping /scratch/bf996/datasets/socrata/data/data.cityofnewyork.us/data-cityofnewyork-us.yrt9-58g8.rows.csv \n",
      "\n"
     ]
    },
    {
     "name": "stderr",
     "output_type": "stream",
     "text": [
      "2504it [41:10,  2.05s/it]"
     ]
    },
    {
     "name": "stdout",
     "output_type": "stream",
     "text": [
      "Exception single positional indexer is out-of-bounds for dataframe /scratch/bf996/datasets/socrata/data/data.cityofnewyork.us/data-cityofnewyork-us.m3fi-rt3k.rows.csv\n"
     ]
    },
    {
     "name": "stderr",
     "output_type": "stream",
     "text": [
      "2510it [41:16,  1.04s/it]"
     ]
    },
    {
     "name": "stdout",
     "output_type": "stream",
     "text": [
      "skipping /scratch/bf996/datasets/socrata/data/data.cityofnewyork.us/data-cityofnewyork-us.nc67-uf89.rows.csv \n",
      "\n"
     ]
    },
    {
     "name": "stderr",
     "output_type": "stream",
     "text": [
      "2520it [41:20,  2.10it/s]/state/partition1/job-31563200/ipykernel_315622/1855039622.py:16: DtypeWarning: Columns (19,20) have mixed types. Specify dtype option on import or set low_memory=False.\n",
      "  df = next(chunks)\n",
      "2530it [41:35,  1.69it/s]"
     ]
    },
    {
     "name": "stdout",
     "output_type": "stream",
     "text": [
      "Exception No columns to parse from file for dataframe /scratch/bf996/datasets/socrata/data/data.cityofnewyork.us/data-cityofnewyork-us.tk57-ks48.rows.csv\n",
      "Exception single positional indexer is out-of-bounds for dataframe /scratch/bf996/datasets/socrata/data/data.cityofnewyork.us/data-cityofnewyork-us.29fb-fum8.rows.csv\n"
     ]
    },
    {
     "name": "stderr",
     "output_type": "stream",
     "text": [
      "2539it [41:40,  2.81it/s]"
     ]
    },
    {
     "name": "stdout",
     "output_type": "stream",
     "text": [
      "skipping /scratch/bf996/datasets/socrata/data/data.cityofnewyork.us/data-cityofnewyork-us.kevu-8hby.rows.csv \n",
      "\n"
     ]
    },
    {
     "name": "stderr",
     "output_type": "stream",
     "text": [
      "2543it [41:40,  4.61it/s]"
     ]
    },
    {
     "name": "stdout",
     "output_type": "stream",
     "text": [
      "Exception single positional indexer is out-of-bounds for dataframe /scratch/bf996/datasets/socrata/data/data.cityofnewyork.us/data-cityofnewyork-us.inik-59jp.rows.csv\n"
     ]
    },
    {
     "name": "stderr",
     "output_type": "stream",
     "text": [
      "2553it [41:42,  7.84it/s]"
     ]
    },
    {
     "name": "stdout",
     "output_type": "stream",
     "text": [
      "Exception single positional indexer is out-of-bounds for dataframe /scratch/bf996/datasets/socrata/data/data.cityofnewyork.us/data-cityofnewyork-us.emnd-d8ba.rows.csv\n",
      "Exception single positional indexer is out-of-bounds for dataframe /scratch/bf996/datasets/socrata/data/data.cityofnewyork.us/data-cityofnewyork-us.yqhh-93zq.rows.csv\n"
     ]
    },
    {
     "name": "stderr",
     "output_type": "stream",
     "text": [
      "2564it [41:52,  1.18it/s]"
     ]
    },
    {
     "name": "stdout",
     "output_type": "stream",
     "text": [
      "Exception single positional indexer is out-of-bounds for dataframe /scratch/bf996/datasets/socrata/data/data.cityofnewyork.us/data-cityofnewyork-us.cuzb-dmcd.rows.csv\n"
     ]
    },
    {
     "name": "stderr",
     "output_type": "stream",
     "text": [
      "2571it [42:07,  1.59s/it]"
     ]
    },
    {
     "name": "stdout",
     "output_type": "stream",
     "text": [
      "Exception single positional indexer is out-of-bounds for dataframe /scratch/bf996/datasets/socrata/data/data.cityofnewyork.us/data-cityofnewyork-us.xip9-pe9k.rows.csv\n"
     ]
    },
    {
     "name": "stderr",
     "output_type": "stream",
     "text": [
      "2580it [42:09,  3.77it/s]"
     ]
    },
    {
     "name": "stdout",
     "output_type": "stream",
     "text": [
      "skipping /scratch/bf996/datasets/socrata/data/data.cityofnewyork.us/data-cityofnewyork-us.uzcy-9puk.rows.csv \n",
      "\n",
      "skipping /scratch/bf996/datasets/socrata/data/data.cityofnewyork.us/data-cityofnewyork-us.4fwc-j3vn.rows.csv \n",
      "\n"
     ]
    },
    {
     "name": "stderr",
     "output_type": "stream",
     "text": [
      "2587it [42:12,  2.53it/s]"
     ]
    },
    {
     "name": "stdout",
     "output_type": "stream",
     "text": [
      "skipping /scratch/bf996/datasets/socrata/data/data.cityofnewyork.us/data-cityofnewyork-us.9fnm-j6if.rows.csv \n",
      "\n"
     ]
    },
    {
     "name": "stderr",
     "output_type": "stream",
     "text": [
      "2601it [42:14,  9.25it/s]"
     ]
    },
    {
     "name": "stdout",
     "output_type": "stream",
     "text": [
      "Exception single positional indexer is out-of-bounds for dataframe /scratch/bf996/datasets/socrata/data/data.cityofnewyork.us/data-cityofnewyork-us.ph7v-u5f3.rows.csv\n",
      "skipping /scratch/bf996/datasets/socrata/data/data.cityofnewyork.us/data-cityofnewyork-us.gkne-dk5s.rows.csv \n",
      "\n"
     ]
    },
    {
     "name": "stderr",
     "output_type": "stream",
     "text": [
      "/state/partition1/job-31563200/ipykernel_315622/1855039622.py:16: DtypeWarning: Columns (6,7,8,9,10,11,14,15,17,18,19,21,22,24,25,26,27,28,29,30,32,34,35,36,37,39) have mixed types. Specify dtype option on import or set low_memory=False.\n",
      "  df = next(chunks)\n"
     ]
    },
    {
     "name": "stdout",
     "output_type": "stream",
     "text": [
      "Exception single positional indexer is out-of-bounds for dataframe /scratch/bf996/datasets/socrata/data/data.cityofnewyork.us/data-cityofnewyork-us.5uei-swth.rows.csv\n"
     ]
    },
    {
     "name": "stderr",
     "output_type": "stream",
     "text": [
      "2613it [42:16,  9.22it/s]"
     ]
    },
    {
     "name": "stdout",
     "output_type": "stream",
     "text": [
      "skipping /scratch/bf996/datasets/socrata/data/data.cityofnewyork.us/data-cityofnewyork-us.p373-rwkn.rows.csv \n",
      "\n",
      "Exception single positional indexer is out-of-bounds for dataframe /scratch/bf996/datasets/socrata/data/data.cityofnewyork.us/data-cityofnewyork-us.augs-s4dd.rows.csv\n"
     ]
    },
    {
     "name": "stderr",
     "output_type": "stream",
     "text": [
      "2624it [42:57,  2.14s/it]"
     ]
    },
    {
     "name": "stdout",
     "output_type": "stream",
     "text": [
      "Exception single positional indexer is out-of-bounds for dataframe /scratch/bf996/datasets/socrata/data/data.cityofnewyork.us/data-cityofnewyork-us.cvys-e4b6.rows.csv\n",
      "Exception single positional indexer is out-of-bounds for dataframe /scratch/bf996/datasets/socrata/data/data.cityofnewyork.us/data-cityofnewyork-us.7ffu-t6bw.rows.csv\n"
     ]
    },
    {
     "name": "stderr",
     "output_type": "stream",
     "text": [
      "2627it [42:58,  1.25s/it]"
     ]
    },
    {
     "name": "stdout",
     "output_type": "stream",
     "text": [
      "Exception single positional indexer is out-of-bounds for dataframe /scratch/bf996/datasets/socrata/data/data.cityofnewyork.us/data-cityofnewyork-us.fdpt-nzk4.rows.csv\n"
     ]
    },
    {
     "name": "stderr",
     "output_type": "stream",
     "text": [
      "2629it [42:59,  1.05s/it]/state/partition1/job-31563200/ipykernel_315622/1855039622.py:16: DtypeWarning: Columns (11,17,82,83,218,219) have mixed types. Specify dtype option on import or set low_memory=False.\n",
      "  df = next(chunks)\n",
      "2631it [43:41,  8.60s/it]"
     ]
    },
    {
     "name": "stdout",
     "output_type": "stream",
     "text": [
      "Exception end of time for dataframe /scratch/bf996/datasets/socrata/data/data.cityofnewyork.us/data-cityofnewyork-us.4tys-3tzj.rows.csv\n"
     ]
    },
    {
     "name": "stderr",
     "output_type": "stream",
     "text": [
      "2644it [43:51,  1.13s/it]"
     ]
    },
    {
     "name": "stdout",
     "output_type": "stream",
     "text": [
      "Exception single positional indexer is out-of-bounds for dataframe /scratch/bf996/datasets/socrata/data/data.cityofnewyork.us/data-cityofnewyork-us.w9ei-idxz.rows.csv\n"
     ]
    },
    {
     "name": "stderr",
     "output_type": "stream",
     "text": [
      "2648it [43:52,  2.00it/s]"
     ]
    },
    {
     "name": "stdout",
     "output_type": "stream",
     "text": [
      "Exception single positional indexer is out-of-bounds for dataframe /scratch/bf996/datasets/socrata/data/data.cityofnewyork.us/data-cityofnewyork-us.42et-jh9v.rows.csv\n"
     ]
    },
    {
     "name": "stderr",
     "output_type": "stream",
     "text": [
      "2652it [44:35,  9.13s/it]"
     ]
    },
    {
     "name": "stdout",
     "output_type": "stream",
     "text": [
      "Exception end of time for dataframe /scratch/bf996/datasets/socrata/data/data.cityofnewyork.us/data-cityofnewyork-us.ssq6-fkht.rows.csv\n",
      "Exception single positional indexer is out-of-bounds for dataframe /scratch/bf996/datasets/socrata/data/data.cityofnewyork.us/data-cityofnewyork-us.gfqj-f768.rows.csv\n"
     ]
    },
    {
     "name": "stderr",
     "output_type": "stream",
     "text": [
      "2657it [44:36,  2.92s/it]"
     ]
    },
    {
     "name": "stdout",
     "output_type": "stream",
     "text": [
      "Exception No columns to parse from file for dataframe /scratch/bf996/datasets/socrata/data/data.cityofnewyork.us/data-cityofnewyork-us.xhmm-58fn.rows.csv\n",
      "Exception single positional indexer is out-of-bounds for dataframe /scratch/bf996/datasets/socrata/data/data.cityofnewyork.us/data-cityofnewyork-us.kwvk-z7i9.rows.csv\n"
     ]
    },
    {
     "name": "stderr",
     "output_type": "stream",
     "text": [
      "\r\n",
      "2659it [44:36,  1.91s/it]"
     ]
    },
    {
     "name": "stdout",
     "output_type": "stream",
     "text": [
      "Exception single positional indexer is out-of-bounds for dataframe /scratch/bf996/datasets/socrata/data/data.cityofnewyork.us/data-cityofnewyork-us.2pg3-gcaa.rows.csv\n"
     ]
    },
    {
     "name": "stderr",
     "output_type": "stream",
     "text": [
      "2663it [44:37,  1.04it/s]"
     ]
    },
    {
     "name": "stdout",
     "output_type": "stream",
     "text": [
      "skipping /scratch/bf996/datasets/socrata/data/data.cityofnewyork.us/data-cityofnewyork-us.64uk-42ks.rows.csv \n",
      "\n"
     ]
    },
    {
     "name": "stderr",
     "output_type": "stream",
     "text": [
      "2671it [44:51,  1.65s/it]"
     ]
    },
    {
     "name": "stdout",
     "output_type": "stream",
     "text": [
      "Exception single positional indexer is out-of-bounds for dataframe /scratch/bf996/datasets/socrata/data/data.cityofnewyork.us/data-cityofnewyork-us.tmr6-dfvn.rows.csv\n",
      "Exception single positional indexer is out-of-bounds for dataframe /scratch/bf996/datasets/socrata/data/data.cityofnewyork.us/data-cityofnewyork-us.28et-rv7b.rows.csv\n"
     ]
    },
    {
     "name": "stderr",
     "output_type": "stream",
     "text": [
      "2682it [45:10,  2.78s/it]/state/partition1/job-31563200/ipykernel_315622/1855039622.py:16: DtypeWarning: Columns (9,12,13,14,15) have mixed types. Specify dtype option on import or set low_memory=False.\n",
      "  df = next(chunks)\n",
      "2698it [45:17,  6.09it/s]"
     ]
    },
    {
     "name": "stdout",
     "output_type": "stream",
     "text": [
      "skipping /scratch/bf996/datasets/socrata/data/data.cityofnewyork.us/data-cityofnewyork-us.scjx-j6np.rows.csv \n",
      "\n"
     ]
    },
    {
     "name": "stderr",
     "output_type": "stream",
     "text": [
      "2704it [45:19,  4.07it/s]"
     ]
    },
    {
     "name": "stdout",
     "output_type": "stream",
     "text": [
      "Exception No columns to parse from file for dataframe /scratch/bf996/datasets/socrata/data/data.cityofnewyork.us/data-cityofnewyork-us.hjqb-2g4j.rows.csv\n"
     ]
    },
    {
     "name": "stderr",
     "output_type": "stream",
     "text": [
      "\r\n",
      "2706it [46:00,  7.56s/it]"
     ]
    },
    {
     "name": "stdout",
     "output_type": "stream",
     "text": [
      "Exception end of time for dataframe /scratch/bf996/datasets/socrata/data/data.cityofnewyork.us/data-cityofnewyork-us.emrz-5p35.rows.csv\n"
     ]
    },
    {
     "name": "stderr",
     "output_type": "stream",
     "text": [
      "\r\n",
      "2707it [46:01,  6.09s/it]"
     ]
    },
    {
     "name": "stdout",
     "output_type": "stream",
     "text": [
      "skipping /scratch/bf996/datasets/socrata/data/data.cityofnewyork.us/data-cityofnewyork-us.thut-5mdg.rows.csv \n",
      "\n",
      "Exception single positional indexer is out-of-bounds for dataframe /scratch/bf996/datasets/socrata/data/data.cityofnewyork.us/data-cityofnewyork-us.9hyh-zkx9.rows.csv\n",
      "skipping /scratch/bf996/datasets/socrata/data/data.cityofnewyork.us/data-cityofnewyork-us.ic3t-wcy2.rows.csv \n",
      "\n"
     ]
    },
    {
     "name": "stderr",
     "output_type": "stream",
     "text": [
      "2714it [46:01,  1.86s/it]"
     ]
    },
    {
     "name": "stdout",
     "output_type": "stream",
     "text": [
      "skipping /scratch/bf996/datasets/socrata/data/data.cityofnewyork.us/data-cityofnewyork-us.a2nx-4u46.rows.csv \n",
      "\n"
     ]
    },
    {
     "name": "stderr",
     "output_type": "stream",
     "text": [
      "2735it [46:11,  4.53it/s]"
     ]
    },
    {
     "name": "stdout",
     "output_type": "stream",
     "text": [
      "Exception single positional indexer is out-of-bounds for dataframe /scratch/bf996/datasets/socrata/data/data.cityofnewyork.us/data-cityofnewyork-us.j46y-iqiq.rows.csv\n",
      "Exception single positional indexer is out-of-bounds for dataframe /scratch/bf996/datasets/socrata/data/data.cityofnewyork.us/data-cityofnewyork-us.pqg4-dm6b.rows.csv\n",
      "skipping /scratch/bf996/datasets/socrata/data/data.cityofnewyork.us/data-cityofnewyork-us.n2zq-pubd.rows.csv \n",
      "\n"
     ]
    },
    {
     "name": "stderr",
     "output_type": "stream",
     "text": [
      "\r\n",
      "2737it [46:12,  3.90it/s]"
     ]
    },
    {
     "name": "stdout",
     "output_type": "stream",
     "text": [
      "Exception single positional indexer is out-of-bounds for dataframe /scratch/bf996/datasets/socrata/data/data.cityofnewyork.us/data-cityofnewyork-us.nb39-jx2v.rows.csv\n"
     ]
    },
    {
     "name": "stderr",
     "output_type": "stream",
     "text": [
      "\r\n",
      "2738it [46:14,  1.57it/s]"
     ]
    },
    {
     "name": "stdout",
     "output_type": "stream",
     "text": [
      "Exception single positional indexer is out-of-bounds for dataframe /scratch/bf996/datasets/socrata/data/data.cityofnewyork.us/data-cityofnewyork-us.yrf7-4wry.rows.csv\n"
     ]
    },
    {
     "name": "stderr",
     "output_type": "stream",
     "text": [
      "\r\n",
      "2740it [46:14,  2.02it/s]"
     ]
    },
    {
     "name": "stdout",
     "output_type": "stream",
     "text": [
      "Exception single positional indexer is out-of-bounds for dataframe /scratch/bf996/datasets/socrata/data/data.cityofnewyork.us/data-cityofnewyork-us.by6m-6zpb.rows.csv\n"
     ]
    },
    {
     "name": "stderr",
     "output_type": "stream",
     "text": [
      "\r\n",
      "2742it [46:15,  2.62it/s]"
     ]
    },
    {
     "name": "stdout",
     "output_type": "stream",
     "text": [
      "Exception single positional indexer is out-of-bounds for dataframe /scratch/bf996/datasets/socrata/data/data.cityofnewyork.us/data-cityofnewyork-us.qm5f-frjb.rows.csv\n"
     ]
    },
    {
     "name": "stderr",
     "output_type": "stream",
     "text": [
      "2745it [46:29,  2.82s/it]"
     ]
    },
    {
     "name": "stdout",
     "output_type": "stream",
     "text": [
      "Exception single positional indexer is out-of-bounds for dataframe /scratch/bf996/datasets/socrata/data/data.cityofnewyork.us/data-cityofnewyork-us.tbgj-tdd6.rows.csv\n"
     ]
    },
    {
     "name": "stderr",
     "output_type": "stream",
     "text": [
      "\r\n",
      "2747it [46:30,  1.95s/it]"
     ]
    },
    {
     "name": "stdout",
     "output_type": "stream",
     "text": [
      "skipping /scratch/bf996/datasets/socrata/data/data.cityofnewyork.us/data-cityofnewyork-us.8y4t-faws.rows.csv \n",
      "\n"
     ]
    },
    {
     "name": "stderr",
     "output_type": "stream",
     "text": [
      "2762it [46:42,  1.17it/s]"
     ]
    },
    {
     "name": "stdout",
     "output_type": "stream",
     "text": [
      "skipping /scratch/bf996/datasets/socrata/data/data.cityofnewyork.us/data-cityofnewyork-us.f9tw-8p66.rows.csv \n",
      "\n",
      "Exception single positional indexer is out-of-bounds for dataframe /scratch/bf996/datasets/socrata/data/data.cityofnewyork.us/data-cityofnewyork-us.iwdd-99mu.rows.csv\n"
     ]
    },
    {
     "name": "stderr",
     "output_type": "stream",
     "text": [
      "2766it [46:44,  1.59it/s]"
     ]
    },
    {
     "name": "stdout",
     "output_type": "stream",
     "text": [
      "skipping /scratch/bf996/datasets/socrata/data/data.cityofnewyork.us/data-cityofnewyork-us.kxp8-n2sj.rows.csv \n",
      "\n"
     ]
    },
    {
     "name": "stderr",
     "output_type": "stream",
     "text": [
      "2770it [46:45,  3.01it/s]/state/partition1/job-31563200/ipykernel_315622/1855039622.py:16: DtypeWarning: Columns (0) have mixed types. Specify dtype option on import or set low_memory=False.\n",
      "  df = next(chunks)\n",
      "2777it [46:49,  2.59it/s]/state/partition1/job-31563200/ipykernel_315622/1855039622.py:16: DtypeWarning: Columns (23) have mixed types. Specify dtype option on import or set low_memory=False.\n",
      "  df = next(chunks)\n",
      "2779it [46:49,  3.08it/s]"
     ]
    },
    {
     "name": "stdout",
     "output_type": "stream",
     "text": [
      "Exception single positional indexer is out-of-bounds for dataframe /scratch/bf996/datasets/socrata/data/data.cityofnewyork.us/data-cityofnewyork-us.vg63-xw6u.rows.csv\n"
     ]
    },
    {
     "name": "stderr",
     "output_type": "stream",
     "text": [
      "2784it [47:31, 10.33s/it]"
     ]
    },
    {
     "name": "stdout",
     "output_type": "stream",
     "text": [
      "Exception end of time for dataframe /scratch/bf996/datasets/socrata/data/data.cityofnewyork.us/data-cityofnewyork-us.myei-c3fa.rows.csv\n"
     ]
    },
    {
     "name": "stderr",
     "output_type": "stream",
     "text": [
      "2789it [47:33,  1.02s/it]"
     ]
    },
    {
     "name": "stdout",
     "output_type": "stream",
     "text": [
      "Exception single positional indexer is out-of-bounds for dataframe /scratch/bf996/datasets/socrata/data/data.cityofnewyork.us/data-cityofnewyork-us.35sw-rdxj.rows.csv\n"
     ]
    },
    {
     "name": "stderr",
     "output_type": "stream",
     "text": [
      "\n"
     ]
    }
   ],
   "source": [
    "f_path = []\n",
    "m_path = []\n",
    "md_jsons = []\n",
    "sample_dicts = []\n",
    "sample_encodings = []\n",
    "for f, m in tqdm(zip(nyc_dfs, nyc_metadata)):\n",
    "    n = 2000000\n",
    "    size = os.path.getsize(f)\n",
    "    #TODO: large DFS\n",
    "    if size > 100000000:\n",
    "        print(f\"skipping {f} \\n\")\n",
    "        continue\n",
    "    try:\n",
    "        signal.alarm(40)\n",
    "        chunks = pd.read_csv(f, chunksize=n)\n",
    "        df = next(chunks)\n",
    "        signal.alarm(0)\n",
    "    except Exception as e:\n",
    "        print(f\"Exception {e} for dataframe {f}\")\n",
    "        continue\n",
    "    df = df.dropna(axis=1, how='all')\n",
    "    if len(df) == 0:\n",
    "        print(f\"No samples found for dataframe {f} \\n\")\n",
    "        continue\n",
    "    sample_dict = {}\n",
    "    try:\n",
    "        signal.alarm(40)\n",
    "        sample_dict = get_df_sample(df, len_context=context_length, full=True)\n",
    "        fname = str(f.name).replace(\".\", \"_\")\n",
    "        spath = \"/scratch/bf996/datasets/socrata/encodings/\" + fname + \".csv\"\n",
    "        sample_dict.to_csv(spath)\n",
    "        sample_dicts.append(spath)\n",
    "        signal.alarm(0)\n",
    "        sample_encoding = {}\n",
    "        for col in sample_dict.columns:\n",
    "            sample_str = \" \".join(str(k) for _, k in sample_dict[col].items())\n",
    "            enc = s3bert_encode([sample_str])\n",
    "            colnm = col[:12].replace(\" \", \"_\").replace(\"/\", \"\")\n",
    "            fpath = \"/scratch/bf996/datasets/socrata/encodings/\" + fname + \"_\" + colnm + \".npy\"\n",
    "            fn = open(fpath, 'wb')\n",
    "            np.save(fn, enc)\n",
    "            fn.close()            \n",
    "            sample_encoding[fname + \"_\" + colnm] = fpath\n",
    "    except Exception as e:\n",
    "        print(f\"Exception {e} for dataframe {f}\")\n",
    "        continue    \n",
    "    f_path.append(f)\n",
    "    m_path.append(m)\n",
    "    with open(m, 'r', encoding='utf-8') as alt_f:\n",
    "      md_jsons.append(json.load(alt_f))\n",
    "    #TODO: metadata embedding\n",
    "#       try:\n",
    "#         sample_encodings[\"metadata\"] = s3bert_encode([md_jsons['name'] + \" \" + md_jsons['description']])\n",
    "#       except:\n",
    "#         pass\n",
    "    sample_encodings.append(sample_encoding)"
   ]
  },
  {
   "cell_type": "code",
   "execution_count": 13,
   "metadata": {},
   "outputs": [],
   "source": [
    "context_df = pd.DataFrame({\"csv_path\" : f_path,\n",
    "                          \"meta_path\" : m_path,\n",
    "                           \"metadata\" : md_jsons,\n",
    "                           \"context\" : sample_dicts,\n",
    "                           \"encodings\" : sample_encodings,\n",
    "                          })\n",
    "\n",
    "context_df.to_csv(TARGET_PATH)"
   ]
  },
  {
   "cell_type": "code",
   "execution_count": 18,
   "metadata": {},
   "outputs": [
    {
     "data": {
      "text/plain": [
       "2224"
      ]
     },
     "execution_count": 18,
     "metadata": {},
     "output_type": "execute_result"
    }
   ],
   "source": [
    "len(context_df)"
   ]
  },
  {
   "attachments": {},
   "cell_type": "markdown",
   "metadata": {},
   "source": [
    "## Generate Similarity Matrix"
   ]
  },
  {
   "cell_type": "code",
   "execution_count": 28,
   "metadata": {},
   "outputs": [],
   "source": [
    "NYC_SIM_MAT_PATH = Path(\"/scratch/bf996/datasets/socrata/data/NYC_col_sim_matrix.json\")\n",
    "NYC_SIM_MAT_PATH.touch(exist_ok=True)"
   ]
  },
  {
   "cell_type": "code",
   "execution_count": 29,
   "metadata": {},
   "outputs": [],
   "source": [
    "context_df = pd.read_csv(TARGET_PATH)"
   ]
  },
  {
   "cell_type": "code",
   "execution_count": 30,
   "metadata": {},
   "outputs": [],
   "source": [
    "similarity_matrix = {}"
   ]
  },
  {
   "cell_type": "code",
   "execution_count": null,
   "metadata": {},
   "outputs": [
    {
     "data": {
      "application/vnd.jupyter.widget-view+json": {
       "model_id": "735d1916c14e4a689113726ad8f7b3dc",
       "version_major": 2,
       "version_minor": 0
      },
      "text/plain": [
       "  0%|          | 0/2224 [00:00<?, ?it/s]"
      ]
     },
     "metadata": {},
     "output_type": "display_data"
    },
    {
     "data": {
      "application/vnd.jupyter.widget-view+json": {
       "model_id": "38e7e1d1e599481089dbfcc23a8b303b",
       "version_major": 2,
       "version_minor": 0
      },
      "text/plain": [
       "  0%|          | 0/2224 [00:00<?, ?it/s]"
      ]
     },
     "metadata": {},
     "output_type": "display_data"
    }
   ],
   "source": [
    "for i in tqdm(range(len(context_df))):\n",
    "    d1 = literal_eval(context_df.loc[i, 'encodings'])\n",
    "    for j in tqdm(range(i, len(context_df)), leave=False):\n",
    "        sim_list = {}\n",
    "        d2 = literal_eval(context_df.loc[j, 'encodings'])\n",
    "        #t1 = pd.read_json(context_df.loc[i, 'context'], orient='records')\n",
    "#         print(\"core dataframe\")\n",
    "#         print(t1)\n",
    "        #t2 = pd.read_json(context_df.loc[j, 'context'], orient='records')\n",
    "#         print(\"comparison dataframe\")\n",
    "#         print(t2)\n",
    "        x_sents={}\n",
    "        y_sents={}\n",
    "        for k, v in d1.items():\n",
    "            with open(v, 'rb') as rdf:\n",
    "                x_sents[k]=np.load(rdf)\n",
    "        for k, v in d2.items():\n",
    "            with open(v, 'rb') as rdf:\n",
    "                y_sents[k]=np.load(rdf)\n",
    "        for xsk, xsv in x_sents.items():\n",
    "            for ysk, ysv in y_sents.items():\n",
    "                if xsk == ysk:\n",
    "                    continue\n",
    "                predv = s3bert_preds(xsv,ysv)\n",
    "                similarity_matrix[xsk + \"_\" + ysk]=predv\n",
    "#                 print(f\"results for {xsk} and {ysk} \\n\")\n",
    "#                 print(f\"context for x was {tsv}\")\n",
    "#                 print(f\"similarity was {predv}\")\n",
    "        with open(NYC_SIM_MAT_PATH, 'w', encoding='utf-8') as my_f:\n",
    "            json.dump(similarity_matrix, my_f, ensure_ascii=False, indent=4)\n",
    "print(f\"Similarity matrix assembled! Size was {len(similarity_matrix)}\")\n",
    "with open(NYC_SIM_MAT_PATH, 'w', encoding='utf-8') as my_f:\n",
    "    json.dump(similarity_matrix, my_f, ensure_ascii=False, indent=4)\n"
   ]
  },
  {
   "attachments": {},
   "cell_type": "markdown",
   "metadata": {},
   "source": [
    "## Clustering Sentence Embeddings"
   ]
  },
  {
   "cell_type": "code",
   "execution_count": null,
   "metadata": {},
   "outputs": [],
   "source": [
    "#https://blog.eduonix.com/artificial-intelligence/clustering-similar-sentences-together-using-machine-learning/"
   ]
  },
  {
   "cell_type": "code",
   "execution_count": null,
   "metadata": {},
   "outputs": [],
   "source": [
    "from gensim.models import Word2Vec\n",
    "import nltk\n",
    "import numpy as np\n",
    "from sklearn. cluster import KMeans\n",
    "from sklearn import cluster\n",
    "from sklearn import metrics\n",
    "from scipy.cluster import hierarchy\n",
    "from sklearn.cluster import AgglomerativeClustering"
   ]
  },
  {
   "cell_type": "code",
   "execution_count": null,
   "metadata": {},
   "outputs": [],
   "source": [
    "#Let X be a list of vectors"
   ]
  },
  {
   "cell_type": "code",
   "execution_count": null,
   "metadata": {},
   "outputs": [],
   "source": [
    "import matplotlib.pyplot as plt\n",
    "wcss = []\n",
    "for i in range (1,4):\n",
    "    kmeans=KMeans(n_clusters = i, init = 'k-means++', random_state = 42)\n",
    "    kmeans.fit(X)\n",
    "    wcss.append(kmeans.inertia_)\n",
    "plt.plot(range(1,4), wcss)\n",
    "plt.title( 'The Elbow Method')\n",
    "plt.xlabel ('Number of clusters')\n",
    "plt.ylabel ('WCSs')\n",
    "plt.show()"
   ]
  },
  {
   "cell_type": "code",
   "execution_count": null,
   "metadata": {},
   "outputs": [],
   "source": [
    "#n_clusters = ELBOW\n",
    "clf = KMeans(n_clusters=n_clusters,\n",
    "            max_iter=100,\n",
    "            init='kmeans++',\n",
    "            n_init=1)\n",
    "labels = clf.fit_predict(X)\n",
    "for index, sentence in enumerate(sentences):\n",
    "    print(str(labels[index]) + \":\" + str(sentence))"
   ]
  },
  {
   "attachments": {},
   "cell_type": "markdown",
   "metadata": {},
   "source": [
    "## Gather Meta-Context, Annotate with Properties (CPA)"
   ]
  },
  {
   "cell_type": "code",
   "execution_count": null,
   "metadata": {},
   "outputs": [],
   "source": [
    "\"\"\"\n",
    "1. Sample ~100x from each label cluster\n",
    "2. Assemble into a mega-sample\n",
    "3. Send to ChatGPT with a list of possible CPA annotations\n",
    "4. Apply annotations to cluster\n",
    "5. Generate cluster description based on annotations and/or summarizing metadata\n",
    "\"\"\""
   ]
  },
  {
   "attachments": {},
   "cell_type": "markdown",
   "metadata": {},
   "source": [
    "## Create LLAMA Training Dataset"
   ]
  },
  {
   "cell_type": "code",
   "execution_count": null,
   "metadata": {},
   "outputs": [],
   "source": [
    "NYC_LLAMA_TRAIN = Path(\"/scratch/bf996/datasets/socrata/data/NYC_llama_training.json\")\n",
    "instances = {}\n",
    "col_to_row = context_df.columns\n",
    "for idx, row in context_df.iterrows():\n",
    "    context = literal_eval(row[3])\n",
    "    metadata = literal_eval(row[4])\n",
    "    for k,v in context.items():\n",
    "        cont_str = \" \".join(str(s) for _, s in v.items())\n",
    "        instance = {\"Instruction\" : \"Select the category which best matches the input. \\n\", \"Input\" : cont_str, \"Output\" : k+\"\\n\"}\n",
    "        #instance = {\"Instruction\" : \"Describe the input in . \\n\", \"Input\" : , \"Output\" : metadata+\"\\n\"}\n",
    "        instances[row[0]+\"_\"+col_nm] = instance"
   ]
  },
  {
   "cell_type": "code",
   "execution_count": null,
   "metadata": {},
   "outputs": [],
   "source": [
    "df = pd.DataFrame.from_dict(data, instances='index')\n",
    "df.to_json(NYC_LLAMA_TRAIN, orient='records', indent=4)"
   ]
  }
 ],
 "metadata": {
  "kernelspec": {
   "display_name": "itorch",
   "language": "python",
   "name": "itorch"
  },
  "language_info": {
   "codemirror_mode": {
    "name": "ipython",
    "version": 3
   },
   "file_extension": ".py",
   "mimetype": "text/x-python",
   "name": "python",
   "nbconvert_exporter": "python",
   "pygments_lexer": "ipython3",
   "version": "3.9.13"
  },
  "varInspector": {
   "cols": {
    "lenName": 16,
    "lenType": 16,
    "lenVar": 40
   },
   "kernels_config": {
    "python": {
     "delete_cmd_postfix": "",
     "delete_cmd_prefix": "del ",
     "library": "var_list.py",
     "varRefreshCmd": "print(var_dic_list())"
    },
    "r": {
     "delete_cmd_postfix": ") ",
     "delete_cmd_prefix": "rm(",
     "library": "var_list.r",
     "varRefreshCmd": "cat(var_dic_list()) "
    }
   },
   "types_to_exclude": [
    "module",
    "function",
    "builtin_function_or_method",
    "instance",
    "_Feature"
   ],
   "window_display": false
  }
 },
 "nbformat": 4,
 "nbformat_minor": 4
}
