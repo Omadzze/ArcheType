{
 "cells": [
  {
   "cell_type": "code",
   "execution_count": 18,
   "id": "420709a4",
   "metadata": {},
   "outputs": [],
   "source": [
    "import pandas as pd\n",
    "from pathlib import Path"
   ]
  },
  {
   "cell_type": "code",
   "execution_count": 19,
   "id": "59ad0587",
   "metadata": {},
   "outputs": [],
   "source": [
    "chorus_classnames = [\n",
    "    \"artist\", \"address\", \"city\", \"director\", \"album\", \"currency\", \"product\", \"isbn\", \"manufacturer\", \"birthDate\",\n",
    "]"
   ]
  },
  {
   "cell_type": "code",
   "execution_count": 20,
   "id": "1ec0c872",
   "metadata": {},
   "outputs": [],
   "source": [
    "target_files = [\n",
    "    \"/home/bf996/archetype/data/VizNet/sato_cv_0.csv\",\n",
    "    \"/home/bf996/archetype/data/VizNet/sato_cv_1.csv\",\n",
    "    \"/home/bf996/archetype/data/VizNet/sato_cv_2.csv\",\n",
    "    \"/home/bf996/archetype/data/VizNet/sato_cv_3.csv\",\n",
    "    \"/home/bf996/archetype/data/VizNet/sato_cv_4.csv\",\n",
    "]"
   ]
  },
  {
   "cell_type": "code",
   "execution_count": 21,
   "id": "97a8daeb",
   "metadata": {},
   "outputs": [],
   "source": [
    "dfs = pd.concat([pd.read_csv(x) for x in target_files])"
   ]
  },
  {
   "cell_type": "code",
   "execution_count": 22,
   "id": "6b54a0c8",
   "metadata": {},
   "outputs": [
    {
     "data": {
      "text/plain": [
       "119360"
      ]
     },
     "execution_count": 22,
     "metadata": {},
     "output_type": "execute_result"
    }
   ],
   "source": [
    "len(dfs)"
   ]
  },
  {
   "cell_type": "code",
   "execution_count": 23,
   "id": "20ed5f79",
   "metadata": {},
   "outputs": [
    {
     "name": "stdout",
     "output_type": "stream",
     "text": [
      "78\n"
     ]
    }
   ],
   "source": [
    "print(len(pd.unique(dfs['class'])))"
   ]
  },
  {
   "cell_type": "code",
   "execution_count": 24,
   "id": "257ac436",
   "metadata": {},
   "outputs": [
    {
     "name": "stdout",
     "output_type": "stream",
     "text": [
      "['name' 'rank' 'city' 'year' 'status' 'age' 'club' 'class' 'team' 'result'\n",
      " 'company' 'symbol' 'artist' 'location' 'notes' 'weight' 'type' 'day'\n",
      " 'state' 'description' 'address' 'category' 'position' 'person' 'code'\n",
      " 'plays' 'gender' 'service' 'album' 'duration' 'format' 'area' 'range'\n",
      " 'elevation' 'currency' 'credit' 'depth' 'fileSize' 'component' 'country'\n",
      " 'county' 'industry' 'product' 'teamName' 'birthDate' 'sex' 'jockey'\n",
      " 'owner' 'publisher' 'language' 'nationality' 'affiliation' 'origin'\n",
      " 'creator' 'order' 'affiliate' 'collection' 'family' 'capacity'\n",
      " 'classification' 'grades' 'birthPlace' 'requirement' 'species' 'ranking'\n",
      " 'region' 'isbn' 'genre' 'brand' 'religion' 'manufacturer' 'continent'\n",
      " 'command' 'sales' 'operator' 'education' 'director' 'organisation']\n"
     ]
    }
   ],
   "source": [
    "print(pd.unique(dfs['class']))"
   ]
  },
  {
   "cell_type": "code",
   "execution_count": 25,
   "id": "706d6d25",
   "metadata": {},
   "outputs": [
    {
     "data": {
      "text/html": [
       "<div>\n",
       "<style scoped>\n",
       "    .dataframe tbody tr th:only-of-type {\n",
       "        vertical-align: middle;\n",
       "    }\n",
       "\n",
       "    .dataframe tbody tr th {\n",
       "        vertical-align: top;\n",
       "    }\n",
       "\n",
       "    .dataframe thead th {\n",
       "        text-align: right;\n",
       "    }\n",
       "</style>\n",
       "<table border=\"1\" class=\"dataframe\">\n",
       "  <thead>\n",
       "    <tr style=\"text-align: right;\">\n",
       "      <th></th>\n",
       "      <th>table_id</th>\n",
       "      <th>col_idx</th>\n",
       "      <th>class</th>\n",
       "      <th>class_id</th>\n",
       "      <th>data</th>\n",
       "    </tr>\n",
       "  </thead>\n",
       "  <tbody>\n",
       "    <tr>\n",
       "      <th>14494</th>\n",
       "      <td>webtables2/K4/0_1438042987171.38;warc;CC-MAIN-...</td>\n",
       "      <td>1</td>\n",
       "      <td>city</td>\n",
       "      <td>12</td>\n",
       "      <td>Memphis (HQ) Nashville Memphis (HQ)</td>\n",
       "    </tr>\n",
       "    <tr>\n",
       "      <th>6725</th>\n",
       "      <td>webtables1/K4/0_1438042986022.41;warc;CC-MAIN-...</td>\n",
       "      <td>0</td>\n",
       "      <td>club</td>\n",
       "      <td>15</td>\n",
       "      <td>Houston Dynamo Houston Dynamo</td>\n",
       "    </tr>\n",
       "    <tr>\n",
       "      <th>3113</th>\n",
       "      <td>webtables1/K1/0_1438042986022.41;warc;CC-MAIN-...</td>\n",
       "      <td>0</td>\n",
       "      <td>status</td>\n",
       "      <td>71</td>\n",
       "      <td>canceled/ended (2008-2009 season) canceled/end...</td>\n",
       "    </tr>\n",
       "    <tr>\n",
       "      <th>5719</th>\n",
       "      <td>webtables1/K2/0_1438042986022.41;warc;CC-MAIN-...</td>\n",
       "      <td>0</td>\n",
       "      <td>team</td>\n",
       "      <td>73</td>\n",
       "      <td>EAST WBS</td>\n",
       "    </tr>\n",
       "    <tr>\n",
       "      <th>11462</th>\n",
       "      <td>webtables1/K4/0_1438042986022.41;warc;CC-MAIN-...</td>\n",
       "      <td>0</td>\n",
       "      <td>team</td>\n",
       "      <td>73</td>\n",
       "      <td>Broncos Cowboys Roosters Rabbitohs Storm Shark...</td>\n",
       "    </tr>\n",
       "    <tr>\n",
       "      <th>10583</th>\n",
       "      <td>webtables1/K2/0_1438042986022.41;warc;CC-MAIN-...</td>\n",
       "      <td>0</td>\n",
       "      <td>description</td>\n",
       "      <td>29</td>\n",
       "      <td>Show only sites with or without reviews. Only ...</td>\n",
       "    </tr>\n",
       "    <tr>\n",
       "      <th>23653</th>\n",
       "      <td>webtables2/K3/0_1438042987171.38;warc;CC-MAIN-...</td>\n",
       "      <td>0</td>\n",
       "      <td>team</td>\n",
       "      <td>73</td>\n",
       "      <td>18. MK Dons 19. Preston 20. Q.P.R. 21. Reading...</td>\n",
       "    </tr>\n",
       "    <tr>\n",
       "      <th>15204</th>\n",
       "      <td>webtables2/K4/0_1438042987171.38;warc;CC-MAIN-...</td>\n",
       "      <td>1</td>\n",
       "      <td>category</td>\n",
       "      <td>11</td>\n",
       "      <td>PER PER TS% eFG% eFG% eFG% EFF EFF/40 WS/40 Pt...</td>\n",
       "    </tr>\n",
       "    <tr>\n",
       "      <th>21877</th>\n",
       "      <td>webtables2/K4/0_1438042987171.38;warc;CC-MAIN-...</td>\n",
       "      <td>0</td>\n",
       "      <td>team</td>\n",
       "      <td>73</td>\n",
       "      <td>Alabama Oregon Florida State Ohio State Baylor...</td>\n",
       "    </tr>\n",
       "    <tr>\n",
       "      <th>14364</th>\n",
       "      <td>webtables2/K2/0_1438042987171.38;warc;CC-MAIN-...</td>\n",
       "      <td>1</td>\n",
       "      <td>description</td>\n",
       "      <td>29</td>\n",
       "      <td>NADPL…PPLKG → SHWNWRTRLLGWV in isoform 3. 1 Pu...</td>\n",
       "    </tr>\n",
       "  </tbody>\n",
       "</table>\n",
       "</div>"
      ],
      "text/plain": [
       "                                                table_id  col_idx  \\\n",
       "14494  webtables2/K4/0_1438042987171.38;warc;CC-MAIN-...        1   \n",
       "6725   webtables1/K4/0_1438042986022.41;warc;CC-MAIN-...        0   \n",
       "3113   webtables1/K1/0_1438042986022.41;warc;CC-MAIN-...        0   \n",
       "5719   webtables1/K2/0_1438042986022.41;warc;CC-MAIN-...        0   \n",
       "11462  webtables1/K4/0_1438042986022.41;warc;CC-MAIN-...        0   \n",
       "10583  webtables1/K2/0_1438042986022.41;warc;CC-MAIN-...        0   \n",
       "23653  webtables2/K3/0_1438042987171.38;warc;CC-MAIN-...        0   \n",
       "15204  webtables2/K4/0_1438042987171.38;warc;CC-MAIN-...        1   \n",
       "21877  webtables2/K4/0_1438042987171.38;warc;CC-MAIN-...        0   \n",
       "14364  webtables2/K2/0_1438042987171.38;warc;CC-MAIN-...        1   \n",
       "\n",
       "             class  class_id  \\\n",
       "14494         city        12   \n",
       "6725          club        15   \n",
       "3113        status        71   \n",
       "5719          team        73   \n",
       "11462         team        73   \n",
       "10583  description        29   \n",
       "23653         team        73   \n",
       "15204     category        11   \n",
       "21877         team        73   \n",
       "14364  description        29   \n",
       "\n",
       "                                                    data  \n",
       "14494                Memphis (HQ) Nashville Memphis (HQ)  \n",
       "6725                       Houston Dynamo Houston Dynamo  \n",
       "3113   canceled/ended (2008-2009 season) canceled/end...  \n",
       "5719                                            EAST WBS  \n",
       "11462  Broncos Cowboys Roosters Rabbitohs Storm Shark...  \n",
       "10583  Show only sites with or without reviews. Only ...  \n",
       "23653  18. MK Dons 19. Preston 20. Q.P.R. 21. Reading...  \n",
       "15204  PER PER TS% eFG% eFG% eFG% EFF EFF/40 WS/40 Pt...  \n",
       "21877  Alabama Oregon Florida State Ohio State Baylor...  \n",
       "14364  NADPL…PPLKG → SHWNWRTRLLGWV in isoform 3. 1 Pu...  "
      ]
     },
     "execution_count": 25,
     "metadata": {},
     "output_type": "execute_result"
    }
   ],
   "source": [
    "dfs.sample(10)"
   ]
  },
  {
   "cell_type": "code",
   "execution_count": 26,
   "id": "656aba56",
   "metadata": {},
   "outputs": [
    {
     "data": {
      "text/plain": [
       "10739"
      ]
     },
     "execution_count": 26,
     "metadata": {},
     "output_type": "execute_result"
    }
   ],
   "source": [
    "dfss = dfs[dfs['class'].isin(chorus_classnames)]\n",
    "len(dfss)"
   ]
  },
  {
   "cell_type": "code",
   "execution_count": 27,
   "id": "e65f57e6",
   "metadata": {},
   "outputs": [],
   "source": [
    "#NOTE: fails when replace is false\n"
   ]
  },
  {
   "cell_type": "code",
   "execution_count": 29,
   "id": "24952fc6",
   "metadata": {},
   "outputs": [
    {
     "name": "stdout",
     "output_type": "stream",
     "text": [
      "artist\n",
      "1930\n",
      "address\n",
      "836\n",
      "city\n",
      "5004\n",
      "director\n",
      "33\n",
      "album\n",
      "1375\n",
      "currency\n",
      "33\n",
      "product\n",
      "330\n",
      "isbn\n",
      "228\n",
      "manufacturer\n",
      "122\n",
      "birthDate\n",
      "64\n"
     ]
    }
   ],
   "source": [
    "for c in chorus_classnames:\n",
    "    print(c)\n",
    "    print(len(pd.unique(dfss[dfss['class'] == c]['data'])))"
   ]
  },
  {
   "cell_type": "code",
   "execution_count": 31,
   "id": "a96511a3",
   "metadata": {},
   "outputs": [],
   "source": [
    "chorus_small_classnames = [\n",
    "    \"director\", \"currency\", \"birthDate\",\n",
    "]\n",
    "\n",
    "chorus_large_classnames = [\n",
    "    \"artist\", \"address\", \"city\", \"album\", \"product\", \"isbn\", \"manufacturer\",\n",
    "]"
   ]
  },
  {
   "cell_type": "code",
   "execution_count": 37,
   "id": "3d8e1dca",
   "metadata": {},
   "outputs": [],
   "source": [
    "dftest = pd.concat([\n",
    "    dfs[dfs['class'].isin(chorus_small_classnames)].groupby('class', group_keys=False).apply(lambda x: x.sample(33, replace=False)),\n",
    "    dfs[dfs['class'].isin(chorus_small_classnames)].groupby('class', group_keys=False).apply(lambda x: x.sample(67, replace=True)),\n",
    "    dfs[dfs['class'].isin(chorus_large_classnames)].groupby('class', group_keys=False).apply(lambda x: x.sample(100, replace=False)),\n",
    "])"
   ]
  },
  {
   "cell_type": "code",
   "execution_count": 38,
   "id": "f9fd28cf",
   "metadata": {},
   "outputs": [
    {
     "data": {
      "text/plain": [
       "1000"
      ]
     },
     "execution_count": 38,
     "metadata": {},
     "output_type": "execute_result"
    }
   ],
   "source": [
    "len(dftest)"
   ]
  },
  {
   "cell_type": "code",
   "execution_count": 39,
   "id": "c2049ae1",
   "metadata": {},
   "outputs": [
    {
     "name": "stdout",
     "output_type": "stream",
     "text": [
      "artist\n",
      "99\n",
      "address\n",
      "100\n",
      "city\n",
      "100\n",
      "director\n",
      "33\n",
      "album\n",
      "99\n",
      "currency\n",
      "26\n",
      "product\n",
      "95\n",
      "isbn\n",
      "100\n",
      "manufacturer\n",
      "86\n",
      "birthDate\n",
      "54\n"
     ]
    }
   ],
   "source": [
    "for c in chorus_classnames:\n",
    "    print(c)\n",
    "    print(len(pd.unique(dftest[dftest['class'] == c]['data'])))"
   ]
  },
  {
   "cell_type": "code",
   "execution_count": 41,
   "id": "fdef2217",
   "metadata": {},
   "outputs": [],
   "source": [
    "dftest.to_csv(\"/home/bf996/archetype/data/VizNet/VizNet_chorus_test.csv\", index=False)"
   ]
  }
 ],
 "metadata": {
  "kernelspec": {
   "display_name": "Python 3 (ipykernel)",
   "language": "python",
   "name": "python3"
  },
  "language_info": {
   "codemirror_mode": {
    "name": "ipython",
    "version": 3
   },
   "file_extension": ".py",
   "mimetype": "text/x-python",
   "name": "python",
   "nbconvert_exporter": "python",
   "pygments_lexer": "ipython3",
   "version": "3.10.5"
  }
 },
 "nbformat": 4,
 "nbformat_minor": 5
}
