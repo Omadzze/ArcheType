{
 "cells": [
  {
   "cell_type": "code",
   "id": "initial_id",
   "metadata": {
    "collapsed": true,
    "tags": [
     "parameters"
    ],
    "trusted": false,
    "ExecuteTime": {
     "end_time": "2025-08-20T08:42:19.175656Z",
     "start_time": "2025-08-20T08:42:19.169957Z"
    }
   },
   "source": [
    "data_path = \"/home/omadbek/projects/Sherlock/custom_data/label_generation/test_data_generation.parquet\"\n",
    "labels_path = \"/home/omadbek/projects/Sherlock/custom_data/label_generation/test_labels_generation.parquet\"\n",
    "archetype_directory = \"/home/omadbek/projects/ArcheType\"\n",
    "run_all_directory = \"/home/omadbek/projects/run_all\"\n",
    "prompt_type = \"chain-thoughts\"\n",
    "PAPERMILL_ROOT = \"/home/omadbek/projects/ArcheType/papermill_notebooks\""
   ],
   "outputs": [],
   "execution_count": 1
  },
  {
   "metadata": {
    "trusted": false,
    "ExecuteTime": {
     "end_time": "2025-08-20T08:42:20.493978Z",
     "start_time": "2025-08-20T08:42:19.822058Z"
    }
   },
   "cell_type": "code",
   "source": "import os\nimport json\nimport subprocess\nimport pandas as pd\nfrom sklearn.metrics import classification_report, accuracy_score\nfrom pathlib import Path\nimport shutil",
   "id": "bc31bb66f86af84",
   "outputs": [],
   "execution_count": 2
  },
  {
   "metadata": {
    "trusted": false,
    "ExecuteTime": {
     "end_time": "2025-08-20T08:42:21.004270Z",
     "start_time": "2025-08-20T08:42:21.000902Z"
    }
   },
   "cell_type": "code",
   "source": "# Setting up CUDA devices for training and inference\ntraining_env = os.environ.copy()\ntraining_env[\"CUDA_VISIBLE_DEVICES\"] = \"4,5,6,7\"\n\ninference_env = os.environ.copy()\ninference_env[\"CUDA_VISIBLE_DEVICES\"] = \"6,7\"",
   "id": "63562e411fa9412c",
   "outputs": [],
   "execution_count": 3
  },
  {
   "metadata": {
    "trusted": false,
    "ExecuteTime": {
     "end_time": "2025-08-20T09:52:32.853318Z",
     "start_time": "2025-08-20T08:42:39.573736Z"
    }
   },
   "cell_type": "code",
   "source": "# Model inferencing\nN_RUNS = 10\ninference_results = []\nCONDA_BIN = \"/opt/anaconda3/condabin/conda\"\n\nfor run_idx in range(1, N_RUNS + 1):\n    run_id = f\"llama_run{run_idx}\"\n    pm_cmd = [\n        CONDA_BIN, \"run\", \"-n\", \"archetype\",\n        \"--no-capture-output\",\n        \"papermill\",\n        \"label-generation.ipynb\",\n        f\"{PAPERMILL_ROOT}/test_out_{run_id}.ipynb\",\n        \"-p\", \"tune\", run_id,\n        \"-p\", \"data_path\", data_path,\n        \"-p\", \"labels_path\", labels_path,\n        \"-p\", \"archetype_directory\", archetype_directory,\n        \"-p\", \"run_all_directory\", run_all_directory,\n        \"-p\", \"prompt_type\", prompt_type  #zero-shot, \"few-shot\", \"chain-thoughts\"\n    ]\n    print(f\"→ INFERENCE {run_id}\")\n    subprocess.run(pm_cmd, check=True, env=inference_env, cwd=f\"{archetype_directory}/notebooks\")\n",
   "id": "9dfe93bcd0c2b030",
   "outputs": [
    {
     "name": "stdout",
     "output_type": "stream",
     "text": [
      "→ INFERENCE llama_run1\n"
     ]
    },
    {
     "name": "stderr",
     "output_type": "stream",
     "text": [
      "/home/omadbek/.conda/envs/archetype/lib/python3.11/site-packages/requests/__init__.py:86: RequestsDependencyWarning: Unable to find acceptable character detection dependency (chardet or charset_normalizer).\n",
      "  warnings.warn(\n",
      "Input Notebook:  label-generation.ipynb\n",
      "Output Notebook: /home/omadbek/projects/ArcheType/papermill_notebooks/test_out_llama_run1.ipynb\n",
      "Executing:   0%|          | 0/43 [00:00<?, ?cell/s]Executing notebook with kernel: python3\n",
      "Executing: 100%|██████████| 43/43 [06:58<00:00,  9.74s/cell]\n"
     ]
    },
    {
     "name": "stdout",
     "output_type": "stream",
     "text": [
      "→ INFERENCE llama_run2\n"
     ]
    },
    {
     "name": "stderr",
     "output_type": "stream",
     "text": [
      "/home/omadbek/.conda/envs/archetype/lib/python3.11/site-packages/requests/__init__.py:86: RequestsDependencyWarning: Unable to find acceptable character detection dependency (chardet or charset_normalizer).\n",
      "  warnings.warn(\n",
      "Input Notebook:  label-generation.ipynb\n",
      "Output Notebook: /home/omadbek/projects/ArcheType/papermill_notebooks/test_out_llama_run2.ipynb\n",
      "Executing:   0%|          | 0/43 [00:00<?, ?cell/s]Executing notebook with kernel: python3\n",
      "Executing: 100%|██████████| 43/43 [06:59<00:00,  9.75s/cell]\n"
     ]
    },
    {
     "name": "stdout",
     "output_type": "stream",
     "text": [
      "→ INFERENCE llama_run3\n"
     ]
    },
    {
     "name": "stderr",
     "output_type": "stream",
     "text": [
      "/home/omadbek/.conda/envs/archetype/lib/python3.11/site-packages/requests/__init__.py:86: RequestsDependencyWarning: Unable to find acceptable character detection dependency (chardet or charset_normalizer).\n",
      "  warnings.warn(\n",
      "Input Notebook:  label-generation.ipynb\n",
      "Output Notebook: /home/omadbek/projects/ArcheType/papermill_notebooks/test_out_llama_run3.ipynb\n",
      "Executing:   0%|          | 0/43 [00:00<?, ?cell/s]Executing notebook with kernel: python3\n",
      "Executing: 100%|██████████| 43/43 [06:58<00:00,  9.73s/cell]\n"
     ]
    },
    {
     "name": "stdout",
     "output_type": "stream",
     "text": [
      "→ INFERENCE llama_run4\n"
     ]
    },
    {
     "name": "stderr",
     "output_type": "stream",
     "text": [
      "/home/omadbek/.conda/envs/archetype/lib/python3.11/site-packages/requests/__init__.py:86: RequestsDependencyWarning: Unable to find acceptable character detection dependency (chardet or charset_normalizer).\n",
      "  warnings.warn(\n",
      "Input Notebook:  label-generation.ipynb\n",
      "Output Notebook: /home/omadbek/projects/ArcheType/papermill_notebooks/test_out_llama_run4.ipynb\n",
      "Executing:   0%|          | 0/43 [00:00<?, ?cell/s]Executing notebook with kernel: python3\n",
      "Executing: 100%|██████████| 43/43 [06:59<00:00,  9.76s/cell]\n"
     ]
    },
    {
     "name": "stdout",
     "output_type": "stream",
     "text": [
      "→ INFERENCE llama_run5\n"
     ]
    },
    {
     "name": "stderr",
     "output_type": "stream",
     "text": [
      "/home/omadbek/.conda/envs/archetype/lib/python3.11/site-packages/requests/__init__.py:86: RequestsDependencyWarning: Unable to find acceptable character detection dependency (chardet or charset_normalizer).\n",
      "  warnings.warn(\n",
      "Input Notebook:  label-generation.ipynb\n",
      "Output Notebook: /home/omadbek/projects/ArcheType/papermill_notebooks/test_out_llama_run5.ipynb\n",
      "Executing:   0%|          | 0/43 [00:00<?, ?cell/s]Executing notebook with kernel: python3\n",
      "Executing: 100%|██████████| 43/43 [06:54<00:00,  9.65s/cell]\n"
     ]
    },
    {
     "name": "stdout",
     "output_type": "stream",
     "text": [
      "→ INFERENCE llama_run6\n"
     ]
    },
    {
     "name": "stderr",
     "output_type": "stream",
     "text": [
      "/home/omadbek/.conda/envs/archetype/lib/python3.11/site-packages/requests/__init__.py:86: RequestsDependencyWarning: Unable to find acceptable character detection dependency (chardet or charset_normalizer).\n",
      "  warnings.warn(\n",
      "Input Notebook:  label-generation.ipynb\n",
      "Output Notebook: /home/omadbek/projects/ArcheType/papermill_notebooks/test_out_llama_run6.ipynb\n",
      "Executing:   0%|          | 0/43 [00:00<?, ?cell/s]Executing notebook with kernel: python3\n",
      "Executing: 100%|██████████| 43/43 [06:54<00:00,  9.65s/cell]\n"
     ]
    },
    {
     "name": "stdout",
     "output_type": "stream",
     "text": [
      "→ INFERENCE llama_run7\n"
     ]
    },
    {
     "name": "stderr",
     "output_type": "stream",
     "text": [
      "/home/omadbek/.conda/envs/archetype/lib/python3.11/site-packages/requests/__init__.py:86: RequestsDependencyWarning: Unable to find acceptable character detection dependency (chardet or charset_normalizer).\n",
      "  warnings.warn(\n",
      "Input Notebook:  label-generation.ipynb\n",
      "Output Notebook: /home/omadbek/projects/ArcheType/papermill_notebooks/test_out_llama_run7.ipynb\n",
      "Executing:   0%|          | 0/43 [00:00<?, ?cell/s]Executing notebook with kernel: python3\n",
      "Executing: 100%|██████████| 43/43 [06:58<00:00,  9.74s/cell]\n"
     ]
    },
    {
     "name": "stdout",
     "output_type": "stream",
     "text": [
      "→ INFERENCE llama_run8\n"
     ]
    },
    {
     "name": "stderr",
     "output_type": "stream",
     "text": [
      "/home/omadbek/.conda/envs/archetype/lib/python3.11/site-packages/requests/__init__.py:86: RequestsDependencyWarning: Unable to find acceptable character detection dependency (chardet or charset_normalizer).\n",
      "  warnings.warn(\n",
      "Input Notebook:  label-generation.ipynb\n",
      "Output Notebook: /home/omadbek/projects/ArcheType/papermill_notebooks/test_out_llama_run8.ipynb\n",
      "Executing:   0%|          | 0/43 [00:00<?, ?cell/s]Executing notebook with kernel: python3\n",
      "Executing: 100%|██████████| 43/43 [06:58<00:00,  9.74s/cell]\n"
     ]
    },
    {
     "name": "stdout",
     "output_type": "stream",
     "text": [
      "→ INFERENCE llama_run9\n"
     ]
    },
    {
     "name": "stderr",
     "output_type": "stream",
     "text": [
      "/home/omadbek/.conda/envs/archetype/lib/python3.11/site-packages/requests/__init__.py:86: RequestsDependencyWarning: Unable to find acceptable character detection dependency (chardet or charset_normalizer).\n",
      "  warnings.warn(\n",
      "Input Notebook:  label-generation.ipynb\n",
      "Output Notebook: /home/omadbek/projects/ArcheType/papermill_notebooks/test_out_llama_run9.ipynb\n",
      "Executing:   0%|          | 0/43 [00:00<?, ?cell/s]Executing notebook with kernel: python3\n",
      "Executing: 100%|██████████| 43/43 [06:57<00:00,  9.71s/cell]\n"
     ]
    },
    {
     "name": "stdout",
     "output_type": "stream",
     "text": [
      "→ INFERENCE llama_run10\n"
     ]
    },
    {
     "name": "stderr",
     "output_type": "stream",
     "text": [
      "/home/omadbek/.conda/envs/archetype/lib/python3.11/site-packages/requests/__init__.py:86: RequestsDependencyWarning: Unable to find acceptable character detection dependency (chardet or charset_normalizer).\n",
      "  warnings.warn(\n",
      "Input Notebook:  label-generation.ipynb\n",
      "Output Notebook: /home/omadbek/projects/ArcheType/papermill_notebooks/test_out_llama_run10.ipynb\n",
      "Executing:   0%|          | 0/43 [00:00<?, ?cell/s]Executing notebook with kernel: python3\n",
      "Executing: 100%|██████████| 43/43 [07:01<00:00,  9.79s/cell]\n"
     ]
    }
   ],
   "execution_count": 5
  },
  {
   "metadata": {
    "trusted": false
   },
   "cell_type": "code",
   "source": "",
   "id": "5382ba6b89e02d27",
   "outputs": [],
   "execution_count": null
  }
 ],
 "metadata": {
  "kernelspec": {
   "display_name": "Python 3 (ipykernel)",
   "language": "python",
   "name": "python3"
  },
  "language_info": {
   "codemirror_mode": {
    "name": "ipython",
    "version": 2
   },
   "file_extension": ".py",
   "mimetype": "text/x-python",
   "name": "python",
   "nbconvert_exporter": "python",
   "pygments_lexer": "ipython2",
   "version": "2.7.6"
  }
 },
 "nbformat": 4,
 "nbformat_minor": 5
}
